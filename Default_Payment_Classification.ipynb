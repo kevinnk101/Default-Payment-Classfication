{
  "cells": [
    {
      "cell_type": "markdown",
      "metadata": {
        "id": "hlEsAQiTgTey"
      },
      "source": [
        "SELECT \n",
        "    CAST(sex as INT64)AS sex,\n",
        "    CAST(education_level as INT64)AS education_level,\n",
        "    CAST(marital_status as INT64)AS marital_status,\n",
        "    SAFE_CAST(pay_5 as FLOAT64)AS pay_5,\n",
        "    SAFE_CAST(pay_6 as FLOAT64)AS pay_6,\n",
        "    CAST(default_payment_next_month as INT64)AS default_payment_next_month,\n",
        "    limit_balance,\n",
        "    age,\n",
        "    pay_0, pay_2, pay_3, pay_4, \n",
        "    bill_amt_1, bill_amt_2, bill_amt_3, bill_amt_4, bill_amt_5, bill_amt_6, \n",
        "    pay_amt_1, pay_amt_2, pay_amt_3, pay_amt_4, pay_amt_5, pay_amt_6\n",
        "FROM `bigquery-public-data.ml_datasets.credit_card_default` LIMIT 7984 1996*4"
      ]
    },
    {
      "cell_type": "markdown",
      "metadata": {
        "id": "P9KsW18HFM1j"
      },
      "source": [
        "##1.INTRODUCTION"
      ]
    },
    {
      "cell_type": "markdown",
      "metadata": {
        "id": "g60hXCsXiGBT"
      },
      "source": [
        "INTRODUCTION\n",
        "\n",
        "NAMA : KEVIN NUR KURNIA\n",
        "\n",
        "PROGRAM :FTDS BATCH 3"
      ]
    },
    {
      "cell_type": "markdown",
      "metadata": {
        "id": "QiLQVN1lWjzU"
      },
      "source": [
        "OBJECTIVE : Memahami kondisi bisnis dan membuat model Classification untuk memprediksi default_payment_next_month.\n",
        "\n",
        "PROBLEM STATEMENT :\n",
        "\n",
        "1. Memahami kondisi bisnis lewat Exploaratory Data Analysis\n",
        "2. Mencoba berbagai Model evaluasi untuk mendapatkan model classification terbaik\n",
        "3. Melakukan tuning pada model terbaik agar mendapat hasil model classification terbaik\n",
        "4. Mmebuat Model Inference"
      ]
    },
    {
      "cell_type": "code",
      "execution_count": null,
      "metadata": {
        "colab": {
          "base_uri": "https://localhost:8080/"
        },
        "id": "WK_uv4BupwRO",
        "outputId": "40205145-427a-4bdc-8f09-dfc3448d80e2"
      },
      "outputs": [
        {
          "output_type": "stream",
          "name": "stdout",
          "text": [
            "Looking in indexes: https://pypi.org/simple, https://us-python.pkg.dev/colab-wheels/public/simple/\n",
            "Requirement already satisfied: phik in /usr/local/lib/python3.9/dist-packages (0.12.3)\n",
            "Requirement already satisfied: pandas>=0.25.1 in /usr/local/lib/python3.9/dist-packages (from phik) (1.3.5)\n",
            "Requirement already satisfied: scipy>=1.5.2 in /usr/local/lib/python3.9/dist-packages (from phik) (1.10.1)\n",
            "Requirement already satisfied: matplotlib>=2.2.3 in /usr/local/lib/python3.9/dist-packages (from phik) (3.5.3)\n",
            "Requirement already satisfied: joblib>=0.14.1 in /usr/local/lib/python3.9/dist-packages (from phik) (1.2.0)\n",
            "Requirement already satisfied: numpy>=1.18.0 in /usr/local/lib/python3.9/dist-packages (from phik) (1.22.4)\n",
            "Requirement already satisfied: python-dateutil>=2.7 in /usr/local/lib/python3.9/dist-packages (from matplotlib>=2.2.3->phik) (2.8.2)\n",
            "Requirement already satisfied: pyparsing>=2.2.1 in /usr/local/lib/python3.9/dist-packages (from matplotlib>=2.2.3->phik) (3.0.9)\n",
            "Requirement already satisfied: pillow>=6.2.0 in /usr/local/lib/python3.9/dist-packages (from matplotlib>=2.2.3->phik) (8.4.0)\n",
            "Requirement already satisfied: kiwisolver>=1.0.1 in /usr/local/lib/python3.9/dist-packages (from matplotlib>=2.2.3->phik) (1.4.4)\n",
            "Requirement already satisfied: packaging>=20.0 in /usr/local/lib/python3.9/dist-packages (from matplotlib>=2.2.3->phik) (23.0)\n",
            "Requirement already satisfied: fonttools>=4.22.0 in /usr/local/lib/python3.9/dist-packages (from matplotlib>=2.2.3->phik) (4.39.0)\n",
            "Requirement already satisfied: cycler>=0.10 in /usr/local/lib/python3.9/dist-packages (from matplotlib>=2.2.3->phik) (0.11.0)\n",
            "Requirement already satisfied: pytz>=2017.3 in /usr/local/lib/python3.9/dist-packages (from pandas>=0.25.1->phik) (2022.7.1)\n",
            "Requirement already satisfied: six>=1.5 in /usr/local/lib/python3.9/dist-packages (from python-dateutil>=2.7->matplotlib>=2.2.3->phik) (1.15.0)\n"
          ]
        }
      ],
      "source": [
        "#Install phik\n",
        "!pip install phik"
      ]
    },
    {
      "cell_type": "markdown",
      "metadata": {
        "id": "SItmmUofiNjD"
      },
      "source": [
        "##2.IMPORT LIBRARY"
      ]
    },
    {
      "cell_type": "code",
      "execution_count": null,
      "metadata": {
        "id": "blCqqrkpgaXp"
      },
      "outputs": [],
      "source": [
        "import pandas as pd\n",
        "import numpy as np\n",
        "from sklearn.model_selection import RandomizedSearchCV\n",
        "from sklearn.metrics import confusion_matrix, classification_report, precision_score, recall_score, accuracy_score, f1_score, ConfusionMatrixDisplay\n",
        "from scipy.stats import uniform\n",
        "import matplotlib.pyplot as plt\n",
        "from sklearn.model_selection import cross_val_score\n",
        "import seaborn as sns\n",
        "from sklearn.model_selection import train_test_split\n",
        "from sklearn.preprocessing import StandardScaler, MinMaxScaler, OneHotEncoder, OrdinalEncoder\n",
        "from statsmodels.stats.outliers_influence import variance_inflation_factor\n",
        "from sklearn.svm import SVC\n",
        "import warnings\n",
        "from statsmodels.stats.outliers_influence import variance_inflation_factor\n",
        "warnings.filterwarnings(action='ignore')\n",
        "import phik\n",
        "from phik.report import plot_correlation_matrix\n",
        "from sklearn.preprocessing import OneHotEncoder,LabelEncoder\n",
        "from statsmodels.stats.outliers_influence import variance_inflation_factor\n",
        "import phik\n",
        "from phik.report import plot_correlation_matrix\n",
        "from sklearn.tree import DecisionTreeClassifier\n",
        "from sklearn.ensemble import RandomForestClassifier\n",
        "from sklearn.metrics import classification_report\n",
        "from sklearn.linear_model import LogisticRegression\n",
        "from sklearn.neighbors import KNeighborsClassifier\n",
        "from sklearn.naive_bayes import GaussianNB\n",
        "from xgboost import XGBClassifier"
      ]
    },
    {
      "cell_type": "markdown",
      "metadata": {
        "id": "LjtCHdgnYWpN"
      },
      "source": [
        "##3.LOAD DATA AND OVERVIEW"
      ]
    },
    {
      "cell_type": "code",
      "execution_count": null,
      "metadata": {
        "id": "mPnH5HZufEfX"
      },
      "outputs": [],
      "source": [
        "df= pd.read_csv('/content/Untitled Folder/credit_card_ml.csv')"
      ]
    },
    {
      "cell_type": "code",
      "execution_count": null,
      "metadata": {
        "colab": {
          "base_uri": "https://localhost:8080/",
          "height": 300
        },
        "id": "JQS-j68KlynC",
        "outputId": "0e5d0449-b4ec-4bc3-db85-3cf78b8d6685"
      },
      "outputs": [
        {
          "output_type": "execute_result",
          "data": {
            "text/plain": [
              "   sex  education_level  marital_status  pay_5  pay_6  \\\n",
              "0    1                6               1    0.0    0.0   \n",
              "1    1                4               1    0.0    0.0   \n",
              "2    2                6               2    0.0    0.0   \n",
              "3    2                4               2    0.0    0.0   \n",
              "4    1                4               2    0.0    0.0   \n",
              "\n",
              "   default_payment_next_month  limit_balance   age  pay_0  pay_2  ...  \\\n",
              "0                           1        80000.0  54.0    0.0    0.0  ...   \n",
              "1                           0       200000.0  49.0    0.0    0.0  ...   \n",
              "2                           1        20000.0  22.0    0.0    0.0  ...   \n",
              "3                           0       260000.0  33.0    0.0    0.0  ...   \n",
              "4                           0       150000.0  32.0    0.0    0.0  ...   \n",
              "\n",
              "   bill_amt_3  bill_amt_4  bill_amt_5  bill_amt_6  pay_amt_1  pay_amt_2  \\\n",
              "0     62290.0     29296.0     26210.0     17643.0     2545.0     2208.0   \n",
              "1     50942.0     50146.0     50235.0     48984.0     1689.0     2164.0   \n",
              "2     15535.0      1434.0       500.0         0.0     4641.0     1019.0   \n",
              "3     27086.0     27821.0     30767.0     29890.0     5000.0     5000.0   \n",
              "4    161192.0    150464.0    143375.0    146411.0     4019.0   146896.0   \n",
              "\n",
              "   pay_amt_3  pay_amt_4  pay_amt_5  pay_amt_6  \n",
              "0     1336.0     2232.0      542.0      348.0  \n",
              "1     2500.0     3480.0     2500.0     3000.0  \n",
              "2      900.0        0.0     1500.0        0.0  \n",
              "3     1137.0     5000.0     1085.0     5000.0  \n",
              "4   157436.0     4600.0     4709.0     5600.0  \n",
              "\n",
              "[5 rows x 24 columns]"
            ],
            "text/html": [
              "\n",
              "  <div id=\"df-0aa7bd12-768b-4827-a87e-fb11ae2c8173\">\n",
              "    <div class=\"colab-df-container\">\n",
              "      <div>\n",
              "<style scoped>\n",
              "    .dataframe tbody tr th:only-of-type {\n",
              "        vertical-align: middle;\n",
              "    }\n",
              "\n",
              "    .dataframe tbody tr th {\n",
              "        vertical-align: top;\n",
              "    }\n",
              "\n",
              "    .dataframe thead th {\n",
              "        text-align: right;\n",
              "    }\n",
              "</style>\n",
              "<table border=\"1\" class=\"dataframe\">\n",
              "  <thead>\n",
              "    <tr style=\"text-align: right;\">\n",
              "      <th></th>\n",
              "      <th>sex</th>\n",
              "      <th>education_level</th>\n",
              "      <th>marital_status</th>\n",
              "      <th>pay_5</th>\n",
              "      <th>pay_6</th>\n",
              "      <th>default_payment_next_month</th>\n",
              "      <th>limit_balance</th>\n",
              "      <th>age</th>\n",
              "      <th>pay_0</th>\n",
              "      <th>pay_2</th>\n",
              "      <th>...</th>\n",
              "      <th>bill_amt_3</th>\n",
              "      <th>bill_amt_4</th>\n",
              "      <th>bill_amt_5</th>\n",
              "      <th>bill_amt_6</th>\n",
              "      <th>pay_amt_1</th>\n",
              "      <th>pay_amt_2</th>\n",
              "      <th>pay_amt_3</th>\n",
              "      <th>pay_amt_4</th>\n",
              "      <th>pay_amt_5</th>\n",
              "      <th>pay_amt_6</th>\n",
              "    </tr>\n",
              "  </thead>\n",
              "  <tbody>\n",
              "    <tr>\n",
              "      <th>0</th>\n",
              "      <td>1</td>\n",
              "      <td>6</td>\n",
              "      <td>1</td>\n",
              "      <td>0.0</td>\n",
              "      <td>0.0</td>\n",
              "      <td>1</td>\n",
              "      <td>80000.0</td>\n",
              "      <td>54.0</td>\n",
              "      <td>0.0</td>\n",
              "      <td>0.0</td>\n",
              "      <td>...</td>\n",
              "      <td>62290.0</td>\n",
              "      <td>29296.0</td>\n",
              "      <td>26210.0</td>\n",
              "      <td>17643.0</td>\n",
              "      <td>2545.0</td>\n",
              "      <td>2208.0</td>\n",
              "      <td>1336.0</td>\n",
              "      <td>2232.0</td>\n",
              "      <td>542.0</td>\n",
              "      <td>348.0</td>\n",
              "    </tr>\n",
              "    <tr>\n",
              "      <th>1</th>\n",
              "      <td>1</td>\n",
              "      <td>4</td>\n",
              "      <td>1</td>\n",
              "      <td>0.0</td>\n",
              "      <td>0.0</td>\n",
              "      <td>0</td>\n",
              "      <td>200000.0</td>\n",
              "      <td>49.0</td>\n",
              "      <td>0.0</td>\n",
              "      <td>0.0</td>\n",
              "      <td>...</td>\n",
              "      <td>50942.0</td>\n",
              "      <td>50146.0</td>\n",
              "      <td>50235.0</td>\n",
              "      <td>48984.0</td>\n",
              "      <td>1689.0</td>\n",
              "      <td>2164.0</td>\n",
              "      <td>2500.0</td>\n",
              "      <td>3480.0</td>\n",
              "      <td>2500.0</td>\n",
              "      <td>3000.0</td>\n",
              "    </tr>\n",
              "    <tr>\n",
              "      <th>2</th>\n",
              "      <td>2</td>\n",
              "      <td>6</td>\n",
              "      <td>2</td>\n",
              "      <td>0.0</td>\n",
              "      <td>0.0</td>\n",
              "      <td>1</td>\n",
              "      <td>20000.0</td>\n",
              "      <td>22.0</td>\n",
              "      <td>0.0</td>\n",
              "      <td>0.0</td>\n",
              "      <td>...</td>\n",
              "      <td>15535.0</td>\n",
              "      <td>1434.0</td>\n",
              "      <td>500.0</td>\n",
              "      <td>0.0</td>\n",
              "      <td>4641.0</td>\n",
              "      <td>1019.0</td>\n",
              "      <td>900.0</td>\n",
              "      <td>0.0</td>\n",
              "      <td>1500.0</td>\n",
              "      <td>0.0</td>\n",
              "    </tr>\n",
              "    <tr>\n",
              "      <th>3</th>\n",
              "      <td>2</td>\n",
              "      <td>4</td>\n",
              "      <td>2</td>\n",
              "      <td>0.0</td>\n",
              "      <td>0.0</td>\n",
              "      <td>0</td>\n",
              "      <td>260000.0</td>\n",
              "      <td>33.0</td>\n",
              "      <td>0.0</td>\n",
              "      <td>0.0</td>\n",
              "      <td>...</td>\n",
              "      <td>27086.0</td>\n",
              "      <td>27821.0</td>\n",
              "      <td>30767.0</td>\n",
              "      <td>29890.0</td>\n",
              "      <td>5000.0</td>\n",
              "      <td>5000.0</td>\n",
              "      <td>1137.0</td>\n",
              "      <td>5000.0</td>\n",
              "      <td>1085.0</td>\n",
              "      <td>5000.0</td>\n",
              "    </tr>\n",
              "    <tr>\n",
              "      <th>4</th>\n",
              "      <td>1</td>\n",
              "      <td>4</td>\n",
              "      <td>2</td>\n",
              "      <td>0.0</td>\n",
              "      <td>0.0</td>\n",
              "      <td>0</td>\n",
              "      <td>150000.0</td>\n",
              "      <td>32.0</td>\n",
              "      <td>0.0</td>\n",
              "      <td>0.0</td>\n",
              "      <td>...</td>\n",
              "      <td>161192.0</td>\n",
              "      <td>150464.0</td>\n",
              "      <td>143375.0</td>\n",
              "      <td>146411.0</td>\n",
              "      <td>4019.0</td>\n",
              "      <td>146896.0</td>\n",
              "      <td>157436.0</td>\n",
              "      <td>4600.0</td>\n",
              "      <td>4709.0</td>\n",
              "      <td>5600.0</td>\n",
              "    </tr>\n",
              "  </tbody>\n",
              "</table>\n",
              "<p>5 rows × 24 columns</p>\n",
              "</div>\n",
              "      <button class=\"colab-df-convert\" onclick=\"convertToInteractive('df-0aa7bd12-768b-4827-a87e-fb11ae2c8173')\"\n",
              "              title=\"Convert this dataframe to an interactive table.\"\n",
              "              style=\"display:none;\">\n",
              "        \n",
              "  <svg xmlns=\"http://www.w3.org/2000/svg\" height=\"24px\"viewBox=\"0 0 24 24\"\n",
              "       width=\"24px\">\n",
              "    <path d=\"M0 0h24v24H0V0z\" fill=\"none\"/>\n",
              "    <path d=\"M18.56 5.44l.94 2.06.94-2.06 2.06-.94-2.06-.94-.94-2.06-.94 2.06-2.06.94zm-11 1L8.5 8.5l.94-2.06 2.06-.94-2.06-.94L8.5 2.5l-.94 2.06-2.06.94zm10 10l.94 2.06.94-2.06 2.06-.94-2.06-.94-.94-2.06-.94 2.06-2.06.94z\"/><path d=\"M17.41 7.96l-1.37-1.37c-.4-.4-.92-.59-1.43-.59-.52 0-1.04.2-1.43.59L10.3 9.45l-7.72 7.72c-.78.78-.78 2.05 0 2.83L4 21.41c.39.39.9.59 1.41.59.51 0 1.02-.2 1.41-.59l7.78-7.78 2.81-2.81c.8-.78.8-2.07 0-2.86zM5.41 20L4 18.59l7.72-7.72 1.47 1.35L5.41 20z\"/>\n",
              "  </svg>\n",
              "      </button>\n",
              "      \n",
              "  <style>\n",
              "    .colab-df-container {\n",
              "      display:flex;\n",
              "      flex-wrap:wrap;\n",
              "      gap: 12px;\n",
              "    }\n",
              "\n",
              "    .colab-df-convert {\n",
              "      background-color: #E8F0FE;\n",
              "      border: none;\n",
              "      border-radius: 50%;\n",
              "      cursor: pointer;\n",
              "      display: none;\n",
              "      fill: #1967D2;\n",
              "      height: 32px;\n",
              "      padding: 0 0 0 0;\n",
              "      width: 32px;\n",
              "    }\n",
              "\n",
              "    .colab-df-convert:hover {\n",
              "      background-color: #E2EBFA;\n",
              "      box-shadow: 0px 1px 2px rgba(60, 64, 67, 0.3), 0px 1px 3px 1px rgba(60, 64, 67, 0.15);\n",
              "      fill: #174EA6;\n",
              "    }\n",
              "\n",
              "    [theme=dark] .colab-df-convert {\n",
              "      background-color: #3B4455;\n",
              "      fill: #D2E3FC;\n",
              "    }\n",
              "\n",
              "    [theme=dark] .colab-df-convert:hover {\n",
              "      background-color: #434B5C;\n",
              "      box-shadow: 0px 1px 3px 1px rgba(0, 0, 0, 0.15);\n",
              "      filter: drop-shadow(0px 1px 2px rgba(0, 0, 0, 0.3));\n",
              "      fill: #FFFFFF;\n",
              "    }\n",
              "  </style>\n",
              "\n",
              "      <script>\n",
              "        const buttonEl =\n",
              "          document.querySelector('#df-0aa7bd12-768b-4827-a87e-fb11ae2c8173 button.colab-df-convert');\n",
              "        buttonEl.style.display =\n",
              "          google.colab.kernel.accessAllowed ? 'block' : 'none';\n",
              "\n",
              "        async function convertToInteractive(key) {\n",
              "          const element = document.querySelector('#df-0aa7bd12-768b-4827-a87e-fb11ae2c8173');\n",
              "          const dataTable =\n",
              "            await google.colab.kernel.invokeFunction('convertToInteractive',\n",
              "                                                     [key], {});\n",
              "          if (!dataTable) return;\n",
              "\n",
              "          const docLinkHtml = 'Like what you see? Visit the ' +\n",
              "            '<a target=\"_blank\" href=https://colab.research.google.com/notebooks/data_table.ipynb>data table notebook</a>'\n",
              "            + ' to learn more about interactive tables.';\n",
              "          element.innerHTML = '';\n",
              "          dataTable['output_type'] = 'display_data';\n",
              "          await google.colab.output.renderOutput(dataTable, element);\n",
              "          const docLink = document.createElement('div');\n",
              "          docLink.innerHTML = docLinkHtml;\n",
              "          element.appendChild(docLink);\n",
              "        }\n",
              "      </script>\n",
              "    </div>\n",
              "  </div>\n",
              "  "
            ]
          },
          "metadata": {},
          "execution_count": 10
        }
      ],
      "source": [
        "df.head()"
      ]
    },
    {
      "cell_type": "code",
      "execution_count": null,
      "metadata": {
        "colab": {
          "base_uri": "https://localhost:8080/",
          "height": 300
        },
        "id": "uWWV7sC1sP7P",
        "outputId": "aa57e7eb-8496-471f-a2de-965c5d14a70a"
      },
      "outputs": [
        {
          "output_type": "execute_result",
          "data": {
            "text/plain": [
              "      sex  education_level  marital_status  pay_5  pay_6  \\\n",
              "2960    2                3               2   -2.0   -2.0   \n",
              "2961    2                3               1   -2.0   -2.0   \n",
              "2962    2                2               1   -2.0   -2.0   \n",
              "2963    2                2               1   -2.0   -2.0   \n",
              "2964    2                2               1   -2.0   -2.0   \n",
              "\n",
              "      default_payment_next_month  limit_balance   age  pay_0  pay_2  ...  \\\n",
              "2960                           0        80000.0  28.0   -1.0   -1.0  ...   \n",
              "2961                           1        50000.0  51.0   -1.0   -1.0  ...   \n",
              "2962                           1       450000.0  38.0   -2.0   -2.0  ...   \n",
              "2963                           0        50000.0  44.0   -2.0   -2.0  ...   \n",
              "2964                           0       290000.0  39.0    1.0   -2.0  ...   \n",
              "\n",
              "      bill_amt_3  bill_amt_4  bill_amt_5  bill_amt_6  pay_amt_1  pay_amt_2  \\\n",
              "2960         0.0         0.0         0.0         0.0     2800.0        0.0   \n",
              "2961      5880.0         0.0         0.0         0.0      300.0     5880.0   \n",
              "2962       390.0       390.0       390.0       390.0      390.0      780.0   \n",
              "2963       390.0       390.0       390.0         0.0      390.0      390.0   \n",
              "2964       390.0      3184.0       390.0       390.0    10000.0      800.0   \n",
              "\n",
              "      pay_amt_3  pay_amt_4  pay_amt_5  pay_amt_6  \n",
              "2960        0.0        0.0        0.0        0.0  \n",
              "2961        0.0        0.0        0.0        0.0  \n",
              "2962      390.0      390.0      390.0      390.0  \n",
              "2963      390.0      390.0        0.0      780.0  \n",
              "2964     3184.0      390.0      390.0     6617.0  \n",
              "\n",
              "[5 rows x 24 columns]"
            ],
            "text/html": [
              "\n",
              "  <div id=\"df-2b972ae2-9022-48cd-8bb0-2bc26a7402a6\">\n",
              "    <div class=\"colab-df-container\">\n",
              "      <div>\n",
              "<style scoped>\n",
              "    .dataframe tbody tr th:only-of-type {\n",
              "        vertical-align: middle;\n",
              "    }\n",
              "\n",
              "    .dataframe tbody tr th {\n",
              "        vertical-align: top;\n",
              "    }\n",
              "\n",
              "    .dataframe thead th {\n",
              "        text-align: right;\n",
              "    }\n",
              "</style>\n",
              "<table border=\"1\" class=\"dataframe\">\n",
              "  <thead>\n",
              "    <tr style=\"text-align: right;\">\n",
              "      <th></th>\n",
              "      <th>sex</th>\n",
              "      <th>education_level</th>\n",
              "      <th>marital_status</th>\n",
              "      <th>pay_5</th>\n",
              "      <th>pay_6</th>\n",
              "      <th>default_payment_next_month</th>\n",
              "      <th>limit_balance</th>\n",
              "      <th>age</th>\n",
              "      <th>pay_0</th>\n",
              "      <th>pay_2</th>\n",
              "      <th>...</th>\n",
              "      <th>bill_amt_3</th>\n",
              "      <th>bill_amt_4</th>\n",
              "      <th>bill_amt_5</th>\n",
              "      <th>bill_amt_6</th>\n",
              "      <th>pay_amt_1</th>\n",
              "      <th>pay_amt_2</th>\n",
              "      <th>pay_amt_3</th>\n",
              "      <th>pay_amt_4</th>\n",
              "      <th>pay_amt_5</th>\n",
              "      <th>pay_amt_6</th>\n",
              "    </tr>\n",
              "  </thead>\n",
              "  <tbody>\n",
              "    <tr>\n",
              "      <th>2960</th>\n",
              "      <td>2</td>\n",
              "      <td>3</td>\n",
              "      <td>2</td>\n",
              "      <td>-2.0</td>\n",
              "      <td>-2.0</td>\n",
              "      <td>0</td>\n",
              "      <td>80000.0</td>\n",
              "      <td>28.0</td>\n",
              "      <td>-1.0</td>\n",
              "      <td>-1.0</td>\n",
              "      <td>...</td>\n",
              "      <td>0.0</td>\n",
              "      <td>0.0</td>\n",
              "      <td>0.0</td>\n",
              "      <td>0.0</td>\n",
              "      <td>2800.0</td>\n",
              "      <td>0.0</td>\n",
              "      <td>0.0</td>\n",
              "      <td>0.0</td>\n",
              "      <td>0.0</td>\n",
              "      <td>0.0</td>\n",
              "    </tr>\n",
              "    <tr>\n",
              "      <th>2961</th>\n",
              "      <td>2</td>\n",
              "      <td>3</td>\n",
              "      <td>1</td>\n",
              "      <td>-2.0</td>\n",
              "      <td>-2.0</td>\n",
              "      <td>1</td>\n",
              "      <td>50000.0</td>\n",
              "      <td>51.0</td>\n",
              "      <td>-1.0</td>\n",
              "      <td>-1.0</td>\n",
              "      <td>...</td>\n",
              "      <td>5880.0</td>\n",
              "      <td>0.0</td>\n",
              "      <td>0.0</td>\n",
              "      <td>0.0</td>\n",
              "      <td>300.0</td>\n",
              "      <td>5880.0</td>\n",
              "      <td>0.0</td>\n",
              "      <td>0.0</td>\n",
              "      <td>0.0</td>\n",
              "      <td>0.0</td>\n",
              "    </tr>\n",
              "    <tr>\n",
              "      <th>2962</th>\n",
              "      <td>2</td>\n",
              "      <td>2</td>\n",
              "      <td>1</td>\n",
              "      <td>-2.0</td>\n",
              "      <td>-2.0</td>\n",
              "      <td>1</td>\n",
              "      <td>450000.0</td>\n",
              "      <td>38.0</td>\n",
              "      <td>-2.0</td>\n",
              "      <td>-2.0</td>\n",
              "      <td>...</td>\n",
              "      <td>390.0</td>\n",
              "      <td>390.0</td>\n",
              "      <td>390.0</td>\n",
              "      <td>390.0</td>\n",
              "      <td>390.0</td>\n",
              "      <td>780.0</td>\n",
              "      <td>390.0</td>\n",
              "      <td>390.0</td>\n",
              "      <td>390.0</td>\n",
              "      <td>390.0</td>\n",
              "    </tr>\n",
              "    <tr>\n",
              "      <th>2963</th>\n",
              "      <td>2</td>\n",
              "      <td>2</td>\n",
              "      <td>1</td>\n",
              "      <td>-2.0</td>\n",
              "      <td>-2.0</td>\n",
              "      <td>0</td>\n",
              "      <td>50000.0</td>\n",
              "      <td>44.0</td>\n",
              "      <td>-2.0</td>\n",
              "      <td>-2.0</td>\n",
              "      <td>...</td>\n",
              "      <td>390.0</td>\n",
              "      <td>390.0</td>\n",
              "      <td>390.0</td>\n",
              "      <td>0.0</td>\n",
              "      <td>390.0</td>\n",
              "      <td>390.0</td>\n",
              "      <td>390.0</td>\n",
              "      <td>390.0</td>\n",
              "      <td>0.0</td>\n",
              "      <td>780.0</td>\n",
              "    </tr>\n",
              "    <tr>\n",
              "      <th>2964</th>\n",
              "      <td>2</td>\n",
              "      <td>2</td>\n",
              "      <td>1</td>\n",
              "      <td>-2.0</td>\n",
              "      <td>-2.0</td>\n",
              "      <td>0</td>\n",
              "      <td>290000.0</td>\n",
              "      <td>39.0</td>\n",
              "      <td>1.0</td>\n",
              "      <td>-2.0</td>\n",
              "      <td>...</td>\n",
              "      <td>390.0</td>\n",
              "      <td>3184.0</td>\n",
              "      <td>390.0</td>\n",
              "      <td>390.0</td>\n",
              "      <td>10000.0</td>\n",
              "      <td>800.0</td>\n",
              "      <td>3184.0</td>\n",
              "      <td>390.0</td>\n",
              "      <td>390.0</td>\n",
              "      <td>6617.0</td>\n",
              "    </tr>\n",
              "  </tbody>\n",
              "</table>\n",
              "<p>5 rows × 24 columns</p>\n",
              "</div>\n",
              "      <button class=\"colab-df-convert\" onclick=\"convertToInteractive('df-2b972ae2-9022-48cd-8bb0-2bc26a7402a6')\"\n",
              "              title=\"Convert this dataframe to an interactive table.\"\n",
              "              style=\"display:none;\">\n",
              "        \n",
              "  <svg xmlns=\"http://www.w3.org/2000/svg\" height=\"24px\"viewBox=\"0 0 24 24\"\n",
              "       width=\"24px\">\n",
              "    <path d=\"M0 0h24v24H0V0z\" fill=\"none\"/>\n",
              "    <path d=\"M18.56 5.44l.94 2.06.94-2.06 2.06-.94-2.06-.94-.94-2.06-.94 2.06-2.06.94zm-11 1L8.5 8.5l.94-2.06 2.06-.94-2.06-.94L8.5 2.5l-.94 2.06-2.06.94zm10 10l.94 2.06.94-2.06 2.06-.94-2.06-.94-.94-2.06-.94 2.06-2.06.94z\"/><path d=\"M17.41 7.96l-1.37-1.37c-.4-.4-.92-.59-1.43-.59-.52 0-1.04.2-1.43.59L10.3 9.45l-7.72 7.72c-.78.78-.78 2.05 0 2.83L4 21.41c.39.39.9.59 1.41.59.51 0 1.02-.2 1.41-.59l7.78-7.78 2.81-2.81c.8-.78.8-2.07 0-2.86zM5.41 20L4 18.59l7.72-7.72 1.47 1.35L5.41 20z\"/>\n",
              "  </svg>\n",
              "      </button>\n",
              "      \n",
              "  <style>\n",
              "    .colab-df-container {\n",
              "      display:flex;\n",
              "      flex-wrap:wrap;\n",
              "      gap: 12px;\n",
              "    }\n",
              "\n",
              "    .colab-df-convert {\n",
              "      background-color: #E8F0FE;\n",
              "      border: none;\n",
              "      border-radius: 50%;\n",
              "      cursor: pointer;\n",
              "      display: none;\n",
              "      fill: #1967D2;\n",
              "      height: 32px;\n",
              "      padding: 0 0 0 0;\n",
              "      width: 32px;\n",
              "    }\n",
              "\n",
              "    .colab-df-convert:hover {\n",
              "      background-color: #E2EBFA;\n",
              "      box-shadow: 0px 1px 2px rgba(60, 64, 67, 0.3), 0px 1px 3px 1px rgba(60, 64, 67, 0.15);\n",
              "      fill: #174EA6;\n",
              "    }\n",
              "\n",
              "    [theme=dark] .colab-df-convert {\n",
              "      background-color: #3B4455;\n",
              "      fill: #D2E3FC;\n",
              "    }\n",
              "\n",
              "    [theme=dark] .colab-df-convert:hover {\n",
              "      background-color: #434B5C;\n",
              "      box-shadow: 0px 1px 3px 1px rgba(0, 0, 0, 0.15);\n",
              "      filter: drop-shadow(0px 1px 2px rgba(0, 0, 0, 0.3));\n",
              "      fill: #FFFFFF;\n",
              "    }\n",
              "  </style>\n",
              "\n",
              "      <script>\n",
              "        const buttonEl =\n",
              "          document.querySelector('#df-2b972ae2-9022-48cd-8bb0-2bc26a7402a6 button.colab-df-convert');\n",
              "        buttonEl.style.display =\n",
              "          google.colab.kernel.accessAllowed ? 'block' : 'none';\n",
              "\n",
              "        async function convertToInteractive(key) {\n",
              "          const element = document.querySelector('#df-2b972ae2-9022-48cd-8bb0-2bc26a7402a6');\n",
              "          const dataTable =\n",
              "            await google.colab.kernel.invokeFunction('convertToInteractive',\n",
              "                                                     [key], {});\n",
              "          if (!dataTable) return;\n",
              "\n",
              "          const docLinkHtml = 'Like what you see? Visit the ' +\n",
              "            '<a target=\"_blank\" href=https://colab.research.google.com/notebooks/data_table.ipynb>data table notebook</a>'\n",
              "            + ' to learn more about interactive tables.';\n",
              "          element.innerHTML = '';\n",
              "          dataTable['output_type'] = 'display_data';\n",
              "          await google.colab.output.renderOutput(dataTable, element);\n",
              "          const docLink = document.createElement('div');\n",
              "          docLink.innerHTML = docLinkHtml;\n",
              "          element.appendChild(docLink);\n",
              "        }\n",
              "      </script>\n",
              "    </div>\n",
              "  </div>\n",
              "  "
            ]
          },
          "metadata": {},
          "execution_count": 11
        }
      ],
      "source": [
        "df.tail(5)"
      ]
    },
    {
      "cell_type": "code",
      "execution_count": null,
      "metadata": {
        "colab": {
          "base_uri": "https://localhost:8080/"
        },
        "id": "ao9zmu1RsTqJ",
        "outputId": "221f7cf4-7634-4370-92a7-40096872b0c6"
      },
      "outputs": [
        {
          "output_type": "execute_result",
          "data": {
            "text/plain": [
              "1"
            ]
          },
          "metadata": {},
          "execution_count": 12
        }
      ],
      "source": [
        "#mengecek jumlah data duplicated\n",
        "df.duplicated().sum()"
      ]
    },
    {
      "cell_type": "code",
      "execution_count": null,
      "metadata": {
        "id": "VGQx-1mDstJW"
      },
      "outputs": [],
      "source": [
        "df = df.drop_duplicates()"
      ]
    },
    {
      "cell_type": "code",
      "execution_count": null,
      "metadata": {
        "colab": {
          "base_uri": "https://localhost:8080/"
        },
        "id": "YzcX862EsvCE",
        "outputId": "f4ecc290-b77a-4364-9b20-06ee9882b475"
      },
      "outputs": [
        {
          "output_type": "execute_result",
          "data": {
            "text/plain": [
              "0       False\n",
              "1       False\n",
              "2       False\n",
              "3       False\n",
              "4       False\n",
              "        ...  \n",
              "2960    False\n",
              "2961    False\n",
              "2962    False\n",
              "2963    False\n",
              "2964    False\n",
              "Length: 2964, dtype: bool"
            ]
          },
          "metadata": {},
          "execution_count": 14
        }
      ],
      "source": [
        "#mengecek jumlah data duplicated\n",
        "df.duplicated()"
      ]
    },
    {
      "cell_type": "code",
      "execution_count": null,
      "metadata": {
        "colab": {
          "base_uri": "https://localhost:8080/"
        },
        "id": "QLDhUA_hszDe",
        "outputId": "4f0d5a6c-d686-4c41-c14c-0d6f433bcad7"
      },
      "outputs": [
        {
          "output_type": "stream",
          "name": "stdout",
          "text": [
            "<class 'pandas.core.frame.DataFrame'>\n",
            "Int64Index: 2964 entries, 0 to 2964\n",
            "Data columns (total 24 columns):\n",
            " #   Column                      Non-Null Count  Dtype  \n",
            "---  ------                      --------------  -----  \n",
            " 0   sex                         2964 non-null   int64  \n",
            " 1   education_level             2964 non-null   int64  \n",
            " 2   marital_status              2964 non-null   int64  \n",
            " 3   pay_5                       2964 non-null   float64\n",
            " 4   pay_6                       2964 non-null   float64\n",
            " 5   default_payment_next_month  2964 non-null   int64  \n",
            " 6   limit_balance               2964 non-null   float64\n",
            " 7   age                         2964 non-null   float64\n",
            " 8   pay_0                       2964 non-null   float64\n",
            " 9   pay_2                       2964 non-null   float64\n",
            " 10  pay_3                       2964 non-null   float64\n",
            " 11  pay_4                       2964 non-null   float64\n",
            " 12  bill_amt_1                  2964 non-null   float64\n",
            " 13  bill_amt_2                  2964 non-null   float64\n",
            " 14  bill_amt_3                  2964 non-null   float64\n",
            " 15  bill_amt_4                  2964 non-null   float64\n",
            " 16  bill_amt_5                  2964 non-null   float64\n",
            " 17  bill_amt_6                  2964 non-null   float64\n",
            " 18  pay_amt_1                   2964 non-null   float64\n",
            " 19  pay_amt_2                   2964 non-null   float64\n",
            " 20  pay_amt_3                   2964 non-null   float64\n",
            " 21  pay_amt_4                   2964 non-null   float64\n",
            " 22  pay_amt_5                   2964 non-null   float64\n",
            " 23  pay_amt_6                   2964 non-null   float64\n",
            "dtypes: float64(20), int64(4)\n",
            "memory usage: 578.9 KB\n"
          ]
        }
      ],
      "source": [
        "#mengecek tipe data pada kolom\n",
        "df.info()"
      ]
    },
    {
      "cell_type": "code",
      "execution_count": null,
      "metadata": {
        "colab": {
          "base_uri": "https://localhost:8080/"
        },
        "id": "ss5eoUuXGk8p",
        "outputId": "327269c3-8663-4e8e-db0a-819850bf6982"
      },
      "outputs": [
        {
          "output_type": "execute_result",
          "data": {
            "text/plain": [
              "(2964, 24)"
            ]
          },
          "metadata": {},
          "execution_count": 16
        }
      ],
      "source": [
        "#mengecek jumlah rows dan kolom pada dataframe\n",
        "df.shape"
      ]
    },
    {
      "cell_type": "code",
      "execution_count": null,
      "metadata": {
        "colab": {
          "base_uri": "https://localhost:8080/"
        },
        "id": "9XMknk1jGntv",
        "outputId": "669fca46-8d79-41ee-9f9f-74eeb208a1a6"
      },
      "outputs": [
        {
          "output_type": "execute_result",
          "data": {
            "text/plain": [
              "sex                           0\n",
              "education_level               0\n",
              "marital_status                0\n",
              "pay_5                         0\n",
              "pay_6                         0\n",
              "default_payment_next_month    0\n",
              "limit_balance                 0\n",
              "age                           0\n",
              "pay_0                         0\n",
              "pay_2                         0\n",
              "pay_3                         0\n",
              "pay_4                         0\n",
              "bill_amt_1                    0\n",
              "bill_amt_2                    0\n",
              "bill_amt_3                    0\n",
              "bill_amt_4                    0\n",
              "bill_amt_5                    0\n",
              "bill_amt_6                    0\n",
              "pay_amt_1                     0\n",
              "pay_amt_2                     0\n",
              "pay_amt_3                     0\n",
              "pay_amt_4                     0\n",
              "pay_amt_5                     0\n",
              "pay_amt_6                     0\n",
              "dtype: int64"
            ]
          },
          "metadata": {},
          "execution_count": 17
        }
      ],
      "source": [
        "#mengecek missing value pada data\n",
        "df.isnull().sum()"
      ]
    },
    {
      "cell_type": "code",
      "execution_count": null,
      "metadata": {
        "id": "lMfqLKmQG0PS"
      },
      "outputs": [],
      "source": [
        "#membuat variable num_col dan cat_col untuk dipisahkan dan diketahui informasi datanya\n",
        "num_col = df.describe().columns.tolist()\n",
        "cat_col = df.select_dtypes(include=['object']).columns.tolist()"
      ]
    },
    {
      "cell_type": "code",
      "execution_count": null,
      "metadata": {
        "colab": {
          "base_uri": "https://localhost:8080/",
          "height": 802
        },
        "id": "k_QELQ1UG-QA",
        "outputId": "9696df7d-f6e6-420d-fd7c-b690c3c85ffa"
      },
      "outputs": [
        {
          "output_type": "execute_result",
          "data": {
            "text/plain": [
              "                             count           mean            std      min  \\\n",
              "sex                         2964.0       1.607625       0.488362      1.0   \n",
              "education_level             2964.0       1.849865       0.778159      0.0   \n",
              "marital_status              2964.0       1.560054       0.522304      0.0   \n",
              "pay_5                       2964.0      -0.224696       1.158739     -2.0   \n",
              "pay_6                       2964.0      -0.254049       1.167061     -2.0   \n",
              "default_payment_next_month  2964.0       0.214238       0.410362      0.0   \n",
              "limit_balance               2964.0  163356.950067  125049.701016  10000.0   \n",
              "age                         2964.0      35.193657       9.110949     21.0   \n",
              "pay_0                       2964.0       0.004723       1.114434     -2.0   \n",
              "pay_2                       2964.0      -0.121795       1.180479     -2.0   \n",
              "pay_3                       2964.0      -0.141026       1.183337     -2.0   \n",
              "pay_4                       2964.0      -0.184548       1.178049     -2.0   \n",
              "bill_amt_1                  2964.0   52135.889001   72334.536115 -11545.0   \n",
              "bill_amt_2                  2964.0   50666.241228   70790.828470 -67526.0   \n",
              "bill_amt_3                  2964.0   48256.032726   68151.445516 -25443.0   \n",
              "bill_amt_4                  2964.0   44104.558367   61912.600106 -46627.0   \n",
              "bill_amt_5                  2964.0   40969.898448   58276.878626 -46627.0   \n",
              "bill_amt_6                  2964.0   39786.491228   57308.498646 -73895.0   \n",
              "pay_amt_1                   2964.0    6351.044872   20888.933729      0.0   \n",
              "pay_amt_2                   2964.0    6274.610661   28884.317574      0.0   \n",
              "pay_amt_3                   2964.0    5152.234818   14289.177313      0.0   \n",
              "pay_amt_4                   2964.0    4562.914980   13283.476236      0.0   \n",
              "pay_amt_5                   2964.0    4914.944332   16736.920951      0.0   \n",
              "pay_amt_6                   2964.0    5384.517544   17278.585006      0.0   \n",
              "\n",
              "                                 25%       50%        75%        max  \n",
              "sex                             1.00       2.0       2.00        2.0  \n",
              "education_level                 1.00       2.0       2.00        6.0  \n",
              "marital_status                  1.00       2.0       2.00        3.0  \n",
              "pay_5                          -1.00       0.0       0.00        7.0  \n",
              "pay_6                          -1.00       0.0       0.00        7.0  \n",
              "default_payment_next_month      0.00       0.0       0.00        1.0  \n",
              "limit_balance               50000.00  140000.0  230000.00   800000.0  \n",
              "age                            28.00      34.0      41.00       69.0  \n",
              "pay_0                          -1.00       0.0       0.00        8.0  \n",
              "pay_2                          -1.00       0.0       0.00        7.0  \n",
              "pay_3                          -1.00       0.0       0.00        7.0  \n",
              "pay_4                          -1.00       0.0       0.00        8.0  \n",
              "bill_amt_1                   3979.75   24325.0   69863.00   613860.0  \n",
              "bill_amt_2                   3403.50   23169.0   67836.25   512650.0  \n",
              "bill_amt_3                   3311.75   21549.5   63034.50   578971.0  \n",
              "bill_amt_4                   2585.00   19895.0   58638.50   488808.0  \n",
              "bill_amt_5                   1974.50   18819.5   53414.50   441981.0  \n",
              "bill_amt_6                   1433.00   18511.5   52297.00   436172.0  \n",
              "pay_amt_1                    1013.00    2238.0    5089.50   493358.0  \n",
              "pay_amt_2                     997.50    2182.5    5000.00  1227082.0  \n",
              "pay_amt_3                     479.25    1997.0    4500.00   199209.0  \n",
              "pay_amt_4                     313.75    1600.0    4000.25   202076.0  \n",
              "pay_amt_5                     325.25    1646.5    4021.00   388071.0  \n",
              "pay_amt_6                     175.25    1626.5    4081.75   403500.0  "
            ],
            "text/html": [
              "\n",
              "  <div id=\"df-c8397935-5f64-430d-ae79-909ed2b7651a\">\n",
              "    <div class=\"colab-df-container\">\n",
              "      <div>\n",
              "<style scoped>\n",
              "    .dataframe tbody tr th:only-of-type {\n",
              "        vertical-align: middle;\n",
              "    }\n",
              "\n",
              "    .dataframe tbody tr th {\n",
              "        vertical-align: top;\n",
              "    }\n",
              "\n",
              "    .dataframe thead th {\n",
              "        text-align: right;\n",
              "    }\n",
              "</style>\n",
              "<table border=\"1\" class=\"dataframe\">\n",
              "  <thead>\n",
              "    <tr style=\"text-align: right;\">\n",
              "      <th></th>\n",
              "      <th>count</th>\n",
              "      <th>mean</th>\n",
              "      <th>std</th>\n",
              "      <th>min</th>\n",
              "      <th>25%</th>\n",
              "      <th>50%</th>\n",
              "      <th>75%</th>\n",
              "      <th>max</th>\n",
              "    </tr>\n",
              "  </thead>\n",
              "  <tbody>\n",
              "    <tr>\n",
              "      <th>sex</th>\n",
              "      <td>2964.0</td>\n",
              "      <td>1.607625</td>\n",
              "      <td>0.488362</td>\n",
              "      <td>1.0</td>\n",
              "      <td>1.00</td>\n",
              "      <td>2.0</td>\n",
              "      <td>2.00</td>\n",
              "      <td>2.0</td>\n",
              "    </tr>\n",
              "    <tr>\n",
              "      <th>education_level</th>\n",
              "      <td>2964.0</td>\n",
              "      <td>1.849865</td>\n",
              "      <td>0.778159</td>\n",
              "      <td>0.0</td>\n",
              "      <td>1.00</td>\n",
              "      <td>2.0</td>\n",
              "      <td>2.00</td>\n",
              "      <td>6.0</td>\n",
              "    </tr>\n",
              "    <tr>\n",
              "      <th>marital_status</th>\n",
              "      <td>2964.0</td>\n",
              "      <td>1.560054</td>\n",
              "      <td>0.522304</td>\n",
              "      <td>0.0</td>\n",
              "      <td>1.00</td>\n",
              "      <td>2.0</td>\n",
              "      <td>2.00</td>\n",
              "      <td>3.0</td>\n",
              "    </tr>\n",
              "    <tr>\n",
              "      <th>pay_5</th>\n",
              "      <td>2964.0</td>\n",
              "      <td>-0.224696</td>\n",
              "      <td>1.158739</td>\n",
              "      <td>-2.0</td>\n",
              "      <td>-1.00</td>\n",
              "      <td>0.0</td>\n",
              "      <td>0.00</td>\n",
              "      <td>7.0</td>\n",
              "    </tr>\n",
              "    <tr>\n",
              "      <th>pay_6</th>\n",
              "      <td>2964.0</td>\n",
              "      <td>-0.254049</td>\n",
              "      <td>1.167061</td>\n",
              "      <td>-2.0</td>\n",
              "      <td>-1.00</td>\n",
              "      <td>0.0</td>\n",
              "      <td>0.00</td>\n",
              "      <td>7.0</td>\n",
              "    </tr>\n",
              "    <tr>\n",
              "      <th>default_payment_next_month</th>\n",
              "      <td>2964.0</td>\n",
              "      <td>0.214238</td>\n",
              "      <td>0.410362</td>\n",
              "      <td>0.0</td>\n",
              "      <td>0.00</td>\n",
              "      <td>0.0</td>\n",
              "      <td>0.00</td>\n",
              "      <td>1.0</td>\n",
              "    </tr>\n",
              "    <tr>\n",
              "      <th>limit_balance</th>\n",
              "      <td>2964.0</td>\n",
              "      <td>163356.950067</td>\n",
              "      <td>125049.701016</td>\n",
              "      <td>10000.0</td>\n",
              "      <td>50000.00</td>\n",
              "      <td>140000.0</td>\n",
              "      <td>230000.00</td>\n",
              "      <td>800000.0</td>\n",
              "    </tr>\n",
              "    <tr>\n",
              "      <th>age</th>\n",
              "      <td>2964.0</td>\n",
              "      <td>35.193657</td>\n",
              "      <td>9.110949</td>\n",
              "      <td>21.0</td>\n",
              "      <td>28.00</td>\n",
              "      <td>34.0</td>\n",
              "      <td>41.00</td>\n",
              "      <td>69.0</td>\n",
              "    </tr>\n",
              "    <tr>\n",
              "      <th>pay_0</th>\n",
              "      <td>2964.0</td>\n",
              "      <td>0.004723</td>\n",
              "      <td>1.114434</td>\n",
              "      <td>-2.0</td>\n",
              "      <td>-1.00</td>\n",
              "      <td>0.0</td>\n",
              "      <td>0.00</td>\n",
              "      <td>8.0</td>\n",
              "    </tr>\n",
              "    <tr>\n",
              "      <th>pay_2</th>\n",
              "      <td>2964.0</td>\n",
              "      <td>-0.121795</td>\n",
              "      <td>1.180479</td>\n",
              "      <td>-2.0</td>\n",
              "      <td>-1.00</td>\n",
              "      <td>0.0</td>\n",
              "      <td>0.00</td>\n",
              "      <td>7.0</td>\n",
              "    </tr>\n",
              "    <tr>\n",
              "      <th>pay_3</th>\n",
              "      <td>2964.0</td>\n",
              "      <td>-0.141026</td>\n",
              "      <td>1.183337</td>\n",
              "      <td>-2.0</td>\n",
              "      <td>-1.00</td>\n",
              "      <td>0.0</td>\n",
              "      <td>0.00</td>\n",
              "      <td>7.0</td>\n",
              "    </tr>\n",
              "    <tr>\n",
              "      <th>pay_4</th>\n",
              "      <td>2964.0</td>\n",
              "      <td>-0.184548</td>\n",
              "      <td>1.178049</td>\n",
              "      <td>-2.0</td>\n",
              "      <td>-1.00</td>\n",
              "      <td>0.0</td>\n",
              "      <td>0.00</td>\n",
              "      <td>8.0</td>\n",
              "    </tr>\n",
              "    <tr>\n",
              "      <th>bill_amt_1</th>\n",
              "      <td>2964.0</td>\n",
              "      <td>52135.889001</td>\n",
              "      <td>72334.536115</td>\n",
              "      <td>-11545.0</td>\n",
              "      <td>3979.75</td>\n",
              "      <td>24325.0</td>\n",
              "      <td>69863.00</td>\n",
              "      <td>613860.0</td>\n",
              "    </tr>\n",
              "    <tr>\n",
              "      <th>bill_amt_2</th>\n",
              "      <td>2964.0</td>\n",
              "      <td>50666.241228</td>\n",
              "      <td>70790.828470</td>\n",
              "      <td>-67526.0</td>\n",
              "      <td>3403.50</td>\n",
              "      <td>23169.0</td>\n",
              "      <td>67836.25</td>\n",
              "      <td>512650.0</td>\n",
              "    </tr>\n",
              "    <tr>\n",
              "      <th>bill_amt_3</th>\n",
              "      <td>2964.0</td>\n",
              "      <td>48256.032726</td>\n",
              "      <td>68151.445516</td>\n",
              "      <td>-25443.0</td>\n",
              "      <td>3311.75</td>\n",
              "      <td>21549.5</td>\n",
              "      <td>63034.50</td>\n",
              "      <td>578971.0</td>\n",
              "    </tr>\n",
              "    <tr>\n",
              "      <th>bill_amt_4</th>\n",
              "      <td>2964.0</td>\n",
              "      <td>44104.558367</td>\n",
              "      <td>61912.600106</td>\n",
              "      <td>-46627.0</td>\n",
              "      <td>2585.00</td>\n",
              "      <td>19895.0</td>\n",
              "      <td>58638.50</td>\n",
              "      <td>488808.0</td>\n",
              "    </tr>\n",
              "    <tr>\n",
              "      <th>bill_amt_5</th>\n",
              "      <td>2964.0</td>\n",
              "      <td>40969.898448</td>\n",
              "      <td>58276.878626</td>\n",
              "      <td>-46627.0</td>\n",
              "      <td>1974.50</td>\n",
              "      <td>18819.5</td>\n",
              "      <td>53414.50</td>\n",
              "      <td>441981.0</td>\n",
              "    </tr>\n",
              "    <tr>\n",
              "      <th>bill_amt_6</th>\n",
              "      <td>2964.0</td>\n",
              "      <td>39786.491228</td>\n",
              "      <td>57308.498646</td>\n",
              "      <td>-73895.0</td>\n",
              "      <td>1433.00</td>\n",
              "      <td>18511.5</td>\n",
              "      <td>52297.00</td>\n",
              "      <td>436172.0</td>\n",
              "    </tr>\n",
              "    <tr>\n",
              "      <th>pay_amt_1</th>\n",
              "      <td>2964.0</td>\n",
              "      <td>6351.044872</td>\n",
              "      <td>20888.933729</td>\n",
              "      <td>0.0</td>\n",
              "      <td>1013.00</td>\n",
              "      <td>2238.0</td>\n",
              "      <td>5089.50</td>\n",
              "      <td>493358.0</td>\n",
              "    </tr>\n",
              "    <tr>\n",
              "      <th>pay_amt_2</th>\n",
              "      <td>2964.0</td>\n",
              "      <td>6274.610661</td>\n",
              "      <td>28884.317574</td>\n",
              "      <td>0.0</td>\n",
              "      <td>997.50</td>\n",
              "      <td>2182.5</td>\n",
              "      <td>5000.00</td>\n",
              "      <td>1227082.0</td>\n",
              "    </tr>\n",
              "    <tr>\n",
              "      <th>pay_amt_3</th>\n",
              "      <td>2964.0</td>\n",
              "      <td>5152.234818</td>\n",
              "      <td>14289.177313</td>\n",
              "      <td>0.0</td>\n",
              "      <td>479.25</td>\n",
              "      <td>1997.0</td>\n",
              "      <td>4500.00</td>\n",
              "      <td>199209.0</td>\n",
              "    </tr>\n",
              "    <tr>\n",
              "      <th>pay_amt_4</th>\n",
              "      <td>2964.0</td>\n",
              "      <td>4562.914980</td>\n",
              "      <td>13283.476236</td>\n",
              "      <td>0.0</td>\n",
              "      <td>313.75</td>\n",
              "      <td>1600.0</td>\n",
              "      <td>4000.25</td>\n",
              "      <td>202076.0</td>\n",
              "    </tr>\n",
              "    <tr>\n",
              "      <th>pay_amt_5</th>\n",
              "      <td>2964.0</td>\n",
              "      <td>4914.944332</td>\n",
              "      <td>16736.920951</td>\n",
              "      <td>0.0</td>\n",
              "      <td>325.25</td>\n",
              "      <td>1646.5</td>\n",
              "      <td>4021.00</td>\n",
              "      <td>388071.0</td>\n",
              "    </tr>\n",
              "    <tr>\n",
              "      <th>pay_amt_6</th>\n",
              "      <td>2964.0</td>\n",
              "      <td>5384.517544</td>\n",
              "      <td>17278.585006</td>\n",
              "      <td>0.0</td>\n",
              "      <td>175.25</td>\n",
              "      <td>1626.5</td>\n",
              "      <td>4081.75</td>\n",
              "      <td>403500.0</td>\n",
              "    </tr>\n",
              "  </tbody>\n",
              "</table>\n",
              "</div>\n",
              "      <button class=\"colab-df-convert\" onclick=\"convertToInteractive('df-c8397935-5f64-430d-ae79-909ed2b7651a')\"\n",
              "              title=\"Convert this dataframe to an interactive table.\"\n",
              "              style=\"display:none;\">\n",
              "        \n",
              "  <svg xmlns=\"http://www.w3.org/2000/svg\" height=\"24px\"viewBox=\"0 0 24 24\"\n",
              "       width=\"24px\">\n",
              "    <path d=\"M0 0h24v24H0V0z\" fill=\"none\"/>\n",
              "    <path d=\"M18.56 5.44l.94 2.06.94-2.06 2.06-.94-2.06-.94-.94-2.06-.94 2.06-2.06.94zm-11 1L8.5 8.5l.94-2.06 2.06-.94-2.06-.94L8.5 2.5l-.94 2.06-2.06.94zm10 10l.94 2.06.94-2.06 2.06-.94-2.06-.94-.94-2.06-.94 2.06-2.06.94z\"/><path d=\"M17.41 7.96l-1.37-1.37c-.4-.4-.92-.59-1.43-.59-.52 0-1.04.2-1.43.59L10.3 9.45l-7.72 7.72c-.78.78-.78 2.05 0 2.83L4 21.41c.39.39.9.59 1.41.59.51 0 1.02-.2 1.41-.59l7.78-7.78 2.81-2.81c.8-.78.8-2.07 0-2.86zM5.41 20L4 18.59l7.72-7.72 1.47 1.35L5.41 20z\"/>\n",
              "  </svg>\n",
              "      </button>\n",
              "      \n",
              "  <style>\n",
              "    .colab-df-container {\n",
              "      display:flex;\n",
              "      flex-wrap:wrap;\n",
              "      gap: 12px;\n",
              "    }\n",
              "\n",
              "    .colab-df-convert {\n",
              "      background-color: #E8F0FE;\n",
              "      border: none;\n",
              "      border-radius: 50%;\n",
              "      cursor: pointer;\n",
              "      display: none;\n",
              "      fill: #1967D2;\n",
              "      height: 32px;\n",
              "      padding: 0 0 0 0;\n",
              "      width: 32px;\n",
              "    }\n",
              "\n",
              "    .colab-df-convert:hover {\n",
              "      background-color: #E2EBFA;\n",
              "      box-shadow: 0px 1px 2px rgba(60, 64, 67, 0.3), 0px 1px 3px 1px rgba(60, 64, 67, 0.15);\n",
              "      fill: #174EA6;\n",
              "    }\n",
              "\n",
              "    [theme=dark] .colab-df-convert {\n",
              "      background-color: #3B4455;\n",
              "      fill: #D2E3FC;\n",
              "    }\n",
              "\n",
              "    [theme=dark] .colab-df-convert:hover {\n",
              "      background-color: #434B5C;\n",
              "      box-shadow: 0px 1px 3px 1px rgba(0, 0, 0, 0.15);\n",
              "      filter: drop-shadow(0px 1px 2px rgba(0, 0, 0, 0.3));\n",
              "      fill: #FFFFFF;\n",
              "    }\n",
              "  </style>\n",
              "\n",
              "      <script>\n",
              "        const buttonEl =\n",
              "          document.querySelector('#df-c8397935-5f64-430d-ae79-909ed2b7651a button.colab-df-convert');\n",
              "        buttonEl.style.display =\n",
              "          google.colab.kernel.accessAllowed ? 'block' : 'none';\n",
              "\n",
              "        async function convertToInteractive(key) {\n",
              "          const element = document.querySelector('#df-c8397935-5f64-430d-ae79-909ed2b7651a');\n",
              "          const dataTable =\n",
              "            await google.colab.kernel.invokeFunction('convertToInteractive',\n",
              "                                                     [key], {});\n",
              "          if (!dataTable) return;\n",
              "\n",
              "          const docLinkHtml = 'Like what you see? Visit the ' +\n",
              "            '<a target=\"_blank\" href=https://colab.research.google.com/notebooks/data_table.ipynb>data table notebook</a>'\n",
              "            + ' to learn more about interactive tables.';\n",
              "          element.innerHTML = '';\n",
              "          dataTable['output_type'] = 'display_data';\n",
              "          await google.colab.output.renderOutput(dataTable, element);\n",
              "          const docLink = document.createElement('div');\n",
              "          docLink.innerHTML = docLinkHtml;\n",
              "          element.appendChild(docLink);\n",
              "        }\n",
              "      </script>\n",
              "    </div>\n",
              "  </div>\n",
              "  "
            ]
          },
          "metadata": {},
          "execution_count": 19
        }
      ],
      "source": [
        "#mengetahui isi data kolom numerikal value\n",
        "df[num_col].describe().T"
      ]
    },
    {
      "cell_type": "markdown",
      "metadata": {
        "id": "Gf30exgog3y4"
      },
      "source": [
        "DATA LOADING OVERVIEW\n",
        "1. Terdapat 1 buah datat duplikat\n",
        "2. Tidak terdapat missing value pada data\n",
        "3. Tipe data sudah sesuai permintaan pada rubrik Kolom sex STRING menjadi INT, education_level\tSTRING menjadi INT ,marital_status\tSTRING menjadi INT,pay_5 STRING menjadi FLOAT, pay_6\tSTRING menjadi FLOAT,default_payment_next_month\tmenjadi STRING\tINT.\n",
        "4. Terdapat 2964 rows dan 24 kolom\n",
        "5. Tidak ada tipe kolom type huruf namun ada kolom dengan jumlah unique seperti categorical karena memiliki pattern ordinal seperti sex, marital_status, dan juga educational level\n"
      ]
    },
    {
      "cell_type": "markdown",
      "metadata": {
        "id": "hq9jB8N4jNa6"
      },
      "source": [
        "##4.EXPLORATORY DATA ANALYSIS"
      ]
    },
    {
      "cell_type": "code",
      "execution_count": null,
      "metadata": {
        "colab": {
          "base_uri": "https://localhost:8080/",
          "height": 394
        },
        "id": "GbvP1_LqlmRV",
        "outputId": "47b7cf75-1364-4142-af08-327ea53c51b7"
      },
      "outputs": [
        {
          "output_type": "execute_result",
          "data": {
            "text/plain": [
              "               sex  education_level  marital_status        pay_5        pay_6  \\\n",
              "count  2964.000000      2964.000000     2964.000000  2964.000000  2964.000000   \n",
              "mean      1.607625         1.849865        1.560054    -0.224696    -0.254049   \n",
              "std       0.488362         0.778159        0.522304     1.158739     1.167061   \n",
              "min       1.000000         0.000000        0.000000    -2.000000    -2.000000   \n",
              "25%       1.000000         1.000000        1.000000    -1.000000    -1.000000   \n",
              "50%       2.000000         2.000000        2.000000     0.000000     0.000000   \n",
              "75%       2.000000         2.000000        2.000000     0.000000     0.000000   \n",
              "max       2.000000         6.000000        3.000000     7.000000     7.000000   \n",
              "\n",
              "       default_payment_next_month  limit_balance          age        pay_0  \\\n",
              "count                 2964.000000    2964.000000  2964.000000  2964.000000   \n",
              "mean                     0.214238  163356.950067    35.193657     0.004723   \n",
              "std                      0.410362  125049.701016     9.110949     1.114434   \n",
              "min                      0.000000   10000.000000    21.000000    -2.000000   \n",
              "25%                      0.000000   50000.000000    28.000000    -1.000000   \n",
              "50%                      0.000000  140000.000000    34.000000     0.000000   \n",
              "75%                      0.000000  230000.000000    41.000000     0.000000   \n",
              "max                      1.000000  800000.000000    69.000000     8.000000   \n",
              "\n",
              "             pay_2  ...     bill_amt_3     bill_amt_4     bill_amt_5  \\\n",
              "count  2964.000000  ...    2964.000000    2964.000000    2964.000000   \n",
              "mean     -0.121795  ...   48256.032726   44104.558367   40969.898448   \n",
              "std       1.180479  ...   68151.445516   61912.600106   58276.878626   \n",
              "min      -2.000000  ...  -25443.000000  -46627.000000  -46627.000000   \n",
              "25%      -1.000000  ...    3311.750000    2585.000000    1974.500000   \n",
              "50%       0.000000  ...   21549.500000   19895.000000   18819.500000   \n",
              "75%       0.000000  ...   63034.500000   58638.500000   53414.500000   \n",
              "max       7.000000  ...  578971.000000  488808.000000  441981.000000   \n",
              "\n",
              "          bill_amt_6      pay_amt_1     pay_amt_2      pay_amt_3  \\\n",
              "count    2964.000000    2964.000000  2.964000e+03    2964.000000   \n",
              "mean    39786.491228    6351.044872  6.274611e+03    5152.234818   \n",
              "std     57308.498646   20888.933729  2.888432e+04   14289.177313   \n",
              "min    -73895.000000       0.000000  0.000000e+00       0.000000   \n",
              "25%      1433.000000    1013.000000  9.975000e+02     479.250000   \n",
              "50%     18511.500000    2238.000000  2.182500e+03    1997.000000   \n",
              "75%     52297.000000    5089.500000  5.000000e+03    4500.000000   \n",
              "max    436172.000000  493358.000000  1.227082e+06  199209.000000   \n",
              "\n",
              "           pay_amt_4      pay_amt_5      pay_amt_6  \n",
              "count    2964.000000    2964.000000    2964.000000  \n",
              "mean     4562.914980    4914.944332    5384.517544  \n",
              "std     13283.476236   16736.920951   17278.585006  \n",
              "min         0.000000       0.000000       0.000000  \n",
              "25%       313.750000     325.250000     175.250000  \n",
              "50%      1600.000000    1646.500000    1626.500000  \n",
              "75%      4000.250000    4021.000000    4081.750000  \n",
              "max    202076.000000  388071.000000  403500.000000  \n",
              "\n",
              "[8 rows x 24 columns]"
            ],
            "text/html": [
              "\n",
              "  <div id=\"df-ebf433e0-1414-4879-a058-b54468ef954e\">\n",
              "    <div class=\"colab-df-container\">\n",
              "      <div>\n",
              "<style scoped>\n",
              "    .dataframe tbody tr th:only-of-type {\n",
              "        vertical-align: middle;\n",
              "    }\n",
              "\n",
              "    .dataframe tbody tr th {\n",
              "        vertical-align: top;\n",
              "    }\n",
              "\n",
              "    .dataframe thead th {\n",
              "        text-align: right;\n",
              "    }\n",
              "</style>\n",
              "<table border=\"1\" class=\"dataframe\">\n",
              "  <thead>\n",
              "    <tr style=\"text-align: right;\">\n",
              "      <th></th>\n",
              "      <th>sex</th>\n",
              "      <th>education_level</th>\n",
              "      <th>marital_status</th>\n",
              "      <th>pay_5</th>\n",
              "      <th>pay_6</th>\n",
              "      <th>default_payment_next_month</th>\n",
              "      <th>limit_balance</th>\n",
              "      <th>age</th>\n",
              "      <th>pay_0</th>\n",
              "      <th>pay_2</th>\n",
              "      <th>...</th>\n",
              "      <th>bill_amt_3</th>\n",
              "      <th>bill_amt_4</th>\n",
              "      <th>bill_amt_5</th>\n",
              "      <th>bill_amt_6</th>\n",
              "      <th>pay_amt_1</th>\n",
              "      <th>pay_amt_2</th>\n",
              "      <th>pay_amt_3</th>\n",
              "      <th>pay_amt_4</th>\n",
              "      <th>pay_amt_5</th>\n",
              "      <th>pay_amt_6</th>\n",
              "    </tr>\n",
              "  </thead>\n",
              "  <tbody>\n",
              "    <tr>\n",
              "      <th>count</th>\n",
              "      <td>2964.000000</td>\n",
              "      <td>2964.000000</td>\n",
              "      <td>2964.000000</td>\n",
              "      <td>2964.000000</td>\n",
              "      <td>2964.000000</td>\n",
              "      <td>2964.000000</td>\n",
              "      <td>2964.000000</td>\n",
              "      <td>2964.000000</td>\n",
              "      <td>2964.000000</td>\n",
              "      <td>2964.000000</td>\n",
              "      <td>...</td>\n",
              "      <td>2964.000000</td>\n",
              "      <td>2964.000000</td>\n",
              "      <td>2964.000000</td>\n",
              "      <td>2964.000000</td>\n",
              "      <td>2964.000000</td>\n",
              "      <td>2.964000e+03</td>\n",
              "      <td>2964.000000</td>\n",
              "      <td>2964.000000</td>\n",
              "      <td>2964.000000</td>\n",
              "      <td>2964.000000</td>\n",
              "    </tr>\n",
              "    <tr>\n",
              "      <th>mean</th>\n",
              "      <td>1.607625</td>\n",
              "      <td>1.849865</td>\n",
              "      <td>1.560054</td>\n",
              "      <td>-0.224696</td>\n",
              "      <td>-0.254049</td>\n",
              "      <td>0.214238</td>\n",
              "      <td>163356.950067</td>\n",
              "      <td>35.193657</td>\n",
              "      <td>0.004723</td>\n",
              "      <td>-0.121795</td>\n",
              "      <td>...</td>\n",
              "      <td>48256.032726</td>\n",
              "      <td>44104.558367</td>\n",
              "      <td>40969.898448</td>\n",
              "      <td>39786.491228</td>\n",
              "      <td>6351.044872</td>\n",
              "      <td>6.274611e+03</td>\n",
              "      <td>5152.234818</td>\n",
              "      <td>4562.914980</td>\n",
              "      <td>4914.944332</td>\n",
              "      <td>5384.517544</td>\n",
              "    </tr>\n",
              "    <tr>\n",
              "      <th>std</th>\n",
              "      <td>0.488362</td>\n",
              "      <td>0.778159</td>\n",
              "      <td>0.522304</td>\n",
              "      <td>1.158739</td>\n",
              "      <td>1.167061</td>\n",
              "      <td>0.410362</td>\n",
              "      <td>125049.701016</td>\n",
              "      <td>9.110949</td>\n",
              "      <td>1.114434</td>\n",
              "      <td>1.180479</td>\n",
              "      <td>...</td>\n",
              "      <td>68151.445516</td>\n",
              "      <td>61912.600106</td>\n",
              "      <td>58276.878626</td>\n",
              "      <td>57308.498646</td>\n",
              "      <td>20888.933729</td>\n",
              "      <td>2.888432e+04</td>\n",
              "      <td>14289.177313</td>\n",
              "      <td>13283.476236</td>\n",
              "      <td>16736.920951</td>\n",
              "      <td>17278.585006</td>\n",
              "    </tr>\n",
              "    <tr>\n",
              "      <th>min</th>\n",
              "      <td>1.000000</td>\n",
              "      <td>0.000000</td>\n",
              "      <td>0.000000</td>\n",
              "      <td>-2.000000</td>\n",
              "      <td>-2.000000</td>\n",
              "      <td>0.000000</td>\n",
              "      <td>10000.000000</td>\n",
              "      <td>21.000000</td>\n",
              "      <td>-2.000000</td>\n",
              "      <td>-2.000000</td>\n",
              "      <td>...</td>\n",
              "      <td>-25443.000000</td>\n",
              "      <td>-46627.000000</td>\n",
              "      <td>-46627.000000</td>\n",
              "      <td>-73895.000000</td>\n",
              "      <td>0.000000</td>\n",
              "      <td>0.000000e+00</td>\n",
              "      <td>0.000000</td>\n",
              "      <td>0.000000</td>\n",
              "      <td>0.000000</td>\n",
              "      <td>0.000000</td>\n",
              "    </tr>\n",
              "    <tr>\n",
              "      <th>25%</th>\n",
              "      <td>1.000000</td>\n",
              "      <td>1.000000</td>\n",
              "      <td>1.000000</td>\n",
              "      <td>-1.000000</td>\n",
              "      <td>-1.000000</td>\n",
              "      <td>0.000000</td>\n",
              "      <td>50000.000000</td>\n",
              "      <td>28.000000</td>\n",
              "      <td>-1.000000</td>\n",
              "      <td>-1.000000</td>\n",
              "      <td>...</td>\n",
              "      <td>3311.750000</td>\n",
              "      <td>2585.000000</td>\n",
              "      <td>1974.500000</td>\n",
              "      <td>1433.000000</td>\n",
              "      <td>1013.000000</td>\n",
              "      <td>9.975000e+02</td>\n",
              "      <td>479.250000</td>\n",
              "      <td>313.750000</td>\n",
              "      <td>325.250000</td>\n",
              "      <td>175.250000</td>\n",
              "    </tr>\n",
              "    <tr>\n",
              "      <th>50%</th>\n",
              "      <td>2.000000</td>\n",
              "      <td>2.000000</td>\n",
              "      <td>2.000000</td>\n",
              "      <td>0.000000</td>\n",
              "      <td>0.000000</td>\n",
              "      <td>0.000000</td>\n",
              "      <td>140000.000000</td>\n",
              "      <td>34.000000</td>\n",
              "      <td>0.000000</td>\n",
              "      <td>0.000000</td>\n",
              "      <td>...</td>\n",
              "      <td>21549.500000</td>\n",
              "      <td>19895.000000</td>\n",
              "      <td>18819.500000</td>\n",
              "      <td>18511.500000</td>\n",
              "      <td>2238.000000</td>\n",
              "      <td>2.182500e+03</td>\n",
              "      <td>1997.000000</td>\n",
              "      <td>1600.000000</td>\n",
              "      <td>1646.500000</td>\n",
              "      <td>1626.500000</td>\n",
              "    </tr>\n",
              "    <tr>\n",
              "      <th>75%</th>\n",
              "      <td>2.000000</td>\n",
              "      <td>2.000000</td>\n",
              "      <td>2.000000</td>\n",
              "      <td>0.000000</td>\n",
              "      <td>0.000000</td>\n",
              "      <td>0.000000</td>\n",
              "      <td>230000.000000</td>\n",
              "      <td>41.000000</td>\n",
              "      <td>0.000000</td>\n",
              "      <td>0.000000</td>\n",
              "      <td>...</td>\n",
              "      <td>63034.500000</td>\n",
              "      <td>58638.500000</td>\n",
              "      <td>53414.500000</td>\n",
              "      <td>52297.000000</td>\n",
              "      <td>5089.500000</td>\n",
              "      <td>5.000000e+03</td>\n",
              "      <td>4500.000000</td>\n",
              "      <td>4000.250000</td>\n",
              "      <td>4021.000000</td>\n",
              "      <td>4081.750000</td>\n",
              "    </tr>\n",
              "    <tr>\n",
              "      <th>max</th>\n",
              "      <td>2.000000</td>\n",
              "      <td>6.000000</td>\n",
              "      <td>3.000000</td>\n",
              "      <td>7.000000</td>\n",
              "      <td>7.000000</td>\n",
              "      <td>1.000000</td>\n",
              "      <td>800000.000000</td>\n",
              "      <td>69.000000</td>\n",
              "      <td>8.000000</td>\n",
              "      <td>7.000000</td>\n",
              "      <td>...</td>\n",
              "      <td>578971.000000</td>\n",
              "      <td>488808.000000</td>\n",
              "      <td>441981.000000</td>\n",
              "      <td>436172.000000</td>\n",
              "      <td>493358.000000</td>\n",
              "      <td>1.227082e+06</td>\n",
              "      <td>199209.000000</td>\n",
              "      <td>202076.000000</td>\n",
              "      <td>388071.000000</td>\n",
              "      <td>403500.000000</td>\n",
              "    </tr>\n",
              "  </tbody>\n",
              "</table>\n",
              "<p>8 rows × 24 columns</p>\n",
              "</div>\n",
              "      <button class=\"colab-df-convert\" onclick=\"convertToInteractive('df-ebf433e0-1414-4879-a058-b54468ef954e')\"\n",
              "              title=\"Convert this dataframe to an interactive table.\"\n",
              "              style=\"display:none;\">\n",
              "        \n",
              "  <svg xmlns=\"http://www.w3.org/2000/svg\" height=\"24px\"viewBox=\"0 0 24 24\"\n",
              "       width=\"24px\">\n",
              "    <path d=\"M0 0h24v24H0V0z\" fill=\"none\"/>\n",
              "    <path d=\"M18.56 5.44l.94 2.06.94-2.06 2.06-.94-2.06-.94-.94-2.06-.94 2.06-2.06.94zm-11 1L8.5 8.5l.94-2.06 2.06-.94-2.06-.94L8.5 2.5l-.94 2.06-2.06.94zm10 10l.94 2.06.94-2.06 2.06-.94-2.06-.94-.94-2.06-.94 2.06-2.06.94z\"/><path d=\"M17.41 7.96l-1.37-1.37c-.4-.4-.92-.59-1.43-.59-.52 0-1.04.2-1.43.59L10.3 9.45l-7.72 7.72c-.78.78-.78 2.05 0 2.83L4 21.41c.39.39.9.59 1.41.59.51 0 1.02-.2 1.41-.59l7.78-7.78 2.81-2.81c.8-.78.8-2.07 0-2.86zM5.41 20L4 18.59l7.72-7.72 1.47 1.35L5.41 20z\"/>\n",
              "  </svg>\n",
              "      </button>\n",
              "      \n",
              "  <style>\n",
              "    .colab-df-container {\n",
              "      display:flex;\n",
              "      flex-wrap:wrap;\n",
              "      gap: 12px;\n",
              "    }\n",
              "\n",
              "    .colab-df-convert {\n",
              "      background-color: #E8F0FE;\n",
              "      border: none;\n",
              "      border-radius: 50%;\n",
              "      cursor: pointer;\n",
              "      display: none;\n",
              "      fill: #1967D2;\n",
              "      height: 32px;\n",
              "      padding: 0 0 0 0;\n",
              "      width: 32px;\n",
              "    }\n",
              "\n",
              "    .colab-df-convert:hover {\n",
              "      background-color: #E2EBFA;\n",
              "      box-shadow: 0px 1px 2px rgba(60, 64, 67, 0.3), 0px 1px 3px 1px rgba(60, 64, 67, 0.15);\n",
              "      fill: #174EA6;\n",
              "    }\n",
              "\n",
              "    [theme=dark] .colab-df-convert {\n",
              "      background-color: #3B4455;\n",
              "      fill: #D2E3FC;\n",
              "    }\n",
              "\n",
              "    [theme=dark] .colab-df-convert:hover {\n",
              "      background-color: #434B5C;\n",
              "      box-shadow: 0px 1px 3px 1px rgba(0, 0, 0, 0.15);\n",
              "      filter: drop-shadow(0px 1px 2px rgba(0, 0, 0, 0.3));\n",
              "      fill: #FFFFFF;\n",
              "    }\n",
              "  </style>\n",
              "\n",
              "      <script>\n",
              "        const buttonEl =\n",
              "          document.querySelector('#df-ebf433e0-1414-4879-a058-b54468ef954e button.colab-df-convert');\n",
              "        buttonEl.style.display =\n",
              "          google.colab.kernel.accessAllowed ? 'block' : 'none';\n",
              "\n",
              "        async function convertToInteractive(key) {\n",
              "          const element = document.querySelector('#df-ebf433e0-1414-4879-a058-b54468ef954e');\n",
              "          const dataTable =\n",
              "            await google.colab.kernel.invokeFunction('convertToInteractive',\n",
              "                                                     [key], {});\n",
              "          if (!dataTable) return;\n",
              "\n",
              "          const docLinkHtml = 'Like what you see? Visit the ' +\n",
              "            '<a target=\"_blank\" href=https://colab.research.google.com/notebooks/data_table.ipynb>data table notebook</a>'\n",
              "            + ' to learn more about interactive tables.';\n",
              "          element.innerHTML = '';\n",
              "          dataTable['output_type'] = 'display_data';\n",
              "          await google.colab.output.renderOutput(dataTable, element);\n",
              "          const docLink = document.createElement('div');\n",
              "          docLink.innerHTML = docLinkHtml;\n",
              "          element.appendChild(docLink);\n",
              "        }\n",
              "      </script>\n",
              "    </div>\n",
              "  </div>\n",
              "  "
            ]
          },
          "metadata": {},
          "execution_count": 20
        }
      ],
      "source": [
        "#melakukan pengecekan informasi basic pada data\n",
        "df.describe()"
      ]
    },
    {
      "cell_type": "code",
      "execution_count": null,
      "metadata": {
        "colab": {
          "base_uri": "https://localhost:8080/"
        },
        "id": "XIMJnPFtlxgB",
        "outputId": "bbdacb4a-a766-45db-a96d-4d8f95f4b80b"
      },
      "outputs": [
        {
          "output_type": "execute_result",
          "data": {
            "text/plain": [
              "['sex',\n",
              " 'education_level',\n",
              " 'marital_status',\n",
              " 'pay_5',\n",
              " 'pay_6',\n",
              " 'default_payment_next_month',\n",
              " 'limit_balance',\n",
              " 'age',\n",
              " 'pay_0',\n",
              " 'pay_2',\n",
              " 'pay_3',\n",
              " 'pay_4',\n",
              " 'bill_amt_1',\n",
              " 'bill_amt_2',\n",
              " 'bill_amt_3',\n",
              " 'bill_amt_4',\n",
              " 'bill_amt_5',\n",
              " 'bill_amt_6',\n",
              " 'pay_amt_1',\n",
              " 'pay_amt_2',\n",
              " 'pay_amt_3',\n",
              " 'pay_amt_4',\n",
              " 'pay_amt_5',\n",
              " 'pay_amt_6']"
            ]
          },
          "metadata": {},
          "execution_count": 21
        }
      ],
      "source": [
        "#mengecek jumlah kolom numerikal\n",
        "num_col"
      ]
    },
    {
      "cell_type": "markdown",
      "metadata": {
        "id": "uYIWFtuWxmNC"
      },
      "source": [
        "- DEFAULT PAYMENT NEXT MONTH TOTAL SUM"
      ]
    },
    {
      "cell_type": "markdown",
      "metadata": {
        "id": "VGK3LhduvO9X"
      },
      "source": [
        "Ditemukan pada target prediksi pada data memiliki data yang imbalance hal tersebut dapat mengganggu hasil prediksi. data yang imbalanced berkemungkinan lebih untuk memprediksi kelas yang mayoritas dan memiliki nilai yang kurang pada minority class."
      ]
    },
    {
      "cell_type": "code",
      "execution_count": null,
      "metadata": {
        "colab": {
          "base_uri": "https://localhost:8080/"
        },
        "id": "UJapWuHOl6TU",
        "outputId": "9670072b-028c-422f-b9ed-d4cca87807ac"
      },
      "outputs": [
        {
          "output_type": "execute_result",
          "data": {
            "text/plain": [
              "0    2329\n",
              "1     635\n",
              "Name: default_payment_next_month, dtype: int64"
            ]
          },
          "metadata": {},
          "execution_count": 22
        }
      ],
      "source": [
        "#List value_counts default_payment_next_month\n",
        "df['default_payment_next_month'].value_counts()"
      ]
    },
    {
      "cell_type": "code",
      "execution_count": null,
      "metadata": {
        "colab": {
          "base_uri": "https://localhost:8080/",
          "height": 279
        },
        "id": "RL8hrHXUmkLL",
        "outputId": "c5518dcf-142a-47e3-84c0-347f2cf614f7"
      },
      "outputs": [
        {
          "output_type": "execute_result",
          "data": {
            "text/plain": [
              "<AxesSubplot:>"
            ]
          },
          "metadata": {},
          "execution_count": 23
        },
        {
          "output_type": "display_data",
          "data": {
            "text/plain": [
              "<Figure size 432x288 with 1 Axes>"
            ],
            "image/png": "[encoded data removed]"
          },
          "metadata": {
            "needs_background": "light"
          }
        }
      ],
      "source": [
        "#Graph Target data pada Target Prediksi menunjukan bahwa data imbalance\n",
        "df['default_payment_next_month'].value_counts().plot(kind='bar')"
      ]
    },
    {
      "cell_type": "markdown",
      "metadata": {
        "id": "B58Of1lj5DHx"
      },
      "source": [
        "- BILL AMOUNT TOTAL SUM "
      ]
    },
    {
      "cell_type": "markdown",
      "metadata": {
        "id": "l5ZDDIZ85d08"
      },
      "source": [
        "keterangan =\n",
        "\n",
        "-bill_amt_1 = september\n",
        "\n",
        "-bill_amt_2 = agustus\n",
        "\n",
        "-bill_amt_3 = juli\n",
        "\n",
        "-bill_amt_4 = juni\n",
        "\n",
        "-bill_amt_5 = may\n",
        "\n",
        "-bill_amt_6 = april\n",
        "\n",
        "Mengetahui jumlah bill_amt dari terbanyak hingga terendah terdapat pada kolom bill_amt_1 dan secara berurutan ke bill_amt_6.\n",
        "\n",
        "Terdapat juga High Multicolinearity pada data namun kita akan membiarkanya karena kita akan membutuhkannya untuk feature selection karena feature tersebut memiliki korelasi yang tinggi terhadap target prediksi. Bill_amt_1 memiliki nilai vif yang tinggi meskipun memiliki nilai vif yang tinggi tidak perlu kita drop karena model yang kita gunakan tidak linear tidak terganggu oleh multicolinearity."
      ]
    },
    {
      "cell_type": "code",
      "execution_count": null,
      "metadata": {
        "colab": {
          "base_uri": "https://localhost:8080/"
        },
        "id": "Go6iYckD4yMR",
        "outputId": "c5368104-27e3-437a-a79f-69ad33eaf898"
      },
      "outputs": [
        {
          "output_type": "execute_result",
          "data": {
            "text/plain": [
              "bill_amt_1    154530775.0\n",
              "bill_amt_2    150174739.0\n",
              "bill_amt_3    143030881.0\n",
              "bill_amt_4    130725911.0\n",
              "bill_amt_5    121434779.0\n",
              "bill_amt_6    117927160.0\n",
              "dtype: float64"
            ]
          },
          "metadata": {},
          "execution_count": 24
        }
      ],
      "source": [
        "#List value_counts default_payment_next_month\n",
        "df[['bill_amt_1','bill_amt_2','bill_amt_3','bill_amt_4','bill_amt_5','bill_amt_6']].sum()"
      ]
    },
    {
      "cell_type": "code",
      "execution_count": null,
      "metadata": {
        "colab": {
          "base_uri": "https://localhost:8080/",
          "height": 296
        },
        "id": "E4IK5JWgoNyj",
        "outputId": "924d04ae-207a-4779-f5b5-9d23fd77d84d"
      },
      "outputs": [
        {
          "output_type": "display_data",
          "data": {
            "text/plain": [
              "<Figure size 432x288 with 1 Axes>"
            ],
            "image/png": "[encoded data removed]"
          },
          "metadata": {
            "needs_background": "light"
          }
        }
      ],
      "source": [
        "#membuat sum dari masing - masing kolom bill_amt\n",
        "bill_amts_sum = df[['bill_amt_1','bill_amt_2','bill_amt_3','bill_amt_4','bill_amt_5','bill_amt_6']].sum()\n",
        "\n",
        "# sort the sum of the bill amount columns in descending order\n",
        "bill_amts_sum = bill_amts_sum.sort_values(ascending=False)\n",
        "\n",
        "# create bar chart\n",
        "plt.bar(bill_amts_sum.index, bill_amts_sum.values)\n",
        "plt.xlabel('Bill Amount')\n",
        "plt.ylabel('Sum')\n",
        "plt.title('Sum of Bill Amounts')\n",
        "plt.show()"
      ]
    },
    {
      "cell_type": "code",
      "execution_count": null,
      "metadata": {
        "colab": {
          "base_uri": "https://localhost:8080/",
          "height": 238
        },
        "id": "CTt6priRT_V6",
        "outputId": "3b417966-ee0d-4713-d2e1-e1aac8e57277"
      },
      "outputs": [
        {
          "output_type": "execute_result",
          "data": {
            "text/plain": [
              "   VIF Factor    features\n",
              "0        13.6  bill_amt_1\n",
              "1        24.0  bill_amt_2\n",
              "2        18.7  bill_amt_3\n",
              "3        22.0  bill_amt_4\n",
              "4        24.0  bill_amt_5\n",
              "5        13.1  bill_amt_6"
            ],
            "text/html": [
              "\n",
              "  <div id=\"df-bdbb2e26-a059-4121-9f71-a39493128b18\">\n",
              "    <div class=\"colab-df-container\">\n",
              "      <div>\n",
              "<style scoped>\n",
              "    .dataframe tbody tr th:only-of-type {\n",
              "        vertical-align: middle;\n",
              "    }\n",
              "\n",
              "    .dataframe tbody tr th {\n",
              "        vertical-align: top;\n",
              "    }\n",
              "\n",
              "    .dataframe thead th {\n",
              "        text-align: right;\n",
              "    }\n",
              "</style>\n",
              "<table border=\"1\" class=\"dataframe\">\n",
              "  <thead>\n",
              "    <tr style=\"text-align: right;\">\n",
              "      <th></th>\n",
              "      <th>VIF Factor</th>\n",
              "      <th>features</th>\n",
              "    </tr>\n",
              "  </thead>\n",
              "  <tbody>\n",
              "    <tr>\n",
              "      <th>0</th>\n",
              "      <td>13.6</td>\n",
              "      <td>bill_amt_1</td>\n",
              "    </tr>\n",
              "    <tr>\n",
              "      <th>1</th>\n",
              "      <td>24.0</td>\n",
              "      <td>bill_amt_2</td>\n",
              "    </tr>\n",
              "    <tr>\n",
              "      <th>2</th>\n",
              "      <td>18.7</td>\n",
              "      <td>bill_amt_3</td>\n",
              "    </tr>\n",
              "    <tr>\n",
              "      <th>3</th>\n",
              "      <td>22.0</td>\n",
              "      <td>bill_amt_4</td>\n",
              "    </tr>\n",
              "    <tr>\n",
              "      <th>4</th>\n",
              "      <td>24.0</td>\n",
              "      <td>bill_amt_5</td>\n",
              "    </tr>\n",
              "    <tr>\n",
              "      <th>5</th>\n",
              "      <td>13.1</td>\n",
              "      <td>bill_amt_6</td>\n",
              "    </tr>\n",
              "  </tbody>\n",
              "</table>\n",
              "</div>\n",
              "      <button class=\"colab-df-convert\" onclick=\"convertToInteractive('df-bdbb2e26-a059-4121-9f71-a39493128b18')\"\n",
              "              title=\"Convert this dataframe to an interactive table.\"\n",
              "              style=\"display:none;\">\n",
              "        \n",
              "  <svg xmlns=\"http://www.w3.org/2000/svg\" height=\"24px\"viewBox=\"0 0 24 24\"\n",
              "       width=\"24px\">\n",
              "    <path d=\"M0 0h24v24H0V0z\" fill=\"none\"/>\n",
              "    <path d=\"M18.56 5.44l.94 2.06.94-2.06 2.06-.94-2.06-.94-.94-2.06-.94 2.06-2.06.94zm-11 1L8.5 8.5l.94-2.06 2.06-.94-2.06-.94L8.5 2.5l-.94 2.06-2.06.94zm10 10l.94 2.06.94-2.06 2.06-.94-2.06-.94-.94-2.06-.94 2.06-2.06.94z\"/><path d=\"M17.41 7.96l-1.37-1.37c-.4-.4-.92-.59-1.43-.59-.52 0-1.04.2-1.43.59L10.3 9.45l-7.72 7.72c-.78.78-.78 2.05 0 2.83L4 21.41c.39.39.9.59 1.41.59.51 0 1.02-.2 1.41-.59l7.78-7.78 2.81-2.81c.8-.78.8-2.07 0-2.86zM5.41 20L4 18.59l7.72-7.72 1.47 1.35L5.41 20z\"/>\n",
              "  </svg>\n",
              "      </button>\n",
              "      \n",
              "  <style>\n",
              "    .colab-df-container {\n",
              "      display:flex;\n",
              "      flex-wrap:wrap;\n",
              "      gap: 12px;\n",
              "    }\n",
              "\n",
              "    .colab-df-convert {\n",
              "      background-color: #E8F0FE;\n",
              "      border: none;\n",
              "      border-radius: 50%;\n",
              "      cursor: pointer;\n",
              "      display: none;\n",
              "      fill: #1967D2;\n",
              "      height: 32px;\n",
              "      padding: 0 0 0 0;\n",
              "      width: 32px;\n",
              "    }\n",
              "\n",
              "    .colab-df-convert:hover {\n",
              "      background-color: #E2EBFA;\n",
              "      box-shadow: 0px 1px 2px rgba(60, 64, 67, 0.3), 0px 1px 3px 1px rgba(60, 64, 67, 0.15);\n",
              "      fill: #174EA6;\n",
              "    }\n",
              "\n",
              "    [theme=dark] .colab-df-convert {\n",
              "      background-color: #3B4455;\n",
              "      fill: #D2E3FC;\n",
              "    }\n",
              "\n",
              "    [theme=dark] .colab-df-convert:hover {\n",
              "      background-color: #434B5C;\n",
              "      box-shadow: 0px 1px 3px 1px rgba(0, 0, 0, 0.15);\n",
              "      filter: drop-shadow(0px 1px 2px rgba(0, 0, 0, 0.3));\n",
              "      fill: #FFFFFF;\n",
              "    }\n",
              "  </style>\n",
              "\n",
              "      <script>\n",
              "        const buttonEl =\n",
              "          document.querySelector('#df-bdbb2e26-a059-4121-9f71-a39493128b18 button.colab-df-convert');\n",
              "        buttonEl.style.display =\n",
              "          google.colab.kernel.accessAllowed ? 'block' : 'none';\n",
              "\n",
              "        async function convertToInteractive(key) {\n",
              "          const element = document.querySelector('#df-bdbb2e26-a059-4121-9f71-a39493128b18');\n",
              "          const dataTable =\n",
              "            await google.colab.kernel.invokeFunction('convertToInteractive',\n",
              "                                                     [key], {});\n",
              "          if (!dataTable) return;\n",
              "\n",
              "          const docLinkHtml = 'Like what you see? Visit the ' +\n",
              "            '<a target=\"_blank\" href=https://colab.research.google.com/notebooks/data_table.ipynb>data table notebook</a>'\n",
              "            + ' to learn more about interactive tables.';\n",
              "          element.innerHTML = '';\n",
              "          dataTable['output_type'] = 'display_data';\n",
              "          await google.colab.output.renderOutput(dataTable, element);\n",
              "          const docLink = document.createElement('div');\n",
              "          docLink.innerHTML = docLinkHtml;\n",
              "          element.appendChild(docLink);\n",
              "        }\n",
              "      </script>\n",
              "    </div>\n",
              "  </div>\n",
              "  "
            ]
          },
          "metadata": {},
          "execution_count": 26
        }
      ],
      "source": [
        "#melakukan pengecekan pada multicolinearity\n",
        "df_vif = df[['bill_amt_1','bill_amt_2','bill_amt_3','bill_amt_4','bill_amt_5','bill_amt_6']]\n",
        "\n",
        "vif = pd.DataFrame()\n",
        "vif[\"VIF Factor\"] = [variance_inflation_factor(df_vif.values, i) for i in range(df_vif.shape[1])]\n",
        "vif[\"features\"] = df_vif.columns\n",
        "vif.round(1)"
      ]
    },
    {
      "cell_type": "markdown",
      "metadata": {
        "id": "pWT51zH2DabR"
      },
      "source": [
        "- TOTAL SUM PAY AMOUNT"
      ]
    },
    {
      "cell_type": "markdown",
      "metadata": {
        "id": "t9EWzJNcFZT4"
      },
      "source": [
        "Keterangan =\n",
        "\n",
        "-pay_amt_1 = september\n",
        "\n",
        "-pay_amt_2 = agustus\n",
        "\n",
        "-pay_amt_3 = juli\n",
        "\n",
        "-pay_amt_4 = juni\n",
        "\n",
        "-pay_amt_5 = may\n",
        "\n",
        "-pay_amt_6 = april\n",
        "\n",
        "\n",
        "SUM Pay_amt adalah pembayaran yang dilakukan oleh nasabah paling banyak \n",
        "\n",
        "pembayaran dilakukan pada pay_amt_1 dan pay_amt_2 bulan terbanyak Agustus dan September.\n",
        "\n",
        "Ditemukan bahwa data memiliki nilai vif yang rendah. "
      ]
    },
    {
      "cell_type": "code",
      "execution_count": null,
      "metadata": {
        "colab": {
          "base_uri": "https://localhost:8080/"
        },
        "id": "NpM8fQEwz3EG",
        "outputId": "20302261-1bfc-4c44-c29a-01b08ca03a84"
      },
      "outputs": [
        {
          "output_type": "execute_result",
          "data": {
            "text/plain": [
              "pay_amt_1    18824497.0\n",
              "pay_amt_2    18597946.0\n",
              "pay_amt_6    15959710.0\n",
              "pay_amt_3    15271224.0\n",
              "pay_amt_5    14567895.0\n",
              "pay_amt_4    13524480.0\n",
              "dtype: float64"
            ]
          },
          "metadata": {},
          "execution_count": 27
        }
      ],
      "source": [
        " #list value sum pay_amt 1 - 6\n",
        " df[['pay_amt_1','pay_amt_2','pay_amt_3','pay_amt_4','pay_amt_5','pay_amt_6']].sum().sort_values(ascending=False)\n"
      ]
    },
    {
      "cell_type": "code",
      "execution_count": null,
      "metadata": {
        "colab": {
          "base_uri": "https://localhost:8080/",
          "height": 296
        },
        "id": "8RuJgJ79zAan",
        "outputId": "c17e54ff-ecd3-49b3-dd21-afa55e3f8278"
      },
      "outputs": [
        {
          "output_type": "display_data",
          "data": {
            "text/plain": [
              "<Figure size 432x288 with 1 Axes>"
            ],
            "image/png": "[encoded data removed]"
          },
          "metadata": {
            "needs_background": "light"
          }
        }
      ],
      "source": [
        "# Membuat sum masing - masing kolom pay_amt\n",
        "pay_amts_sum = df[['pay_amt_1','pay_amt_2','pay_amt_3','pay_amt_4','pay_amt_5','pay_amt_6']].sum().sort_values(ascending=False)\n",
        "\n",
        "# create bar chart\n",
        "plt.bar(pay_amts_sum.index, pay_amts_sum.values)\n",
        "plt.xlabel('Payment Amount')\n",
        "plt.ylabel('Sum')\n",
        "plt.title('Sum of Payment Amounts')\n",
        "plt.show()"
      ]
    },
    {
      "cell_type": "code",
      "execution_count": null,
      "metadata": {
        "colab": {
          "base_uri": "https://localhost:8080/",
          "height": 238
        },
        "id": "Yaiy5JfaTJiC",
        "outputId": "34c66b82-16e3-4f62-916d-505b87290699"
      },
      "outputs": [
        {
          "output_type": "execute_result",
          "data": {
            "text/plain": [
              "   VIF Factor   features\n",
              "0         1.4  pay_amt_1\n",
              "1         1.3  pay_amt_2\n",
              "2         1.3  pay_amt_3\n",
              "3         1.1  pay_amt_4\n",
              "4         1.1  pay_amt_5\n",
              "5         1.1  pay_amt_6"
            ],
            "text/html": [
              "\n",
              "  <div id=\"df-2c17755b-e5fa-480e-abff-af2f086593c8\">\n",
              "    <div class=\"colab-df-container\">\n",
              "      <div>\n",
              "<style scoped>\n",
              "    .dataframe tbody tr th:only-of-type {\n",
              "        vertical-align: middle;\n",
              "    }\n",
              "\n",
              "    .dataframe tbody tr th {\n",
              "        vertical-align: top;\n",
              "    }\n",
              "\n",
              "    .dataframe thead th {\n",
              "        text-align: right;\n",
              "    }\n",
              "</style>\n",
              "<table border=\"1\" class=\"dataframe\">\n",
              "  <thead>\n",
              "    <tr style=\"text-align: right;\">\n",
              "      <th></th>\n",
              "      <th>VIF Factor</th>\n",
              "      <th>features</th>\n",
              "    </tr>\n",
              "  </thead>\n",
              "  <tbody>\n",
              "    <tr>\n",
              "      <th>0</th>\n",
              "      <td>1.4</td>\n",
              "      <td>pay_amt_1</td>\n",
              "    </tr>\n",
              "    <tr>\n",
              "      <th>1</th>\n",
              "      <td>1.3</td>\n",
              "      <td>pay_amt_2</td>\n",
              "    </tr>\n",
              "    <tr>\n",
              "      <th>2</th>\n",
              "      <td>1.3</td>\n",
              "      <td>pay_amt_3</td>\n",
              "    </tr>\n",
              "    <tr>\n",
              "      <th>3</th>\n",
              "      <td>1.1</td>\n",
              "      <td>pay_amt_4</td>\n",
              "    </tr>\n",
              "    <tr>\n",
              "      <th>4</th>\n",
              "      <td>1.1</td>\n",
              "      <td>pay_amt_5</td>\n",
              "    </tr>\n",
              "    <tr>\n",
              "      <th>5</th>\n",
              "      <td>1.1</td>\n",
              "      <td>pay_amt_6</td>\n",
              "    </tr>\n",
              "  </tbody>\n",
              "</table>\n",
              "</div>\n",
              "      <button class=\"colab-df-convert\" onclick=\"convertToInteractive('df-2c17755b-e5fa-480e-abff-af2f086593c8')\"\n",
              "              title=\"Convert this dataframe to an interactive table.\"\n",
              "              style=\"display:none;\">\n",
              "        \n",
              "  <svg xmlns=\"http://www.w3.org/2000/svg\" height=\"24px\"viewBox=\"0 0 24 24\"\n",
              "       width=\"24px\">\n",
              "    <path d=\"M0 0h24v24H0V0z\" fill=\"none\"/>\n",
              "    <path d=\"M18.56 5.44l.94 2.06.94-2.06 2.06-.94-2.06-.94-.94-2.06-.94 2.06-2.06.94zm-11 1L8.5 8.5l.94-2.06 2.06-.94-2.06-.94L8.5 2.5l-.94 2.06-2.06.94zm10 10l.94 2.06.94-2.06 2.06-.94-2.06-.94-.94-2.06-.94 2.06-2.06.94z\"/><path d=\"M17.41 7.96l-1.37-1.37c-.4-.4-.92-.59-1.43-.59-.52 0-1.04.2-1.43.59L10.3 9.45l-7.72 7.72c-.78.78-.78 2.05 0 2.83L4 21.41c.39.39.9.59 1.41.59.51 0 1.02-.2 1.41-.59l7.78-7.78 2.81-2.81c.8-.78.8-2.07 0-2.86zM5.41 20L4 18.59l7.72-7.72 1.47 1.35L5.41 20z\"/>\n",
              "  </svg>\n",
              "      </button>\n",
              "      \n",
              "  <style>\n",
              "    .colab-df-container {\n",
              "      display:flex;\n",
              "      flex-wrap:wrap;\n",
              "      gap: 12px;\n",
              "    }\n",
              "\n",
              "    .colab-df-convert {\n",
              "      background-color: #E8F0FE;\n",
              "      border: none;\n",
              "      border-radius: 50%;\n",
              "      cursor: pointer;\n",
              "      display: none;\n",
              "      fill: #1967D2;\n",
              "      height: 32px;\n",
              "      padding: 0 0 0 0;\n",
              "      width: 32px;\n",
              "    }\n",
              "\n",
              "    .colab-df-convert:hover {\n",
              "      background-color: #E2EBFA;\n",
              "      box-shadow: 0px 1px 2px rgba(60, 64, 67, 0.3), 0px 1px 3px 1px rgba(60, 64, 67, 0.15);\n",
              "      fill: #174EA6;\n",
              "    }\n",
              "\n",
              "    [theme=dark] .colab-df-convert {\n",
              "      background-color: #3B4455;\n",
              "      fill: #D2E3FC;\n",
              "    }\n",
              "\n",
              "    [theme=dark] .colab-df-convert:hover {\n",
              "      background-color: #434B5C;\n",
              "      box-shadow: 0px 1px 3px 1px rgba(0, 0, 0, 0.15);\n",
              "      filter: drop-shadow(0px 1px 2px rgba(0, 0, 0, 0.3));\n",
              "      fill: #FFFFFF;\n",
              "    }\n",
              "  </style>\n",
              "\n",
              "      <script>\n",
              "        const buttonEl =\n",
              "          document.querySelector('#df-2c17755b-e5fa-480e-abff-af2f086593c8 button.colab-df-convert');\n",
              "        buttonEl.style.display =\n",
              "          google.colab.kernel.accessAllowed ? 'block' : 'none';\n",
              "\n",
              "        async function convertToInteractive(key) {\n",
              "          const element = document.querySelector('#df-2c17755b-e5fa-480e-abff-af2f086593c8');\n",
              "          const dataTable =\n",
              "            await google.colab.kernel.invokeFunction('convertToInteractive',\n",
              "                                                     [key], {});\n",
              "          if (!dataTable) return;\n",
              "\n",
              "          const docLinkHtml = 'Like what you see? Visit the ' +\n",
              "            '<a target=\"_blank\" href=https://colab.research.google.com/notebooks/data_table.ipynb>data table notebook</a>'\n",
              "            + ' to learn more about interactive tables.';\n",
              "          element.innerHTML = '';\n",
              "          dataTable['output_type'] = 'display_data';\n",
              "          await google.colab.output.renderOutput(dataTable, element);\n",
              "          const docLink = document.createElement('div');\n",
              "          docLink.innerHTML = docLinkHtml;\n",
              "          element.appendChild(docLink);\n",
              "        }\n",
              "      </script>\n",
              "    </div>\n",
              "  </div>\n",
              "  "
            ]
          },
          "metadata": {},
          "execution_count": 29
        }
      ],
      "source": [
        "df_vif = df[['pay_amt_1','pay_amt_2','pay_amt_3','pay_amt_4','pay_amt_5','pay_amt_6']]\n",
        "\n",
        "vif = pd.DataFrame()\n",
        "vif[\"VIF Factor\"] = [variance_inflation_factor(df_vif.values, i) for i in range(df_vif.shape[1])]\n",
        "vif[\"features\"] = df_vif.columns\n",
        "vif.round(1)"
      ]
    },
    {
      "cell_type": "markdown",
      "metadata": {
        "id": "nQYSNJ2nG_FJ"
      },
      "source": [
        "- TOTAL VALUE_COUNTS SEX"
      ]
    },
    {
      "cell_type": "markdown",
      "metadata": {
        "id": "Esu0avtsHJfT"
      },
      "source": [
        "Keterangan = 1 : Male dan 2 : Female\n",
        "\n",
        "Mayoritas Sex ada di nomer 2 yang artinya nasabah terbanyak adalah perempuan"
      ]
    },
    {
      "cell_type": "code",
      "execution_count": null,
      "metadata": {
        "colab": {
          "base_uri": "https://localhost:8080/"
        },
        "id": "ExcWDlHox2dR",
        "outputId": "876f2c27-d201-41d3-ad67-85f133839e13"
      },
      "outputs": [
        {
          "output_type": "execute_result",
          "data": {
            "text/plain": [
              "2    1801\n",
              "1    1163\n",
              "Name: sex, dtype: int64"
            ]
          },
          "metadata": {},
          "execution_count": 30
        }
      ],
      "source": [
        "#List value_count pada kolom sex\n",
        "df['sex'].value_counts()"
      ]
    },
    {
      "cell_type": "code",
      "execution_count": null,
      "metadata": {
        "colab": {
          "base_uri": "https://localhost:8080/",
          "height": 279
        },
        "id": "cCUakkkOqHfw",
        "outputId": "739db4f0-9b0d-40cc-801f-fba4a3b48b09"
      },
      "outputs": [
        {
          "output_type": "execute_result",
          "data": {
            "text/plain": [
              "<AxesSubplot:>"
            ]
          },
          "metadata": {},
          "execution_count": 31
        },
        {
          "output_type": "display_data",
          "data": {
            "text/plain": [
              "<Figure size 432x288 with 1 Axes>"
            ],
            "image/png": "[encoded data removed]"
          },
          "metadata": {
            "needs_background": "light"
          }
        }
      ],
      "source": [
        "#membuat graph sum dari sex\n",
        "df['sex'].value_counts().plot(kind='bar')"
      ]
    },
    {
      "cell_type": "markdown",
      "metadata": {
        "id": "ML1E-ZPExdQR"
      },
      "source": [
        "EDUCATIONAL LEVEL VS DEFAULT PAYMENT GRAPH"
      ]
    },
    {
      "cell_type": "markdown",
      "metadata": {
        "id": "uM4pyChoxL91"
      },
      "source": [
        "Mengetahui kecendrungan educational_level yang tidak melakukan pembayaran ternyata education tingkat 2 memiliki kecendrungan untuk tidak melakukan pembayaran terlihat semakin tinggi education_level semakin mampu nasabah. data tersebut ikut mengikuti jumlah count data yang menyebutkan educational level 2 jumlah datanya paling banyak."
      ]
    },
    {
      "cell_type": "code",
      "execution_count": null,
      "metadata": {
        "colab": {
          "base_uri": "https://localhost:8080/",
          "height": 300
        },
        "id": "UKRVVbH_y5kw",
        "outputId": "28fbe9eb-a0a0-41f2-a35a-736070c8002e"
      },
      "outputs": [
        {
          "output_type": "execute_result",
          "data": {
            "text/plain": [
              "                 default_payment_next_month\n",
              "education_level                            \n",
              "2                                      1400\n",
              "1                                      1038\n",
              "3                                       483\n",
              "5                                        24\n",
              "4                                        13\n",
              "6                                         4\n",
              "0                                         2"
            ],
            "text/html": [
              "\n",
              "  <div id=\"df-0790e387-d0c8-4858-a0d5-b683bf55d71e\">\n",
              "    <div class=\"colab-df-container\">\n",
              "      <div>\n",
              "<style scoped>\n",
              "    .dataframe tbody tr th:only-of-type {\n",
              "        vertical-align: middle;\n",
              "    }\n",
              "\n",
              "    .dataframe tbody tr th {\n",
              "        vertical-align: top;\n",
              "    }\n",
              "\n",
              "    .dataframe thead th {\n",
              "        text-align: right;\n",
              "    }\n",
              "</style>\n",
              "<table border=\"1\" class=\"dataframe\">\n",
              "  <thead>\n",
              "    <tr style=\"text-align: right;\">\n",
              "      <th></th>\n",
              "      <th>default_payment_next_month</th>\n",
              "    </tr>\n",
              "    <tr>\n",
              "      <th>education_level</th>\n",
              "      <th></th>\n",
              "    </tr>\n",
              "  </thead>\n",
              "  <tbody>\n",
              "    <tr>\n",
              "      <th>2</th>\n",
              "      <td>1400</td>\n",
              "    </tr>\n",
              "    <tr>\n",
              "      <th>1</th>\n",
              "      <td>1038</td>\n",
              "    </tr>\n",
              "    <tr>\n",
              "      <th>3</th>\n",
              "      <td>483</td>\n",
              "    </tr>\n",
              "    <tr>\n",
              "      <th>5</th>\n",
              "      <td>24</td>\n",
              "    </tr>\n",
              "    <tr>\n",
              "      <th>4</th>\n",
              "      <td>13</td>\n",
              "    </tr>\n",
              "    <tr>\n",
              "      <th>6</th>\n",
              "      <td>4</td>\n",
              "    </tr>\n",
              "    <tr>\n",
              "      <th>0</th>\n",
              "      <td>2</td>\n",
              "    </tr>\n",
              "  </tbody>\n",
              "</table>\n",
              "</div>\n",
              "      <button class=\"colab-df-convert\" onclick=\"convertToInteractive('df-0790e387-d0c8-4858-a0d5-b683bf55d71e')\"\n",
              "              title=\"Convert this dataframe to an interactive table.\"\n",
              "              style=\"display:none;\">\n",
              "        \n",
              "  <svg xmlns=\"http://www.w3.org/2000/svg\" height=\"24px\"viewBox=\"0 0 24 24\"\n",
              "       width=\"24px\">\n",
              "    <path d=\"M0 0h24v24H0V0z\" fill=\"none\"/>\n",
              "    <path d=\"M18.56 5.44l.94 2.06.94-2.06 2.06-.94-2.06-.94-.94-2.06-.94 2.06-2.06.94zm-11 1L8.5 8.5l.94-2.06 2.06-.94-2.06-.94L8.5 2.5l-.94 2.06-2.06.94zm10 10l.94 2.06.94-2.06 2.06-.94-2.06-.94-.94-2.06-.94 2.06-2.06.94z\"/><path d=\"M17.41 7.96l-1.37-1.37c-.4-.4-.92-.59-1.43-.59-.52 0-1.04.2-1.43.59L10.3 9.45l-7.72 7.72c-.78.78-.78 2.05 0 2.83L4 21.41c.39.39.9.59 1.41.59.51 0 1.02-.2 1.41-.59l7.78-7.78 2.81-2.81c.8-.78.8-2.07 0-2.86zM5.41 20L4 18.59l7.72-7.72 1.47 1.35L5.41 20z\"/>\n",
              "  </svg>\n",
              "      </button>\n",
              "      \n",
              "  <style>\n",
              "    .colab-df-container {\n",
              "      display:flex;\n",
              "      flex-wrap:wrap;\n",
              "      gap: 12px;\n",
              "    }\n",
              "\n",
              "    .colab-df-convert {\n",
              "      background-color: #E8F0FE;\n",
              "      border: none;\n",
              "      border-radius: 50%;\n",
              "      cursor: pointer;\n",
              "      display: none;\n",
              "      fill: #1967D2;\n",
              "      height: 32px;\n",
              "      padding: 0 0 0 0;\n",
              "      width: 32px;\n",
              "    }\n",
              "\n",
              "    .colab-df-convert:hover {\n",
              "      background-color: #E2EBFA;\n",
              "      box-shadow: 0px 1px 2px rgba(60, 64, 67, 0.3), 0px 1px 3px 1px rgba(60, 64, 67, 0.15);\n",
              "      fill: #174EA6;\n",
              "    }\n",
              "\n",
              "    [theme=dark] .colab-df-convert {\n",
              "      background-color: #3B4455;\n",
              "      fill: #D2E3FC;\n",
              "    }\n",
              "\n",
              "    [theme=dark] .colab-df-convert:hover {\n",
              "      background-color: #434B5C;\n",
              "      box-shadow: 0px 1px 3px 1px rgba(0, 0, 0, 0.15);\n",
              "      filter: drop-shadow(0px 1px 2px rgba(0, 0, 0, 0.3));\n",
              "      fill: #FFFFFF;\n",
              "    }\n",
              "  </style>\n",
              "\n",
              "      <script>\n",
              "        const buttonEl =\n",
              "          document.querySelector('#df-0790e387-d0c8-4858-a0d5-b683bf55d71e button.colab-df-convert');\n",
              "        buttonEl.style.display =\n",
              "          google.colab.kernel.accessAllowed ? 'block' : 'none';\n",
              "\n",
              "        async function convertToInteractive(key) {\n",
              "          const element = document.querySelector('#df-0790e387-d0c8-4858-a0d5-b683bf55d71e');\n",
              "          const dataTable =\n",
              "            await google.colab.kernel.invokeFunction('convertToInteractive',\n",
              "                                                     [key], {});\n",
              "          if (!dataTable) return;\n",
              "\n",
              "          const docLinkHtml = 'Like what you see? Visit the ' +\n",
              "            '<a target=\"_blank\" href=https://colab.research.google.com/notebooks/data_table.ipynb>data table notebook</a>'\n",
              "            + ' to learn more about interactive tables.';\n",
              "          element.innerHTML = '';\n",
              "          dataTable['output_type'] = 'display_data';\n",
              "          await google.colab.output.renderOutput(dataTable, element);\n",
              "          const docLink = document.createElement('div');\n",
              "          docLink.innerHTML = docLinkHtml;\n",
              "          element.appendChild(docLink);\n",
              "        }\n",
              "      </script>\n",
              "    </div>\n",
              "  </div>\n",
              "  "
            ]
          },
          "metadata": {},
          "execution_count": 32
        }
      ],
      "source": [
        "df.groupby('education_level')[['default_payment_next_month']].count().sort_values('default_payment_next_month',ascending = False)"
      ]
    },
    {
      "cell_type": "code",
      "execution_count": null,
      "metadata": {
        "colab": {
          "base_uri": "https://localhost:8080/",
          "height": 300
        },
        "id": "160w0oUNnOBW",
        "outputId": "7bf99836-7de9-4bb1-8454-32c8e51b8b31"
      },
      "outputs": [
        {
          "output_type": "execute_result",
          "data": {
            "text/plain": [
              "                 default_payment_next_month\n",
              "education_level                            \n",
              "2                                       342\n",
              "1                                       177\n",
              "3                                       113\n",
              "6                                         2\n",
              "5                                         1\n",
              "0                                         0\n",
              "4                                         0"
            ],
            "text/html": [
              "\n",
              "  <div id=\"df-ef94ad2a-3c09-429b-8016-e8ca97b83338\">\n",
              "    <div class=\"colab-df-container\">\n",
              "      <div>\n",
              "<style scoped>\n",
              "    .dataframe tbody tr th:only-of-type {\n",
              "        vertical-align: middle;\n",
              "    }\n",
              "\n",
              "    .dataframe tbody tr th {\n",
              "        vertical-align: top;\n",
              "    }\n",
              "\n",
              "    .dataframe thead th {\n",
              "        text-align: right;\n",
              "    }\n",
              "</style>\n",
              "<table border=\"1\" class=\"dataframe\">\n",
              "  <thead>\n",
              "    <tr style=\"text-align: right;\">\n",
              "      <th></th>\n",
              "      <th>default_payment_next_month</th>\n",
              "    </tr>\n",
              "    <tr>\n",
              "      <th>education_level</th>\n",
              "      <th></th>\n",
              "    </tr>\n",
              "  </thead>\n",
              "  <tbody>\n",
              "    <tr>\n",
              "      <th>2</th>\n",
              "      <td>342</td>\n",
              "    </tr>\n",
              "    <tr>\n",
              "      <th>1</th>\n",
              "      <td>177</td>\n",
              "    </tr>\n",
              "    <tr>\n",
              "      <th>3</th>\n",
              "      <td>113</td>\n",
              "    </tr>\n",
              "    <tr>\n",
              "      <th>6</th>\n",
              "      <td>2</td>\n",
              "    </tr>\n",
              "    <tr>\n",
              "      <th>5</th>\n",
              "      <td>1</td>\n",
              "    </tr>\n",
              "    <tr>\n",
              "      <th>0</th>\n",
              "      <td>0</td>\n",
              "    </tr>\n",
              "    <tr>\n",
              "      <th>4</th>\n",
              "      <td>0</td>\n",
              "    </tr>\n",
              "  </tbody>\n",
              "</table>\n",
              "</div>\n",
              "      <button class=\"colab-df-convert\" onclick=\"convertToInteractive('df-ef94ad2a-3c09-429b-8016-e8ca97b83338')\"\n",
              "              title=\"Convert this dataframe to an interactive table.\"\n",
              "              style=\"display:none;\">\n",
              "        \n",
              "  <svg xmlns=\"http://www.w3.org/2000/svg\" height=\"24px\"viewBox=\"0 0 24 24\"\n",
              "       width=\"24px\">\n",
              "    <path d=\"M0 0h24v24H0V0z\" fill=\"none\"/>\n",
              "    <path d=\"M18.56 5.44l.94 2.06.94-2.06 2.06-.94-2.06-.94-.94-2.06-.94 2.06-2.06.94zm-11 1L8.5 8.5l.94-2.06 2.06-.94-2.06-.94L8.5 2.5l-.94 2.06-2.06.94zm10 10l.94 2.06.94-2.06 2.06-.94-2.06-.94-.94-2.06-.94 2.06-2.06.94z\"/><path d=\"M17.41 7.96l-1.37-1.37c-.4-.4-.92-.59-1.43-.59-.52 0-1.04.2-1.43.59L10.3 9.45l-7.72 7.72c-.78.78-.78 2.05 0 2.83L4 21.41c.39.39.9.59 1.41.59.51 0 1.02-.2 1.41-.59l7.78-7.78 2.81-2.81c.8-.78.8-2.07 0-2.86zM5.41 20L4 18.59l7.72-7.72 1.47 1.35L5.41 20z\"/>\n",
              "  </svg>\n",
              "      </button>\n",
              "      \n",
              "  <style>\n",
              "    .colab-df-container {\n",
              "      display:flex;\n",
              "      flex-wrap:wrap;\n",
              "      gap: 12px;\n",
              "    }\n",
              "\n",
              "    .colab-df-convert {\n",
              "      background-color: #E8F0FE;\n",
              "      border: none;\n",
              "      border-radius: 50%;\n",
              "      cursor: pointer;\n",
              "      display: none;\n",
              "      fill: #1967D2;\n",
              "      height: 32px;\n",
              "      padding: 0 0 0 0;\n",
              "      width: 32px;\n",
              "    }\n",
              "\n",
              "    .colab-df-convert:hover {\n",
              "      background-color: #E2EBFA;\n",
              "      box-shadow: 0px 1px 2px rgba(60, 64, 67, 0.3), 0px 1px 3px 1px rgba(60, 64, 67, 0.15);\n",
              "      fill: #174EA6;\n",
              "    }\n",
              "\n",
              "    [theme=dark] .colab-df-convert {\n",
              "      background-color: #3B4455;\n",
              "      fill: #D2E3FC;\n",
              "    }\n",
              "\n",
              "    [theme=dark] .colab-df-convert:hover {\n",
              "      background-color: #434B5C;\n",
              "      box-shadow: 0px 1px 3px 1px rgba(0, 0, 0, 0.15);\n",
              "      filter: drop-shadow(0px 1px 2px rgba(0, 0, 0, 0.3));\n",
              "      fill: #FFFFFF;\n",
              "    }\n",
              "  </style>\n",
              "\n",
              "      <script>\n",
              "        const buttonEl =\n",
              "          document.querySelector('#df-ef94ad2a-3c09-429b-8016-e8ca97b83338 button.colab-df-convert');\n",
              "        buttonEl.style.display =\n",
              "          google.colab.kernel.accessAllowed ? 'block' : 'none';\n",
              "\n",
              "        async function convertToInteractive(key) {\n",
              "          const element = document.querySelector('#df-ef94ad2a-3c09-429b-8016-e8ca97b83338');\n",
              "          const dataTable =\n",
              "            await google.colab.kernel.invokeFunction('convertToInteractive',\n",
              "                                                     [key], {});\n",
              "          if (!dataTable) return;\n",
              "\n",
              "          const docLinkHtml = 'Like what you see? Visit the ' +\n",
              "            '<a target=\"_blank\" href=https://colab.research.google.com/notebooks/data_table.ipynb>data table notebook</a>'\n",
              "            + ' to learn more about interactive tables.';\n",
              "          element.innerHTML = '';\n",
              "          dataTable['output_type'] = 'display_data';\n",
              "          await google.colab.output.renderOutput(dataTable, element);\n",
              "          const docLink = document.createElement('div');\n",
              "          docLink.innerHTML = docLinkHtml;\n",
              "          element.appendChild(docLink);\n",
              "        }\n",
              "      </script>\n",
              "    </div>\n",
              "  </div>\n",
              "  "
            ]
          },
          "metadata": {},
          "execution_count": 33
        }
      ],
      "source": [
        "##list value sum default_payment_next_month pada education_level\n",
        "df.groupby('education_level')[['default_payment_next_month']].sum().sort_values('default_payment_next_month',ascending = False)"
      ]
    },
    {
      "cell_type": "code",
      "execution_count": null,
      "metadata": {
        "colab": {
          "base_uri": "https://localhost:8080/",
          "height": 294
        },
        "id": "7xcX4xIHp1xw",
        "outputId": "50b4594a-c8ad-464d-9077-bbb21baa4948"
      },
      "outputs": [
        {
          "output_type": "execute_result",
          "data": {
            "text/plain": [
              "<AxesSubplot:xlabel='education_level'>"
            ]
          },
          "metadata": {},
          "execution_count": 34
        },
        {
          "output_type": "display_data",
          "data": {
            "text/plain": [
              "<Figure size 432x288 with 1 Axes>"
            ],
            "image/png": "[encoded data removed]"
          },
          "metadata": {
            "needs_background": "light"
          }
        }
      ],
      "source": [
        "#membuat graph educational_level sum dari default_payment_next_month\n",
        "df.groupby('education_level')[['default_payment_next_month']].sum().sort_values('default_payment_next_month',ascending = False).plot(kind='bar')"
      ]
    },
    {
      "cell_type": "markdown",
      "metadata": {
        "id": "bDUXi7On1snB"
      },
      "source": [
        "- MARITAL STATUS VS SUM OF DEFAULT_PAYMENT_NEXT_MONTH"
      ]
    },
    {
      "cell_type": "markdown",
      "metadata": {
        "id": "IV2ZtWtL2kKQ"
      },
      "source": [
        "keterangan= \n",
        "-1=Married\n",
        "\n",
        "-2=Single\n",
        "\n",
        "-3=others \n",
        "\n",
        "-0=unknown \n",
        "\n",
        "data menunjukan kecendrungan bahwa Single memiliki kemungkinan lebih tinggi untuk tidak membayar dibandingkan dengan yang sudah menikah"
      ]
    },
    {
      "cell_type": "code",
      "execution_count": null,
      "metadata": {
        "colab": {
          "base_uri": "https://localhost:8080/",
          "height": 206
        },
        "id": "-CVI9_3hPmri",
        "outputId": "b87fbfb5-09ac-4de1-802e-d8eb2fcb0eed"
      },
      "outputs": [
        {
          "output_type": "execute_result",
          "data": {
            "text/plain": [
              "                default_payment_next_month\n",
              "marital_status                            \n",
              "2                                     1594\n",
              "1                                     1331\n",
              "3                                       35\n",
              "0                                        4"
            ],
            "text/html": [
              "\n",
              "  <div id=\"df-ebda41ba-269f-492a-a727-917996df44d3\">\n",
              "    <div class=\"colab-df-container\">\n",
              "      <div>\n",
              "<style scoped>\n",
              "    .dataframe tbody tr th:only-of-type {\n",
              "        vertical-align: middle;\n",
              "    }\n",
              "\n",
              "    .dataframe tbody tr th {\n",
              "        vertical-align: top;\n",
              "    }\n",
              "\n",
              "    .dataframe thead th {\n",
              "        text-align: right;\n",
              "    }\n",
              "</style>\n",
              "<table border=\"1\" class=\"dataframe\">\n",
              "  <thead>\n",
              "    <tr style=\"text-align: right;\">\n",
              "      <th></th>\n",
              "      <th>default_payment_next_month</th>\n",
              "    </tr>\n",
              "    <tr>\n",
              "      <th>marital_status</th>\n",
              "      <th></th>\n",
              "    </tr>\n",
              "  </thead>\n",
              "  <tbody>\n",
              "    <tr>\n",
              "      <th>2</th>\n",
              "      <td>1594</td>\n",
              "    </tr>\n",
              "    <tr>\n",
              "      <th>1</th>\n",
              "      <td>1331</td>\n",
              "    </tr>\n",
              "    <tr>\n",
              "      <th>3</th>\n",
              "      <td>35</td>\n",
              "    </tr>\n",
              "    <tr>\n",
              "      <th>0</th>\n",
              "      <td>4</td>\n",
              "    </tr>\n",
              "  </tbody>\n",
              "</table>\n",
              "</div>\n",
              "      <button class=\"colab-df-convert\" onclick=\"convertToInteractive('df-ebda41ba-269f-492a-a727-917996df44d3')\"\n",
              "              title=\"Convert this dataframe to an interactive table.\"\n",
              "              style=\"display:none;\">\n",
              "        \n",
              "  <svg xmlns=\"http://www.w3.org/2000/svg\" height=\"24px\"viewBox=\"0 0 24 24\"\n",
              "       width=\"24px\">\n",
              "    <path d=\"M0 0h24v24H0V0z\" fill=\"none\"/>\n",
              "    <path d=\"M18.56 5.44l.94 2.06.94-2.06 2.06-.94-2.06-.94-.94-2.06-.94 2.06-2.06.94zm-11 1L8.5 8.5l.94-2.06 2.06-.94-2.06-.94L8.5 2.5l-.94 2.06-2.06.94zm10 10l.94 2.06.94-2.06 2.06-.94-2.06-.94-.94-2.06-.94 2.06-2.06.94z\"/><path d=\"M17.41 7.96l-1.37-1.37c-.4-.4-.92-.59-1.43-.59-.52 0-1.04.2-1.43.59L10.3 9.45l-7.72 7.72c-.78.78-.78 2.05 0 2.83L4 21.41c.39.39.9.59 1.41.59.51 0 1.02-.2 1.41-.59l7.78-7.78 2.81-2.81c.8-.78.8-2.07 0-2.86zM5.41 20L4 18.59l7.72-7.72 1.47 1.35L5.41 20z\"/>\n",
              "  </svg>\n",
              "      </button>\n",
              "      \n",
              "  <style>\n",
              "    .colab-df-container {\n",
              "      display:flex;\n",
              "      flex-wrap:wrap;\n",
              "      gap: 12px;\n",
              "    }\n",
              "\n",
              "    .colab-df-convert {\n",
              "      background-color: #E8F0FE;\n",
              "      border: none;\n",
              "      border-radius: 50%;\n",
              "      cursor: pointer;\n",
              "      display: none;\n",
              "      fill: #1967D2;\n",
              "      height: 32px;\n",
              "      padding: 0 0 0 0;\n",
              "      width: 32px;\n",
              "    }\n",
              "\n",
              "    .colab-df-convert:hover {\n",
              "      background-color: #E2EBFA;\n",
              "      box-shadow: 0px 1px 2px rgba(60, 64, 67, 0.3), 0px 1px 3px 1px rgba(60, 64, 67, 0.15);\n",
              "      fill: #174EA6;\n",
              "    }\n",
              "\n",
              "    [theme=dark] .colab-df-convert {\n",
              "      background-color: #3B4455;\n",
              "      fill: #D2E3FC;\n",
              "    }\n",
              "\n",
              "    [theme=dark] .colab-df-convert:hover {\n",
              "      background-color: #434B5C;\n",
              "      box-shadow: 0px 1px 3px 1px rgba(0, 0, 0, 0.15);\n",
              "      filter: drop-shadow(0px 1px 2px rgba(0, 0, 0, 0.3));\n",
              "      fill: #FFFFFF;\n",
              "    }\n",
              "  </style>\n",
              "\n",
              "      <script>\n",
              "        const buttonEl =\n",
              "          document.querySelector('#df-ebda41ba-269f-492a-a727-917996df44d3 button.colab-df-convert');\n",
              "        buttonEl.style.display =\n",
              "          google.colab.kernel.accessAllowed ? 'block' : 'none';\n",
              "\n",
              "        async function convertToInteractive(key) {\n",
              "          const element = document.querySelector('#df-ebda41ba-269f-492a-a727-917996df44d3');\n",
              "          const dataTable =\n",
              "            await google.colab.kernel.invokeFunction('convertToInteractive',\n",
              "                                                     [key], {});\n",
              "          if (!dataTable) return;\n",
              "\n",
              "          const docLinkHtml = 'Like what you see? Visit the ' +\n",
              "            '<a target=\"_blank\" href=https://colab.research.google.com/notebooks/data_table.ipynb>data table notebook</a>'\n",
              "            + ' to learn more about interactive tables.';\n",
              "          element.innerHTML = '';\n",
              "          dataTable['output_type'] = 'display_data';\n",
              "          await google.colab.output.renderOutput(dataTable, element);\n",
              "          const docLink = document.createElement('div');\n",
              "          docLink.innerHTML = docLinkHtml;\n",
              "          element.appendChild(docLink);\n",
              "        }\n",
              "      </script>\n",
              "    </div>\n",
              "  </div>\n",
              "  "
            ]
          },
          "metadata": {},
          "execution_count": 35
        }
      ],
      "source": [
        "#list value count default_payment_next_month pada marital status\n",
        "df.groupby('marital_status')[['default_payment_next_month']].count().sort_values('default_payment_next_month',ascending = False)"
      ]
    },
    {
      "cell_type": "code",
      "execution_count": null,
      "metadata": {
        "colab": {
          "base_uri": "https://localhost:8080/",
          "height": 294
        },
        "id": "60IlC-FdPwmj",
        "outputId": "8c17886b-909f-4f63-9ef4-3efdf0209b49"
      },
      "outputs": [
        {
          "output_type": "execute_result",
          "data": {
            "text/plain": [
              "<AxesSubplot:xlabel='marital_status'>"
            ]
          },
          "metadata": {},
          "execution_count": 36
        },
        {
          "output_type": "display_data",
          "data": {
            "text/plain": [
              "<Figure size 432x288 with 1 Axes>"
            ],
            "image/png": "[encoded data removed]"
          },
          "metadata": {
            "needs_background": "light"
          }
        }
      ],
      "source": [
        "#Graph jumlah count deafult_payment_next_month pada marital status\n",
        "df.groupby('marital_status')[['default_payment_next_month']].count().sort_values('default_payment_next_month',ascending = False).plot(kind='bar')"
      ]
    },
    {
      "cell_type": "code",
      "execution_count": null,
      "metadata": {
        "colab": {
          "base_uri": "https://localhost:8080/",
          "height": 206
        },
        "id": "r2LtgyOWobEM",
        "outputId": "fe2f61c0-5ac6-4ae2-e2c0-1c3d11a3b40e"
      },
      "outputs": [
        {
          "output_type": "execute_result",
          "data": {
            "text/plain": [
              "                default_payment_next_month\n",
              "marital_status                            \n",
              "2                                      327\n",
              "1                                      302\n",
              "3                                        6\n",
              "0                                        0"
            ],
            "text/html": [
              "\n",
              "  <div id=\"df-b3babf5b-7127-4349-8c4b-bf68c6389ece\">\n",
              "    <div class=\"colab-df-container\">\n",
              "      <div>\n",
              "<style scoped>\n",
              "    .dataframe tbody tr th:only-of-type {\n",
              "        vertical-align: middle;\n",
              "    }\n",
              "\n",
              "    .dataframe tbody tr th {\n",
              "        vertical-align: top;\n",
              "    }\n",
              "\n",
              "    .dataframe thead th {\n",
              "        text-align: right;\n",
              "    }\n",
              "</style>\n",
              "<table border=\"1\" class=\"dataframe\">\n",
              "  <thead>\n",
              "    <tr style=\"text-align: right;\">\n",
              "      <th></th>\n",
              "      <th>default_payment_next_month</th>\n",
              "    </tr>\n",
              "    <tr>\n",
              "      <th>marital_status</th>\n",
              "      <th></th>\n",
              "    </tr>\n",
              "  </thead>\n",
              "  <tbody>\n",
              "    <tr>\n",
              "      <th>2</th>\n",
              "      <td>327</td>\n",
              "    </tr>\n",
              "    <tr>\n",
              "      <th>1</th>\n",
              "      <td>302</td>\n",
              "    </tr>\n",
              "    <tr>\n",
              "      <th>3</th>\n",
              "      <td>6</td>\n",
              "    </tr>\n",
              "    <tr>\n",
              "      <th>0</th>\n",
              "      <td>0</td>\n",
              "    </tr>\n",
              "  </tbody>\n",
              "</table>\n",
              "</div>\n",
              "      <button class=\"colab-df-convert\" onclick=\"convertToInteractive('df-b3babf5b-7127-4349-8c4b-bf68c6389ece')\"\n",
              "              title=\"Convert this dataframe to an interactive table.\"\n",
              "              style=\"display:none;\">\n",
              "        \n",
              "  <svg xmlns=\"http://www.w3.org/2000/svg\" height=\"24px\"viewBox=\"0 0 24 24\"\n",
              "       width=\"24px\">\n",
              "    <path d=\"M0 0h24v24H0V0z\" fill=\"none\"/>\n",
              "    <path d=\"M18.56 5.44l.94 2.06.94-2.06 2.06-.94-2.06-.94-.94-2.06-.94 2.06-2.06.94zm-11 1L8.5 8.5l.94-2.06 2.06-.94-2.06-.94L8.5 2.5l-.94 2.06-2.06.94zm10 10l.94 2.06.94-2.06 2.06-.94-2.06-.94-.94-2.06-.94 2.06-2.06.94z\"/><path d=\"M17.41 7.96l-1.37-1.37c-.4-.4-.92-.59-1.43-.59-.52 0-1.04.2-1.43.59L10.3 9.45l-7.72 7.72c-.78.78-.78 2.05 0 2.83L4 21.41c.39.39.9.59 1.41.59.51 0 1.02-.2 1.41-.59l7.78-7.78 2.81-2.81c.8-.78.8-2.07 0-2.86zM5.41 20L4 18.59l7.72-7.72 1.47 1.35L5.41 20z\"/>\n",
              "  </svg>\n",
              "      </button>\n",
              "      \n",
              "  <style>\n",
              "    .colab-df-container {\n",
              "      display:flex;\n",
              "      flex-wrap:wrap;\n",
              "      gap: 12px;\n",
              "    }\n",
              "\n",
              "    .colab-df-convert {\n",
              "      background-color: #E8F0FE;\n",
              "      border: none;\n",
              "      border-radius: 50%;\n",
              "      cursor: pointer;\n",
              "      display: none;\n",
              "      fill: #1967D2;\n",
              "      height: 32px;\n",
              "      padding: 0 0 0 0;\n",
              "      width: 32px;\n",
              "    }\n",
              "\n",
              "    .colab-df-convert:hover {\n",
              "      background-color: #E2EBFA;\n",
              "      box-shadow: 0px 1px 2px rgba(60, 64, 67, 0.3), 0px 1px 3px 1px rgba(60, 64, 67, 0.15);\n",
              "      fill: #174EA6;\n",
              "    }\n",
              "\n",
              "    [theme=dark] .colab-df-convert {\n",
              "      background-color: #3B4455;\n",
              "      fill: #D2E3FC;\n",
              "    }\n",
              "\n",
              "    [theme=dark] .colab-df-convert:hover {\n",
              "      background-color: #434B5C;\n",
              "      box-shadow: 0px 1px 3px 1px rgba(0, 0, 0, 0.15);\n",
              "      filter: drop-shadow(0px 1px 2px rgba(0, 0, 0, 0.3));\n",
              "      fill: #FFFFFF;\n",
              "    }\n",
              "  </style>\n",
              "\n",
              "      <script>\n",
              "        const buttonEl =\n",
              "          document.querySelector('#df-b3babf5b-7127-4349-8c4b-bf68c6389ece button.colab-df-convert');\n",
              "        buttonEl.style.display =\n",
              "          google.colab.kernel.accessAllowed ? 'block' : 'none';\n",
              "\n",
              "        async function convertToInteractive(key) {\n",
              "          const element = document.querySelector('#df-b3babf5b-7127-4349-8c4b-bf68c6389ece');\n",
              "          const dataTable =\n",
              "            await google.colab.kernel.invokeFunction('convertToInteractive',\n",
              "                                                     [key], {});\n",
              "          if (!dataTable) return;\n",
              "\n",
              "          const docLinkHtml = 'Like what you see? Visit the ' +\n",
              "            '<a target=\"_blank\" href=https://colab.research.google.com/notebooks/data_table.ipynb>data table notebook</a>'\n",
              "            + ' to learn more about interactive tables.';\n",
              "          element.innerHTML = '';\n",
              "          dataTable['output_type'] = 'display_data';\n",
              "          await google.colab.output.renderOutput(dataTable, element);\n",
              "          const docLink = document.createElement('div');\n",
              "          docLink.innerHTML = docLinkHtml;\n",
              "          element.appendChild(docLink);\n",
              "        }\n",
              "      </script>\n",
              "    </div>\n",
              "  </div>\n",
              "  "
            ]
          },
          "metadata": {},
          "execution_count": 37
        }
      ],
      "source": [
        "#list value sum default_payment_next_month pada marital status\n",
        "df.groupby('marital_status')[['default_payment_next_month']].sum().sort_values('default_payment_next_month',ascending = False)"
      ]
    },
    {
      "cell_type": "code",
      "execution_count": null,
      "metadata": {
        "colab": {
          "base_uri": "https://localhost:8080/",
          "height": 294
        },
        "id": "zu5i9gV0nvuC",
        "outputId": "7618e3e6-64ac-4a3b-e7b6-a84a4dd29e76"
      },
      "outputs": [
        {
          "output_type": "execute_result",
          "data": {
            "text/plain": [
              "<AxesSubplot:xlabel='marital_status'>"
            ]
          },
          "metadata": {},
          "execution_count": 38
        },
        {
          "output_type": "display_data",
          "data": {
            "text/plain": [
              "<Figure size 432x288 with 1 Axes>"
            ],
            "image/png": "[encoded data removed]"
          },
          "metadata": {
            "needs_background": "light"
          }
        }
      ],
      "source": [
        "#Graph jumlah deafult_payment_next_month pada marital status\n",
        "df.groupby('marital_status')[['default_payment_next_month']].sum().sort_values('default_payment_next_month',ascending = False).plot(kind='bar')"
      ]
    },
    {
      "cell_type": "markdown",
      "metadata": {
        "id": "a_W__hC5J9RC"
      },
      "source": [
        "- AGE_GROUP VS SUM OF DEFAULT_PAYMENT_NEXT_MONTH"
      ]
    },
    {
      "cell_type": "markdown",
      "metadata": {
        "id": "yHzryP6bKy2Q"
      },
      "source": [
        "Data menunjukan bahwa mayoritas sum umur 20 dan 30 paling banyak menunggak hal tersebut sejalan dengan jumlah datanya secara count umur 20 dan 30 berada diposisi 1 dan 2 begitu juga dengan jumlah tunggakannya. "
      ]
    },
    {
      "cell_type": "code",
      "execution_count": null,
      "metadata": {
        "id": "zEBXgr2YtGef"
      },
      "outputs": [],
      "source": [
        "#membuat bins data\n",
        "bins = [20, 30, 40, 50, 60, 70]\n",
        "labels = ['20s', '30s', '40s', '50s', '60s']\n",
        "\n",
        "# Cut dataframe kolom 'age' ke dalam bins\n",
        "df['age_group'] = pd.cut(df['age'], bins, labels=labels)"
      ]
    },
    {
      "cell_type": "code",
      "execution_count": null,
      "metadata": {
        "id": "jWbyq95ELCU1",
        "colab": {
          "base_uri": "https://localhost:8080/",
          "height": 238
        },
        "outputId": "fd2ac437-ada7-4b11-f270-aa25042cf3f6"
      },
      "outputs": [
        {
          "output_type": "execute_result",
          "data": {
            "text/plain": [
              "           default_payment_next_month\n",
              "age_group                            \n",
              "20s                              1132\n",
              "30s                              1049\n",
              "40s                               567\n",
              "50s                               187\n",
              "60s                                29"
            ],
            "text/html": [
              "\n",
              "  <div id=\"df-5500035d-0df7-45bc-b63d-4bcb49fb444c\">\n",
              "    <div class=\"colab-df-container\">\n",
              "      <div>\n",
              "<style scoped>\n",
              "    .dataframe tbody tr th:only-of-type {\n",
              "        vertical-align: middle;\n",
              "    }\n",
              "\n",
              "    .dataframe tbody tr th {\n",
              "        vertical-align: top;\n",
              "    }\n",
              "\n",
              "    .dataframe thead th {\n",
              "        text-align: right;\n",
              "    }\n",
              "</style>\n",
              "<table border=\"1\" class=\"dataframe\">\n",
              "  <thead>\n",
              "    <tr style=\"text-align: right;\">\n",
              "      <th></th>\n",
              "      <th>default_payment_next_month</th>\n",
              "    </tr>\n",
              "    <tr>\n",
              "      <th>age_group</th>\n",
              "      <th></th>\n",
              "    </tr>\n",
              "  </thead>\n",
              "  <tbody>\n",
              "    <tr>\n",
              "      <th>20s</th>\n",
              "      <td>1132</td>\n",
              "    </tr>\n",
              "    <tr>\n",
              "      <th>30s</th>\n",
              "      <td>1049</td>\n",
              "    </tr>\n",
              "    <tr>\n",
              "      <th>40s</th>\n",
              "      <td>567</td>\n",
              "    </tr>\n",
              "    <tr>\n",
              "      <th>50s</th>\n",
              "      <td>187</td>\n",
              "    </tr>\n",
              "    <tr>\n",
              "      <th>60s</th>\n",
              "      <td>29</td>\n",
              "    </tr>\n",
              "  </tbody>\n",
              "</table>\n",
              "</div>\n",
              "      <button class=\"colab-df-convert\" onclick=\"convertToInteractive('df-5500035d-0df7-45bc-b63d-4bcb49fb444c')\"\n",
              "              title=\"Convert this dataframe to an interactive table.\"\n",
              "              style=\"display:none;\">\n",
              "        \n",
              "  <svg xmlns=\"http://www.w3.org/2000/svg\" height=\"24px\"viewBox=\"0 0 24 24\"\n",
              "       width=\"24px\">\n",
              "    <path d=\"M0 0h24v24H0V0z\" fill=\"none\"/>\n",
              "    <path d=\"M18.56 5.44l.94 2.06.94-2.06 2.06-.94-2.06-.94-.94-2.06-.94 2.06-2.06.94zm-11 1L8.5 8.5l.94-2.06 2.06-.94-2.06-.94L8.5 2.5l-.94 2.06-2.06.94zm10 10l.94 2.06.94-2.06 2.06-.94-2.06-.94-.94-2.06-.94 2.06-2.06.94z\"/><path d=\"M17.41 7.96l-1.37-1.37c-.4-.4-.92-.59-1.43-.59-.52 0-1.04.2-1.43.59L10.3 9.45l-7.72 7.72c-.78.78-.78 2.05 0 2.83L4 21.41c.39.39.9.59 1.41.59.51 0 1.02-.2 1.41-.59l7.78-7.78 2.81-2.81c.8-.78.8-2.07 0-2.86zM5.41 20L4 18.59l7.72-7.72 1.47 1.35L5.41 20z\"/>\n",
              "  </svg>\n",
              "      </button>\n",
              "      \n",
              "  <style>\n",
              "    .colab-df-container {\n",
              "      display:flex;\n",
              "      flex-wrap:wrap;\n",
              "      gap: 12px;\n",
              "    }\n",
              "\n",
              "    .colab-df-convert {\n",
              "      background-color: #E8F0FE;\n",
              "      border: none;\n",
              "      border-radius: 50%;\n",
              "      cursor: pointer;\n",
              "      display: none;\n",
              "      fill: #1967D2;\n",
              "      height: 32px;\n",
              "      padding: 0 0 0 0;\n",
              "      width: 32px;\n",
              "    }\n",
              "\n",
              "    .colab-df-convert:hover {\n",
              "      background-color: #E2EBFA;\n",
              "      box-shadow: 0px 1px 2px rgba(60, 64, 67, 0.3), 0px 1px 3px 1px rgba(60, 64, 67, 0.15);\n",
              "      fill: #174EA6;\n",
              "    }\n",
              "\n",
              "    [theme=dark] .colab-df-convert {\n",
              "      background-color: #3B4455;\n",
              "      fill: #D2E3FC;\n",
              "    }\n",
              "\n",
              "    [theme=dark] .colab-df-convert:hover {\n",
              "      background-color: #434B5C;\n",
              "      box-shadow: 0px 1px 3px 1px rgba(0, 0, 0, 0.15);\n",
              "      filter: drop-shadow(0px 1px 2px rgba(0, 0, 0, 0.3));\n",
              "      fill: #FFFFFF;\n",
              "    }\n",
              "  </style>\n",
              "\n",
              "      <script>\n",
              "        const buttonEl =\n",
              "          document.querySelector('#df-5500035d-0df7-45bc-b63d-4bcb49fb444c button.colab-df-convert');\n",
              "        buttonEl.style.display =\n",
              "          google.colab.kernel.accessAllowed ? 'block' : 'none';\n",
              "\n",
              "        async function convertToInteractive(key) {\n",
              "          const element = document.querySelector('#df-5500035d-0df7-45bc-b63d-4bcb49fb444c');\n",
              "          const dataTable =\n",
              "            await google.colab.kernel.invokeFunction('convertToInteractive',\n",
              "                                                     [key], {});\n",
              "          if (!dataTable) return;\n",
              "\n",
              "          const docLinkHtml = 'Like what you see? Visit the ' +\n",
              "            '<a target=\"_blank\" href=https://colab.research.google.com/notebooks/data_table.ipynb>data table notebook</a>'\n",
              "            + ' to learn more about interactive tables.';\n",
              "          element.innerHTML = '';\n",
              "          dataTable['output_type'] = 'display_data';\n",
              "          await google.colab.output.renderOutput(dataTable, element);\n",
              "          const docLink = document.createElement('div');\n",
              "          docLink.innerHTML = docLinkHtml;\n",
              "          element.appendChild(docLink);\n",
              "        }\n",
              "      </script>\n",
              "    </div>\n",
              "  </div>\n",
              "  "
            ]
          },
          "metadata": {},
          "execution_count": 40
        }
      ],
      "source": [
        "#list age_group terhadap count default payment\n",
        "df.groupby('age_group')[['default_payment_next_month']].count().sort_values('default_payment_next_month',ascending = False)"
      ]
    },
    {
      "cell_type": "code",
      "execution_count": null,
      "metadata": {
        "id": "_HlNiNnXQGRI",
        "colab": {
          "base_uri": "https://localhost:8080/",
          "height": 282
        },
        "outputId": "dbdc6e51-c007-42a0-f8cd-3efd17bee13d"
      },
      "outputs": [
        {
          "output_type": "execute_result",
          "data": {
            "text/plain": [
              "<AxesSubplot:ylabel='age_group'>"
            ]
          },
          "metadata": {},
          "execution_count": 41
        },
        {
          "output_type": "display_data",
          "data": {
            "text/plain": [
              "<Figure size 432x288 with 1 Axes>"
            ],
            "image/png": "[encoded data removed]"
          },
          "metadata": {
            "needs_background": "light"
          }
        }
      ],
      "source": [
        "#graph age_group terhadap count default_payment_next_month\n",
        "df.groupby('age_group')[['default_payment_next_month']].count().sort_values('default_payment_next_month',ascending = True).plot(kind='barh')"
      ]
    },
    {
      "cell_type": "code",
      "execution_count": null,
      "metadata": {
        "id": "asIlCvqEJ2F1",
        "colab": {
          "base_uri": "https://localhost:8080/",
          "height": 238
        },
        "outputId": "a1ad15a7-937d-4e2d-ac29-39e47da097bc"
      },
      "outputs": [
        {
          "output_type": "execute_result",
          "data": {
            "text/plain": [
              "           default_payment_next_month\n",
              "age_group                            \n",
              "20s                               239\n",
              "30s                               213\n",
              "40s                               136\n",
              "50s                                41\n",
              "60s                                 6"
            ],
            "text/html": [
              "\n",
              "  <div id=\"df-b05e655c-1bab-44f4-8c2d-2292fadb4950\">\n",
              "    <div class=\"colab-df-container\">\n",
              "      <div>\n",
              "<style scoped>\n",
              "    .dataframe tbody tr th:only-of-type {\n",
              "        vertical-align: middle;\n",
              "    }\n",
              "\n",
              "    .dataframe tbody tr th {\n",
              "        vertical-align: top;\n",
              "    }\n",
              "\n",
              "    .dataframe thead th {\n",
              "        text-align: right;\n",
              "    }\n",
              "</style>\n",
              "<table border=\"1\" class=\"dataframe\">\n",
              "  <thead>\n",
              "    <tr style=\"text-align: right;\">\n",
              "      <th></th>\n",
              "      <th>default_payment_next_month</th>\n",
              "    </tr>\n",
              "    <tr>\n",
              "      <th>age_group</th>\n",
              "      <th></th>\n",
              "    </tr>\n",
              "  </thead>\n",
              "  <tbody>\n",
              "    <tr>\n",
              "      <th>20s</th>\n",
              "      <td>239</td>\n",
              "    </tr>\n",
              "    <tr>\n",
              "      <th>30s</th>\n",
              "      <td>213</td>\n",
              "    </tr>\n",
              "    <tr>\n",
              "      <th>40s</th>\n",
              "      <td>136</td>\n",
              "    </tr>\n",
              "    <tr>\n",
              "      <th>50s</th>\n",
              "      <td>41</td>\n",
              "    </tr>\n",
              "    <tr>\n",
              "      <th>60s</th>\n",
              "      <td>6</td>\n",
              "    </tr>\n",
              "  </tbody>\n",
              "</table>\n",
              "</div>\n",
              "      <button class=\"colab-df-convert\" onclick=\"convertToInteractive('df-b05e655c-1bab-44f4-8c2d-2292fadb4950')\"\n",
              "              title=\"Convert this dataframe to an interactive table.\"\n",
              "              style=\"display:none;\">\n",
              "        \n",
              "  <svg xmlns=\"http://www.w3.org/2000/svg\" height=\"24px\"viewBox=\"0 0 24 24\"\n",
              "       width=\"24px\">\n",
              "    <path d=\"M0 0h24v24H0V0z\" fill=\"none\"/>\n",
              "    <path d=\"M18.56 5.44l.94 2.06.94-2.06 2.06-.94-2.06-.94-.94-2.06-.94 2.06-2.06.94zm-11 1L8.5 8.5l.94-2.06 2.06-.94-2.06-.94L8.5 2.5l-.94 2.06-2.06.94zm10 10l.94 2.06.94-2.06 2.06-.94-2.06-.94-.94-2.06-.94 2.06-2.06.94z\"/><path d=\"M17.41 7.96l-1.37-1.37c-.4-.4-.92-.59-1.43-.59-.52 0-1.04.2-1.43.59L10.3 9.45l-7.72 7.72c-.78.78-.78 2.05 0 2.83L4 21.41c.39.39.9.59 1.41.59.51 0 1.02-.2 1.41-.59l7.78-7.78 2.81-2.81c.8-.78.8-2.07 0-2.86zM5.41 20L4 18.59l7.72-7.72 1.47 1.35L5.41 20z\"/>\n",
              "  </svg>\n",
              "      </button>\n",
              "      \n",
              "  <style>\n",
              "    .colab-df-container {\n",
              "      display:flex;\n",
              "      flex-wrap:wrap;\n",
              "      gap: 12px;\n",
              "    }\n",
              "\n",
              "    .colab-df-convert {\n",
              "      background-color: #E8F0FE;\n",
              "      border: none;\n",
              "      border-radius: 50%;\n",
              "      cursor: pointer;\n",
              "      display: none;\n",
              "      fill: #1967D2;\n",
              "      height: 32px;\n",
              "      padding: 0 0 0 0;\n",
              "      width: 32px;\n",
              "    }\n",
              "\n",
              "    .colab-df-convert:hover {\n",
              "      background-color: #E2EBFA;\n",
              "      box-shadow: 0px 1px 2px rgba(60, 64, 67, 0.3), 0px 1px 3px 1px rgba(60, 64, 67, 0.15);\n",
              "      fill: #174EA6;\n",
              "    }\n",
              "\n",
              "    [theme=dark] .colab-df-convert {\n",
              "      background-color: #3B4455;\n",
              "      fill: #D2E3FC;\n",
              "    }\n",
              "\n",
              "    [theme=dark] .colab-df-convert:hover {\n",
              "      background-color: #434B5C;\n",
              "      box-shadow: 0px 1px 3px 1px rgba(0, 0, 0, 0.15);\n",
              "      filter: drop-shadow(0px 1px 2px rgba(0, 0, 0, 0.3));\n",
              "      fill: #FFFFFF;\n",
              "    }\n",
              "  </style>\n",
              "\n",
              "      <script>\n",
              "        const buttonEl =\n",
              "          document.querySelector('#df-b05e655c-1bab-44f4-8c2d-2292fadb4950 button.colab-df-convert');\n",
              "        buttonEl.style.display =\n",
              "          google.colab.kernel.accessAllowed ? 'block' : 'none';\n",
              "\n",
              "        async function convertToInteractive(key) {\n",
              "          const element = document.querySelector('#df-b05e655c-1bab-44f4-8c2d-2292fadb4950');\n",
              "          const dataTable =\n",
              "            await google.colab.kernel.invokeFunction('convertToInteractive',\n",
              "                                                     [key], {});\n",
              "          if (!dataTable) return;\n",
              "\n",
              "          const docLinkHtml = 'Like what you see? Visit the ' +\n",
              "            '<a target=\"_blank\" href=https://colab.research.google.com/notebooks/data_table.ipynb>data table notebook</a>'\n",
              "            + ' to learn more about interactive tables.';\n",
              "          element.innerHTML = '';\n",
              "          dataTable['output_type'] = 'display_data';\n",
              "          await google.colab.output.renderOutput(dataTable, element);\n",
              "          const docLink = document.createElement('div');\n",
              "          docLink.innerHTML = docLinkHtml;\n",
              "          element.appendChild(docLink);\n",
              "        }\n",
              "      </script>\n",
              "    </div>\n",
              "  </div>\n",
              "  "
            ]
          },
          "metadata": {},
          "execution_count": 42
        }
      ],
      "source": [
        "#list data age group terhadap sum default_payment_next_month\n",
        "df.groupby('age_group')[['default_payment_next_month']].sum().sort_values('default_payment_next_month',ascending = False)"
      ]
    },
    {
      "cell_type": "code",
      "execution_count": null,
      "metadata": {
        "id": "B9vFDY5m7S9K",
        "colab": {
          "base_uri": "https://localhost:8080/",
          "height": 282
        },
        "outputId": "f52ba9a9-562c-4153-ff4d-f5949f3e99fc"
      },
      "outputs": [
        {
          "output_type": "execute_result",
          "data": {
            "text/plain": [
              "<AxesSubplot:ylabel='age_group'>"
            ]
          },
          "metadata": {},
          "execution_count": 43
        },
        {
          "output_type": "display_data",
          "data": {
            "text/plain": [
              "<Figure size 432x288 with 1 Axes>"
            ],
            "image/png": "[encoded data removed]"
          },
          "metadata": {
            "needs_background": "light"
          }
        }
      ],
      "source": [
        "#graph data age group terhadap sum default_payment_next_month\n",
        "df.groupby('age_group')[['default_payment_next_month']].sum().sort_values('default_payment_next_month',ascending = True).plot(kind='barh')"
      ]
    },
    {
      "cell_type": "markdown",
      "metadata": {
        "id": "VQnGC06RgsrT"
      },
      "source": [
        "- Age Group and Total Count of default_payment_next_month "
      ]
    },
    {
      "cell_type": "markdown",
      "metadata": {
        "id": "_E7IN8a_iUmu"
      },
      "source": [
        "Data menunujukan bahwa presentase tidak mampu bayar terdapat pada umur 40 tahun sebesar 23% dan umur paling mampu bayar ada di umur 30 tahun sebanyak 79%."
      ]
    },
    {
      "cell_type": "code",
      "execution_count": null,
      "metadata": {
        "id": "MyAJ7LakezWS",
        "colab": {
          "base_uri": "https://localhost:8080/",
          "height": 363
        },
        "outputId": "ce54d3de-32ff-4047-b529-5f9442523f8b"
      },
      "outputs": [
        {
          "output_type": "execute_result",
          "data": {
            "text/plain": [
              "  age_group  default_payment_next_month  counts  percentage\n",
              "0       20s                           0     893   78.886926\n",
              "1       20s                           1     239   21.113074\n",
              "2       30s                           0     836   79.694948\n",
              "3       30s                           1     213   20.305052\n",
              "4       40s                           0     431   76.014109\n",
              "5       40s                           1     136   23.985891\n",
              "6       50s                           0     146   78.074866\n",
              "7       50s                           1      41   21.925134\n",
              "8       60s                           0      23   79.310345\n",
              "9       60s                           1       6   20.689655"
            ],
            "text/html": [
              "\n",
              "  <div id=\"df-18735dad-fb46-4c21-aba6-a6366019923c\">\n",
              "    <div class=\"colab-df-container\">\n",
              "      <div>\n",
              "<style scoped>\n",
              "    .dataframe tbody tr th:only-of-type {\n",
              "        vertical-align: middle;\n",
              "    }\n",
              "\n",
              "    .dataframe tbody tr th {\n",
              "        vertical-align: top;\n",
              "    }\n",
              "\n",
              "    .dataframe thead th {\n",
              "        text-align: right;\n",
              "    }\n",
              "</style>\n",
              "<table border=\"1\" class=\"dataframe\">\n",
              "  <thead>\n",
              "    <tr style=\"text-align: right;\">\n",
              "      <th></th>\n",
              "      <th>age_group</th>\n",
              "      <th>default_payment_next_month</th>\n",
              "      <th>counts</th>\n",
              "      <th>percentage</th>\n",
              "    </tr>\n",
              "  </thead>\n",
              "  <tbody>\n",
              "    <tr>\n",
              "      <th>0</th>\n",
              "      <td>20s</td>\n",
              "      <td>0</td>\n",
              "      <td>893</td>\n",
              "      <td>78.886926</td>\n",
              "    </tr>\n",
              "    <tr>\n",
              "      <th>1</th>\n",
              "      <td>20s</td>\n",
              "      <td>1</td>\n",
              "      <td>239</td>\n",
              "      <td>21.113074</td>\n",
              "    </tr>\n",
              "    <tr>\n",
              "      <th>2</th>\n",
              "      <td>30s</td>\n",
              "      <td>0</td>\n",
              "      <td>836</td>\n",
              "      <td>79.694948</td>\n",
              "    </tr>\n",
              "    <tr>\n",
              "      <th>3</th>\n",
              "      <td>30s</td>\n",
              "      <td>1</td>\n",
              "      <td>213</td>\n",
              "      <td>20.305052</td>\n",
              "    </tr>\n",
              "    <tr>\n",
              "      <th>4</th>\n",
              "      <td>40s</td>\n",
              "      <td>0</td>\n",
              "      <td>431</td>\n",
              "      <td>76.014109</td>\n",
              "    </tr>\n",
              "    <tr>\n",
              "      <th>5</th>\n",
              "      <td>40s</td>\n",
              "      <td>1</td>\n",
              "      <td>136</td>\n",
              "      <td>23.985891</td>\n",
              "    </tr>\n",
              "    <tr>\n",
              "      <th>6</th>\n",
              "      <td>50s</td>\n",
              "      <td>0</td>\n",
              "      <td>146</td>\n",
              "      <td>78.074866</td>\n",
              "    </tr>\n",
              "    <tr>\n",
              "      <th>7</th>\n",
              "      <td>50s</td>\n",
              "      <td>1</td>\n",
              "      <td>41</td>\n",
              "      <td>21.925134</td>\n",
              "    </tr>\n",
              "    <tr>\n",
              "      <th>8</th>\n",
              "      <td>60s</td>\n",
              "      <td>0</td>\n",
              "      <td>23</td>\n",
              "      <td>79.310345</td>\n",
              "    </tr>\n",
              "    <tr>\n",
              "      <th>9</th>\n",
              "      <td>60s</td>\n",
              "      <td>1</td>\n",
              "      <td>6</td>\n",
              "      <td>20.689655</td>\n",
              "    </tr>\n",
              "  </tbody>\n",
              "</table>\n",
              "</div>\n",
              "      <button class=\"colab-df-convert\" onclick=\"convertToInteractive('df-18735dad-fb46-4c21-aba6-a6366019923c')\"\n",
              "              title=\"Convert this dataframe to an interactive table.\"\n",
              "              style=\"display:none;\">\n",
              "        \n",
              "  <svg xmlns=\"http://www.w3.org/2000/svg\" height=\"24px\"viewBox=\"0 0 24 24\"\n",
              "       width=\"24px\">\n",
              "    <path d=\"M0 0h24v24H0V0z\" fill=\"none\"/>\n",
              "    <path d=\"M18.56 5.44l.94 2.06.94-2.06 2.06-.94-2.06-.94-.94-2.06-.94 2.06-2.06.94zm-11 1L8.5 8.5l.94-2.06 2.06-.94-2.06-.94L8.5 2.5l-.94 2.06-2.06.94zm10 10l.94 2.06.94-2.06 2.06-.94-2.06-.94-.94-2.06-.94 2.06-2.06.94z\"/><path d=\"M17.41 7.96l-1.37-1.37c-.4-.4-.92-.59-1.43-.59-.52 0-1.04.2-1.43.59L10.3 9.45l-7.72 7.72c-.78.78-.78 2.05 0 2.83L4 21.41c.39.39.9.59 1.41.59.51 0 1.02-.2 1.41-.59l7.78-7.78 2.81-2.81c.8-.78.8-2.07 0-2.86zM5.41 20L4 18.59l7.72-7.72 1.47 1.35L5.41 20z\"/>\n",
              "  </svg>\n",
              "      </button>\n",
              "      \n",
              "  <style>\n",
              "    .colab-df-container {\n",
              "      display:flex;\n",
              "      flex-wrap:wrap;\n",
              "      gap: 12px;\n",
              "    }\n",
              "\n",
              "    .colab-df-convert {\n",
              "      background-color: #E8F0FE;\n",
              "      border: none;\n",
              "      border-radius: 50%;\n",
              "      cursor: pointer;\n",
              "      display: none;\n",
              "      fill: #1967D2;\n",
              "      height: 32px;\n",
              "      padding: 0 0 0 0;\n",
              "      width: 32px;\n",
              "    }\n",
              "\n",
              "    .colab-df-convert:hover {\n",
              "      background-color: #E2EBFA;\n",
              "      box-shadow: 0px 1px 2px rgba(60, 64, 67, 0.3), 0px 1px 3px 1px rgba(60, 64, 67, 0.15);\n",
              "      fill: #174EA6;\n",
              "    }\n",
              "\n",
              "    [theme=dark] .colab-df-convert {\n",
              "      background-color: #3B4455;\n",
              "      fill: #D2E3FC;\n",
              "    }\n",
              "\n",
              "    [theme=dark] .colab-df-convert:hover {\n",
              "      background-color: #434B5C;\n",
              "      box-shadow: 0px 1px 3px 1px rgba(0, 0, 0, 0.15);\n",
              "      filter: drop-shadow(0px 1px 2px rgba(0, 0, 0, 0.3));\n",
              "      fill: #FFFFFF;\n",
              "    }\n",
              "  </style>\n",
              "\n",
              "      <script>\n",
              "        const buttonEl =\n",
              "          document.querySelector('#df-18735dad-fb46-4c21-aba6-a6366019923c button.colab-df-convert');\n",
              "        buttonEl.style.display =\n",
              "          google.colab.kernel.accessAllowed ? 'block' : 'none';\n",
              "\n",
              "        async function convertToInteractive(key) {\n",
              "          const element = document.querySelector('#df-18735dad-fb46-4c21-aba6-a6366019923c');\n",
              "          const dataTable =\n",
              "            await google.colab.kernel.invokeFunction('convertToInteractive',\n",
              "                                                     [key], {});\n",
              "          if (!dataTable) return;\n",
              "\n",
              "          const docLinkHtml = 'Like what you see? Visit the ' +\n",
              "            '<a target=\"_blank\" href=https://colab.research.google.com/notebooks/data_table.ipynb>data table notebook</a>'\n",
              "            + ' to learn more about interactive tables.';\n",
              "          element.innerHTML = '';\n",
              "          dataTable['output_type'] = 'display_data';\n",
              "          await google.colab.output.renderOutput(dataTable, element);\n",
              "          const docLink = document.createElement('div');\n",
              "          docLink.innerHTML = docLinkHtml;\n",
              "          element.appendChild(docLink);\n",
              "        }\n",
              "      </script>\n",
              "    </div>\n",
              "  </div>\n",
              "  "
            ]
          },
          "metadata": {},
          "execution_count": 44
        }
      ],
      "source": [
        "age_default_counts = df.groupby(['age_group', 'default_payment_next_month']).size().reset_index(name='counts')\n",
        "\n",
        "# calculate the total number of observations in each age group\n",
        "age_group_counts = df.groupby('age_group').size()\n",
        "\n",
        "# divide the count of defaults and non-defaults for each age group by the total number of observations in that age group\n",
        "age_default_counts['percentage'] = (age_default_counts.groupby('age_group')['counts'].apply(lambda x: x/x.sum()))*100\n",
        "\n",
        "age_default_counts"
      ]
    },
    {
      "cell_type": "code",
      "execution_count": null,
      "metadata": {
        "id": "NQyrQGmfiCXF",
        "colab": {
          "base_uri": "https://localhost:8080/",
          "height": 295
        },
        "outputId": "b8b98457-7c62-458a-99ce-a2da3dea578c"
      },
      "outputs": [
        {
          "output_type": "display_data",
          "data": {
            "text/plain": [
              "<Figure size 432x288 with 1 Axes>"
            ],
            "image/png": "[encoded data removed]"
          },
          "metadata": {
            "needs_background": "light"
          }
        }
      ],
      "source": [
        "sns.barplot(x='age_group', y='percentage', hue='default_payment_next_month', data=age_default_counts)\n",
        "plt.title('Age & Default')\n",
        "plt.ylim(0, 100)\n",
        "plt.show()"
      ]
    },
    {
      "cell_type": "code",
      "execution_count": null,
      "metadata": {
        "id": "Gaoq8MJ9k47f"
      },
      "outputs": [],
      "source": []
    },
    {
      "cell_type": "markdown",
      "metadata": {
        "id": "UPwH24meuX88"
      },
      "source": [
        "#EDA OVERVIEW"
      ]
    },
    {
      "cell_type": "markdown",
      "metadata": {
        "id": "5ugxSC-qZ6HE"
      },
      "source": [
        "- Target Data menunjukan bahwa target data mengalami imbalance hal tersebut dapat mempengaruhi hasil prediksi yang dimana hasil prediksi akan lebih condong ke hasil mayoritas data.\n",
        "- Mengetahui jumlah bill_amt dari terbanyak hingga terendah. Terbanyak terdapat pada bill_amt_1 dan secara berurutan ke bill_amt_6.Dan Terdapat High Multicolinearity pada data. Bill_amt_1 memiliki nilai vif yang tinggi meskipun memiliki nilai vif yang tinggi tidak perlu kita drop karena model yang kita gunakan tidak linear tidak terganggu oleh multicolinearity.\n",
        "- pembayaran dilakukan pada pay_amt_1 dan pay_amt_2 bulan terbanyak Agustus dan September. Ditemukan bahwa data memiliki nilai vif yang rendah.\n",
        "- Mengetahui kecendrungan kelas yang tidak melakukan pembayaran ternyata education tingkat 2 memiliki kecendrungan untuk tidak melakukan pembayaran terlihat semakin tinggi education_level semakin mampu nasabah. data tersebut ikut mengikuti jumlah count data yang menyebutkan educational level 2 jumlah datanya paling banyak.\n",
        "- Mayoritas Sex ada di nomer 2 yang artinya nasabah terbanyak adalah perempuan\n",
        "- data menunjukan kecendrungan bahwa Single memiliki kemungkinan lebih tinggi untuk tidak membayar dibandingkan dengan yang sudah menikah\n",
        "- Data menunjukan bahwa mayoritas sum umur 20 dan 30 paling banyak menunggak hal tersebut sejalan dengan jumlah datanya secara count umur 20 dan 30 berada diposisi 1 dan 2 begitu juga dengan jumlah tunggakannya.\n",
        "-  Data menunujukan bahwa presentase tidak mampu bayar terdapat pada umur 40 tahun sebesar 23% dan umur paling mampu bayar ada di umur 30 tahun sebanyak 79%. "
      ]
    },
    {
      "cell_type": "markdown",
      "metadata": {
        "id": "Wh_ehn7LDjyG"
      },
      "source": [
        "#5.FEATURE SELECTION"
      ]
    },
    {
      "cell_type": "markdown",
      "metadata": {
        "id": "sSnyXZR8XAoH"
      },
      "source": [
        "Install Phik mengaktivasi phik guna mencari korelasi antar fitur untuk digunakan pada model"
      ]
    },
    {
      "cell_type": "code",
      "execution_count": null,
      "metadata": {
        "colab": {
          "base_uri": "https://localhost:8080/"
        },
        "id": "tLqAD7WeDphG",
        "outputId": "6a0b1521-00f5-44e4-d300-d12c073ef1f6"
      },
      "outputs": [
        {
          "output_type": "stream",
          "name": "stdout",
          "text": [
            "Looking in indexes: https://pypi.org/simple, https://us-python.pkg.dev/colab-wheels/public/simple/\n",
            "Requirement already satisfied: phik in /usr/local/lib/python3.9/dist-packages (0.12.3)\n",
            "Requirement already satisfied: pandas>=0.25.1 in /usr/local/lib/python3.9/dist-packages (from phik) (1.3.5)\n",
            "Requirement already satisfied: matplotlib>=2.2.3 in /usr/local/lib/python3.9/dist-packages (from phik) (3.5.3)\n",
            "Requirement already satisfied: numpy>=1.18.0 in /usr/local/lib/python3.9/dist-packages (from phik) (1.22.4)\n",
            "Requirement already satisfied: scipy>=1.5.2 in /usr/local/lib/python3.9/dist-packages (from phik) (1.10.1)\n",
            "Requirement already satisfied: joblib>=0.14.1 in /usr/local/lib/python3.9/dist-packages (from phik) (1.2.0)\n",
            "Requirement already satisfied: kiwisolver>=1.0.1 in /usr/local/lib/python3.9/dist-packages (from matplotlib>=2.2.3->phik) (1.4.4)\n",
            "Requirement already satisfied: pyparsing>=2.2.1 in /usr/local/lib/python3.9/dist-packages (from matplotlib>=2.2.3->phik) (3.0.9)\n",
            "Requirement already satisfied: packaging>=20.0 in /usr/local/lib/python3.9/dist-packages (from matplotlib>=2.2.3->phik) (23.0)\n",
            "Requirement already satisfied: cycler>=0.10 in /usr/local/lib/python3.9/dist-packages (from matplotlib>=2.2.3->phik) (0.11.0)\n",
            "Requirement already satisfied: python-dateutil>=2.7 in /usr/local/lib/python3.9/dist-packages (from matplotlib>=2.2.3->phik) (2.8.2)\n",
            "Requirement already satisfied: fonttools>=4.22.0 in /usr/local/lib/python3.9/dist-packages (from matplotlib>=2.2.3->phik) (4.39.0)\n",
            "Requirement already satisfied: pillow>=6.2.0 in /usr/local/lib/python3.9/dist-packages (from matplotlib>=2.2.3->phik) (8.4.0)\n",
            "Requirement already satisfied: pytz>=2017.3 in /usr/local/lib/python3.9/dist-packages (from pandas>=0.25.1->phik) (2022.7.1)\n",
            "Requirement already satisfied: six>=1.5 in /usr/local/lib/python3.9/dist-packages (from python-dateutil>=2.7->matplotlib>=2.2.3->phik) (1.15.0)\n"
          ]
        }
      ],
      "source": [
        "#Install phik\n",
        "!pip install phik"
      ]
    },
    {
      "cell_type": "markdown",
      "metadata": {
        "id": "l1pO7h4yY6-h"
      },
      "source": [
        "Membuat variable baru untuk masukan pada plot corelation matrix"
      ]
    },
    {
      "cell_type": "code",
      "execution_count": null,
      "metadata": {
        "colab": {
          "base_uri": "https://localhost:8080/"
        },
        "id": "wAF2d9nMENxR",
        "outputId": "93bc542a-1228-45c5-83da-38405b9c0040"
      },
      "outputs": [
        {
          "output_type": "stream",
          "name": "stdout",
          "text": [
            "interval columns not set, guessing: ['sex', 'education_level', 'marital_status', 'pay_5', 'pay_6', 'default_payment_next_month', 'limit_balance', 'age', 'pay_0', 'pay_2', 'pay_3', 'pay_4', 'bill_amt_1', 'bill_amt_2', 'bill_amt_3', 'bill_amt_4', 'bill_amt_5', 'bill_amt_6', 'pay_amt_1', 'pay_amt_2', 'pay_amt_3', 'pay_amt_4', 'pay_amt_5', 'pay_amt_6']\n"
          ]
        }
      ],
      "source": [
        "#Buat variabel baru Phik_overview\n",
        "phik_overview = df.phik_matrix()"
      ]
    },
    {
      "cell_type": "code",
      "execution_count": null,
      "metadata": {
        "colab": {
          "base_uri": "https://localhost:8080/",
          "height": 585
        },
        "id": "TWReH_IQE4yx",
        "outputId": "31167d5c-5cd7-42ad-ec34-a6f88aa0424b"
      },
      "outputs": [
        {
          "output_type": "display_data",
          "data": {
            "text/plain": [
              "<Figure size 1440x576 with 2 Axes>"
            ],
            "image/png": "[encoded data removed]"
          },
          "metadata": {
            "needs_background": "light"
          }
        }
      ],
      "source": [
        "#Aktivasi Matrix phik_matrix\n",
        "plot_correlation_matrix(phik_overview.values, \n",
        "                        x_labels=phik_overview.columns, \n",
        "                        y_labels=phik_overview.index, \n",
        "                        vmin=0, vmax=1, color_map=\"Greens\", \n",
        "                        title=r\"correlation $\\phi_K$ other columns\", \n",
        "                        fontsize_factor=1.5, \n",
        "                        figsize=(20,8))\n",
        "plt.tight_layout()"
      ]
    },
    {
      "cell_type": "code",
      "execution_count": null,
      "metadata": {
        "colab": {
          "base_uri": "https://localhost:8080/",
          "height": 927
        },
        "id": "ou1InThzFBk5",
        "outputId": "ec7f7c14-3473-477d-8100-1c392fd5ba7f"
      },
      "outputs": [
        {
          "output_type": "execute_result",
          "data": {
            "text/plain": [
              "                                 sex  education_level  marital_status  \\\n",
              "sex                         1.000000         0.039061        0.000000   \n",
              "education_level             0.039061         1.000000        0.167096   \n",
              "marital_status              0.000000         0.167096        1.000000   \n",
              "pay_5                       0.047309         0.111444        0.000000   \n",
              "pay_6                       0.068282         0.107059        0.058098   \n",
              "default_payment_next_month  0.015281         0.085359        0.020055   \n",
              "limit_balance               0.114489         0.205667        0.086512   \n",
              "age                         0.180424         0.246589        0.437104   \n",
              "pay_0                       0.088779         0.127597        0.000000   \n",
              "pay_2                       0.122564         0.130980        0.032285   \n",
              "pay_3                       0.099333         0.136723        0.000000   \n",
              "pay_4                       0.069180         0.120008        0.000000   \n",
              "bill_amt_1                  0.082489         0.000000        0.000000   \n",
              "bill_amt_2                  0.063975         0.000000        0.025617   \n",
              "bill_amt_3                  0.076072         0.000000        0.000000   \n",
              "bill_amt_4                  0.086533         0.088519        0.000000   \n",
              "bill_amt_5                  0.000000         0.086455        0.000000   \n",
              "bill_amt_6                  0.000000         0.000000        0.000000   \n",
              "pay_amt_1                   0.000000         0.000000        0.000000   \n",
              "pay_amt_2                   0.000000         0.017047        0.000000   \n",
              "pay_amt_3                   0.011429         0.217294        0.000000   \n",
              "pay_amt_4                   0.018747         0.000000        0.000000   \n",
              "pay_amt_5                   0.034574         0.000000        0.191582   \n",
              "pay_amt_6                   0.000000         0.023591        0.000000   \n",
              "age_group                   0.109672         0.228845        0.314770   \n",
              "\n",
              "                               pay_5     pay_6  default_payment_next_month  \\\n",
              "sex                         0.047309  0.068282                    0.015281   \n",
              "education_level             0.111444  0.107059                    0.085359   \n",
              "marital_status              0.000000  0.058098                    0.020055   \n",
              "pay_5                       1.000000  0.897319                    0.315415   \n",
              "pay_6                       0.897319  1.000000                    0.386559   \n",
              "default_payment_next_month  0.315415  0.386559                    1.000000   \n",
              "limit_balance               0.196312  0.177949                    0.191907   \n",
              "age                         0.082635  0.125095                    0.067038   \n",
              "pay_0                       0.678764  0.633896                    0.596572   \n",
              "pay_2                       0.715982  0.683647                    0.468335   \n",
              "pay_3                       0.915241  0.760707                    0.334726   \n",
              "pay_4                       0.953622  0.837467                    0.318688   \n",
              "bill_amt_1                  0.278731  0.283243                    0.073974   \n",
              "bill_amt_2                  0.304974  0.312860                    0.064086   \n",
              "bill_amt_3                  0.352469  0.356415                    0.073073   \n",
              "bill_amt_4                  0.525176  0.487028                    0.087360   \n",
              "bill_amt_5                  0.499403  0.525606                    0.019495   \n",
              "bill_amt_6                  0.352605  0.374512                    0.000000   \n",
              "pay_amt_1                   0.000000  0.000000                    0.046866   \n",
              "pay_amt_2                   0.000000  0.000000                    0.004992   \n",
              "pay_amt_3                   0.000000  0.000000                    0.083774   \n",
              "pay_amt_4                   0.105499  0.000000                    0.062588   \n",
              "pay_amt_5                   0.000000  0.132357                    0.022282   \n",
              "pay_amt_6                   0.000000  0.023289                    0.000000   \n",
              "age_group                   0.068441  0.109839                    0.000000   \n",
              "\n",
              "                            limit_balance       age     pay_0     pay_2  ...  \\\n",
              "sex                              0.114489  0.180424  0.088779  0.122564  ...   \n",
              "education_level                  0.205667  0.246589  0.127597  0.130980  ...   \n",
              "marital_status                   0.086512  0.437104  0.000000  0.032285  ...   \n",
              "pay_5                            0.196312  0.082635  0.678764  0.715982  ...   \n",
              "pay_6                            0.177949  0.125095  0.633896  0.683647  ...   \n",
              "default_payment_next_month       0.191907  0.067038  0.596572  0.468335  ...   \n",
              "limit_balance                    1.000000  0.354603  0.268362  0.316312  ...   \n",
              "age                              0.354603  1.000000  0.152834  0.186834  ...   \n",
              "pay_0                            0.268362  0.152834  1.000000  0.963696  ...   \n",
              "pay_2                            0.316312  0.186834  0.963696  1.000000  ...   \n",
              "pay_3                            0.224128  0.106265  0.826642  0.888879  ...   \n",
              "pay_4                            0.202657  0.092902  0.758377  0.829691  ...   \n",
              "bill_amt_1                       0.579266  0.192251  0.464220  0.469127  ...   \n",
              "bill_amt_2                       0.573878  0.143913  0.475979  0.489021  ...   \n",
              "bill_amt_3                       0.535769  0.145196  0.498229  0.511464  ...   \n",
              "bill_amt_4                       0.570110  0.195098  0.588473  0.642030  ...   \n",
              "bill_amt_5                       0.539768  0.200810  0.562617  0.618432  ...   \n",
              "bill_amt_6                       0.511438  0.164806  0.491670  0.520657  ...   \n",
              "pay_amt_1                        0.107777  0.000000  0.000000  0.064681  ...   \n",
              "pay_amt_2                        0.214728  0.000000  0.000000  0.156303  ...   \n",
              "pay_amt_3                        0.243217  0.048942  0.000000  0.000000  ...   \n",
              "pay_amt_4                        0.235536  0.000000  0.000000  0.000000  ...   \n",
              "pay_amt_5                        0.132039  0.000000  0.057493  0.000000  ...   \n",
              "pay_amt_6                        0.173959  0.008340  0.279799  0.173843  ...   \n",
              "age_group                        0.251641  0.998731  0.155961  0.197996  ...   \n",
              "\n",
              "                            bill_amt_4  bill_amt_5  bill_amt_6  pay_amt_1  \\\n",
              "sex                           0.086533    0.000000    0.000000   0.000000   \n",
              "education_level               0.088519    0.086455    0.000000   0.000000   \n",
              "marital_status                0.000000    0.000000    0.000000   0.000000   \n",
              "pay_5                         0.525176    0.499403    0.352605   0.000000   \n",
              "pay_6                         0.487028    0.525606    0.374512   0.000000   \n",
              "default_payment_next_month    0.087360    0.019495    0.000000   0.046866   \n",
              "limit_balance                 0.570110    0.539768    0.511438   0.107777   \n",
              "age                           0.195098    0.200810    0.164806   0.000000   \n",
              "pay_0                         0.588473    0.562617    0.491670   0.000000   \n",
              "pay_2                         0.642030    0.618432    0.520657   0.064681   \n",
              "pay_3                         0.512662    0.481915    0.388247   0.000000   \n",
              "pay_4                         0.521710    0.486393    0.370455   0.000000   \n",
              "bill_amt_1                    0.894147    0.866597    0.847679   0.000000   \n",
              "bill_amt_2                    0.927709    0.893914    0.866915   0.457355   \n",
              "bill_amt_3                    0.961947    0.931837    0.915738   0.551916   \n",
              "bill_amt_4                    1.000000    0.957067    0.936970   0.378222   \n",
              "bill_amt_5                    0.957067    1.000000    0.955447   0.397924   \n",
              "bill_amt_6                    0.936970    0.955447    1.000000   0.396000   \n",
              "pay_amt_1                     0.378222    0.397924    0.396000   1.000000   \n",
              "pay_amt_2                     0.301754    0.283630    0.271392   0.677388   \n",
              "pay_amt_3                     0.353039    0.267011    0.237417   0.446295   \n",
              "pay_amt_4                     0.096196    0.330786    0.250232   0.115202   \n",
              "pay_amt_5                     0.048217    0.000000    0.461937   0.375512   \n",
              "pay_amt_6                     0.065490    0.084073    0.103233   0.181823   \n",
              "age_group                     0.168634    0.152246    0.132866   0.000000   \n",
              "\n",
              "                            pay_amt_2  pay_amt_3  pay_amt_4  pay_amt_5  \\\n",
              "sex                          0.000000   0.011429   0.018747   0.034574   \n",
              "education_level              0.017047   0.217294   0.000000   0.000000   \n",
              "marital_status               0.000000   0.000000   0.000000   0.191582   \n",
              "pay_5                        0.000000   0.000000   0.105499   0.000000   \n",
              "pay_6                        0.000000   0.000000   0.000000   0.132357   \n",
              "default_payment_next_month   0.004992   0.083774   0.062588   0.022282   \n",
              "limit_balance                0.214728   0.243217   0.235536   0.132039   \n",
              "age                          0.000000   0.048942   0.000000   0.000000   \n",
              "pay_0                        0.000000   0.000000   0.000000   0.057493   \n",
              "pay_2                        0.156303   0.000000   0.000000   0.000000   \n",
              "pay_3                        0.034973   0.000000   0.000000   0.033660   \n",
              "pay_4                        0.000000   0.068828   0.000000   0.000000   \n",
              "bill_amt_1                   0.264195   0.169398   0.276177   0.054138   \n",
              "bill_amt_2                   0.464271   0.282842   0.236652   0.000000   \n",
              "bill_amt_3                   0.723369   0.398815   0.194553   0.000000   \n",
              "bill_amt_4                   0.301754   0.353039   0.096196   0.048217   \n",
              "bill_amt_5                   0.283630   0.267011   0.330786   0.000000   \n",
              "bill_amt_6                   0.271392   0.237417   0.250232   0.461937   \n",
              "pay_amt_1                    0.677388   0.446295   0.115202   0.375512   \n",
              "pay_amt_2                    1.000000   0.676751   0.344718   0.000000   \n",
              "pay_amt_3                    0.676751   1.000000   0.357075   0.189033   \n",
              "pay_amt_4                    0.344718   0.357075   1.000000   0.149114   \n",
              "pay_amt_5                    0.000000   0.189033   0.149114   1.000000   \n",
              "pay_amt_6                    0.233755   0.257053   0.245827   0.070662   \n",
              "age_group                    0.000000   0.026801   0.000000   0.000000   \n",
              "\n",
              "                            pay_amt_6  age_group  \n",
              "sex                          0.000000   0.109672  \n",
              "education_level              0.023591   0.228845  \n",
              "marital_status               0.000000   0.314770  \n",
              "pay_5                        0.000000   0.068441  \n",
              "pay_6                        0.023289   0.109839  \n",
              "default_payment_next_month   0.000000   0.000000  \n",
              "limit_balance                0.173959   0.251641  \n",
              "age                          0.008340   0.998731  \n",
              "pay_0                        0.279799   0.155961  \n",
              "pay_2                        0.173843   0.197996  \n",
              "pay_3                        0.115996   0.086636  \n",
              "pay_4                        0.050676   0.078033  \n",
              "bill_amt_1                   0.174205   0.168036  \n",
              "bill_amt_2                   0.073173   0.124018  \n",
              "bill_amt_3                   0.098198   0.132793  \n",
              "bill_amt_4                   0.065490   0.168634  \n",
              "bill_amt_5                   0.084073   0.152246  \n",
              "bill_amt_6                   0.103233   0.132866  \n",
              "pay_amt_1                    0.181823   0.000000  \n",
              "pay_amt_2                    0.233755   0.000000  \n",
              "pay_amt_3                    0.257053   0.026801  \n",
              "pay_amt_4                    0.245827   0.000000  \n",
              "pay_amt_5                    0.070662   0.000000  \n",
              "pay_amt_6                    1.000000   0.000000  \n",
              "age_group                    0.000000   1.000000  \n",
              "\n",
              "[25 rows x 25 columns]"
            ],
            "text/html": [
              "\n",
              "  <div id=\"df-f2fe5364-57f4-42cb-9865-268932c9a8c9\">\n",
              "    <div class=\"colab-df-container\">\n",
              "      <div>\n",
              "<style scoped>\n",
              "    .dataframe tbody tr th:only-of-type {\n",
              "        vertical-align: middle;\n",
              "    }\n",
              "\n",
              "    .dataframe tbody tr th {\n",
              "        vertical-align: top;\n",
              "    }\n",
              "\n",
              "    .dataframe thead th {\n",
              "        text-align: right;\n",
              "    }\n",
              "</style>\n",
              "<table border=\"1\" class=\"dataframe\">\n",
              "  <thead>\n",
              "    <tr style=\"text-align: right;\">\n",
              "      <th></th>\n",
              "      <th>sex</th>\n",
              "      <th>education_level</th>\n",
              "      <th>marital_status</th>\n",
              "      <th>pay_5</th>\n",
              "      <th>pay_6</th>\n",
              "      <th>default_payment_next_month</th>\n",
              "      <th>limit_balance</th>\n",
              "      <th>age</th>\n",
              "      <th>pay_0</th>\n",
              "      <th>pay_2</th>\n",
              "      <th>...</th>\n",
              "      <th>bill_amt_4</th>\n",
              "      <th>bill_amt_5</th>\n",
              "      <th>bill_amt_6</th>\n",
              "      <th>pay_amt_1</th>\n",
              "      <th>pay_amt_2</th>\n",
              "      <th>pay_amt_3</th>\n",
              "      <th>pay_amt_4</th>\n",
              "      <th>pay_amt_5</th>\n",
              "      <th>pay_amt_6</th>\n",
              "      <th>age_group</th>\n",
              "    </tr>\n",
              "  </thead>\n",
              "  <tbody>\n",
              "    <tr>\n",
              "      <th>sex</th>\n",
              "      <td>1.000000</td>\n",
              "      <td>0.039061</td>\n",
              "      <td>0.000000</td>\n",
              "      <td>0.047309</td>\n",
              "      <td>0.068282</td>\n",
              "      <td>0.015281</td>\n",
              "      <td>0.114489</td>\n",
              "      <td>0.180424</td>\n",
              "      <td>0.088779</td>\n",
              "      <td>0.122564</td>\n",
              "      <td>...</td>\n",
              "      <td>0.086533</td>\n",
              "      <td>0.000000</td>\n",
              "      <td>0.000000</td>\n",
              "      <td>0.000000</td>\n",
              "      <td>0.000000</td>\n",
              "      <td>0.011429</td>\n",
              "      <td>0.018747</td>\n",
              "      <td>0.034574</td>\n",
              "      <td>0.000000</td>\n",
              "      <td>0.109672</td>\n",
              "    </tr>\n",
              "    <tr>\n",
              "      <th>education_level</th>\n",
              "      <td>0.039061</td>\n",
              "      <td>1.000000</td>\n",
              "      <td>0.167096</td>\n",
              "      <td>0.111444</td>\n",
              "      <td>0.107059</td>\n",
              "      <td>0.085359</td>\n",
              "      <td>0.205667</td>\n",
              "      <td>0.246589</td>\n",
              "      <td>0.127597</td>\n",
              "      <td>0.130980</td>\n",
              "      <td>...</td>\n",
              "      <td>0.088519</td>\n",
              "      <td>0.086455</td>\n",
              "      <td>0.000000</td>\n",
              "      <td>0.000000</td>\n",
              "      <td>0.017047</td>\n",
              "      <td>0.217294</td>\n",
              "      <td>0.000000</td>\n",
              "      <td>0.000000</td>\n",
              "      <td>0.023591</td>\n",
              "      <td>0.228845</td>\n",
              "    </tr>\n",
              "    <tr>\n",
              "      <th>marital_status</th>\n",
              "      <td>0.000000</td>\n",
              "      <td>0.167096</td>\n",
              "      <td>1.000000</td>\n",
              "      <td>0.000000</td>\n",
              "      <td>0.058098</td>\n",
              "      <td>0.020055</td>\n",
              "      <td>0.086512</td>\n",
              "      <td>0.437104</td>\n",
              "      <td>0.000000</td>\n",
              "      <td>0.032285</td>\n",
              "      <td>...</td>\n",
              "      <td>0.000000</td>\n",
              "      <td>0.000000</td>\n",
              "      <td>0.000000</td>\n",
              "      <td>0.000000</td>\n",
              "      <td>0.000000</td>\n",
              "      <td>0.000000</td>\n",
              "      <td>0.000000</td>\n",
              "      <td>0.191582</td>\n",
              "      <td>0.000000</td>\n",
              "      <td>0.314770</td>\n",
              "    </tr>\n",
              "    <tr>\n",
              "      <th>pay_5</th>\n",
              "      <td>0.047309</td>\n",
              "      <td>0.111444</td>\n",
              "      <td>0.000000</td>\n",
              "      <td>1.000000</td>\n",
              "      <td>0.897319</td>\n",
              "      <td>0.315415</td>\n",
              "      <td>0.196312</td>\n",
              "      <td>0.082635</td>\n",
              "      <td>0.678764</td>\n",
              "      <td>0.715982</td>\n",
              "      <td>...</td>\n",
              "      <td>0.525176</td>\n",
              "      <td>0.499403</td>\n",
              "      <td>0.352605</td>\n",
              "      <td>0.000000</td>\n",
              "      <td>0.000000</td>\n",
              "      <td>0.000000</td>\n",
              "      <td>0.105499</td>\n",
              "      <td>0.000000</td>\n",
              "      <td>0.000000</td>\n",
              "      <td>0.068441</td>\n",
              "    </tr>\n",
              "    <tr>\n",
              "      <th>pay_6</th>\n",
              "      <td>0.068282</td>\n",
              "      <td>0.107059</td>\n",
              "      <td>0.058098</td>\n",
              "      <td>0.897319</td>\n",
              "      <td>1.000000</td>\n",
              "      <td>0.386559</td>\n",
              "      <td>0.177949</td>\n",
              "      <td>0.125095</td>\n",
              "      <td>0.633896</td>\n",
              "      <td>0.683647</td>\n",
              "      <td>...</td>\n",
              "      <td>0.487028</td>\n",
              "      <td>0.525606</td>\n",
              "      <td>0.374512</td>\n",
              "      <td>0.000000</td>\n",
              "      <td>0.000000</td>\n",
              "      <td>0.000000</td>\n",
              "      <td>0.000000</td>\n",
              "      <td>0.132357</td>\n",
              "      <td>0.023289</td>\n",
              "      <td>0.109839</td>\n",
              "    </tr>\n",
              "    <tr>\n",
              "      <th>default_payment_next_month</th>\n",
              "      <td>0.015281</td>\n",
              "      <td>0.085359</td>\n",
              "      <td>0.020055</td>\n",
              "      <td>0.315415</td>\n",
              "      <td>0.386559</td>\n",
              "      <td>1.000000</td>\n",
              "      <td>0.191907</td>\n",
              "      <td>0.067038</td>\n",
              "      <td>0.596572</td>\n",
              "      <td>0.468335</td>\n",
              "      <td>...</td>\n",
              "      <td>0.087360</td>\n",
              "      <td>0.019495</td>\n",
              "      <td>0.000000</td>\n",
              "      <td>0.046866</td>\n",
              "      <td>0.004992</td>\n",
              "      <td>0.083774</td>\n",
              "      <td>0.062588</td>\n",
              "      <td>0.022282</td>\n",
              "      <td>0.000000</td>\n",
              "      <td>0.000000</td>\n",
              "    </tr>\n",
              "    <tr>\n",
              "      <th>limit_balance</th>\n",
              "      <td>0.114489</td>\n",
              "      <td>0.205667</td>\n",
              "      <td>0.086512</td>\n",
              "      <td>0.196312</td>\n",
              "      <td>0.177949</td>\n",
              "      <td>0.191907</td>\n",
              "      <td>1.000000</td>\n",
              "      <td>0.354603</td>\n",
              "      <td>0.268362</td>\n",
              "      <td>0.316312</td>\n",
              "      <td>...</td>\n",
              "      <td>0.570110</td>\n",
              "      <td>0.539768</td>\n",
              "      <td>0.511438</td>\n",
              "      <td>0.107777</td>\n",
              "      <td>0.214728</td>\n",
              "      <td>0.243217</td>\n",
              "      <td>0.235536</td>\n",
              "      <td>0.132039</td>\n",
              "      <td>0.173959</td>\n",
              "      <td>0.251641</td>\n",
              "    </tr>\n",
              "    <tr>\n",
              "      <th>age</th>\n",
              "      <td>0.180424</td>\n",
              "      <td>0.246589</td>\n",
              "      <td>0.437104</td>\n",
              "      <td>0.082635</td>\n",
              "      <td>0.125095</td>\n",
              "      <td>0.067038</td>\n",
              "      <td>0.354603</td>\n",
              "      <td>1.000000</td>\n",
              "      <td>0.152834</td>\n",
              "      <td>0.186834</td>\n",
              "      <td>...</td>\n",
              "      <td>0.195098</td>\n",
              "      <td>0.200810</td>\n",
              "      <td>0.164806</td>\n",
              "      <td>0.000000</td>\n",
              "      <td>0.000000</td>\n",
              "      <td>0.048942</td>\n",
              "      <td>0.000000</td>\n",
              "      <td>0.000000</td>\n",
              "      <td>0.008340</td>\n",
              "      <td>0.998731</td>\n",
              "    </tr>\n",
              "    <tr>\n",
              "      <th>pay_0</th>\n",
              "      <td>0.088779</td>\n",
              "      <td>0.127597</td>\n",
              "      <td>0.000000</td>\n",
              "      <td>0.678764</td>\n",
              "      <td>0.633896</td>\n",
              "      <td>0.596572</td>\n",
              "      <td>0.268362</td>\n",
              "      <td>0.152834</td>\n",
              "      <td>1.000000</td>\n",
              "      <td>0.963696</td>\n",
              "      <td>...</td>\n",
              "      <td>0.588473</td>\n",
              "      <td>0.562617</td>\n",
              "      <td>0.491670</td>\n",
              "      <td>0.000000</td>\n",
              "      <td>0.000000</td>\n",
              "      <td>0.000000</td>\n",
              "      <td>0.000000</td>\n",
              "      <td>0.057493</td>\n",
              "      <td>0.279799</td>\n",
              "      <td>0.155961</td>\n",
              "    </tr>\n",
              "    <tr>\n",
              "      <th>pay_2</th>\n",
              "      <td>0.122564</td>\n",
              "      <td>0.130980</td>\n",
              "      <td>0.032285</td>\n",
              "      <td>0.715982</td>\n",
              "      <td>0.683647</td>\n",
              "      <td>0.468335</td>\n",
              "      <td>0.316312</td>\n",
              "      <td>0.186834</td>\n",
              "      <td>0.963696</td>\n",
              "      <td>1.000000</td>\n",
              "      <td>...</td>\n",
              "      <td>0.642030</td>\n",
              "      <td>0.618432</td>\n",
              "      <td>0.520657</td>\n",
              "      <td>0.064681</td>\n",
              "      <td>0.156303</td>\n",
              "      <td>0.000000</td>\n",
              "      <td>0.000000</td>\n",
              "      <td>0.000000</td>\n",
              "      <td>0.173843</td>\n",
              "      <td>0.197996</td>\n",
              "    </tr>\n",
              "    <tr>\n",
              "      <th>pay_3</th>\n",
              "      <td>0.099333</td>\n",
              "      <td>0.136723</td>\n",
              "      <td>0.000000</td>\n",
              "      <td>0.915241</td>\n",
              "      <td>0.760707</td>\n",
              "      <td>0.334726</td>\n",
              "      <td>0.224128</td>\n",
              "      <td>0.106265</td>\n",
              "      <td>0.826642</td>\n",
              "      <td>0.888879</td>\n",
              "      <td>...</td>\n",
              "      <td>0.512662</td>\n",
              "      <td>0.481915</td>\n",
              "      <td>0.388247</td>\n",
              "      <td>0.000000</td>\n",
              "      <td>0.034973</td>\n",
              "      <td>0.000000</td>\n",
              "      <td>0.000000</td>\n",
              "      <td>0.033660</td>\n",
              "      <td>0.115996</td>\n",
              "      <td>0.086636</td>\n",
              "    </tr>\n",
              "    <tr>\n",
              "      <th>pay_4</th>\n",
              "      <td>0.069180</td>\n",
              "      <td>0.120008</td>\n",
              "      <td>0.000000</td>\n",
              "      <td>0.953622</td>\n",
              "      <td>0.837467</td>\n",
              "      <td>0.318688</td>\n",
              "      <td>0.202657</td>\n",
              "      <td>0.092902</td>\n",
              "      <td>0.758377</td>\n",
              "      <td>0.829691</td>\n",
              "      <td>...</td>\n",
              "      <td>0.521710</td>\n",
              "      <td>0.486393</td>\n",
              "      <td>0.370455</td>\n",
              "      <td>0.000000</td>\n",
              "      <td>0.000000</td>\n",
              "      <td>0.068828</td>\n",
              "      <td>0.000000</td>\n",
              "      <td>0.000000</td>\n",
              "      <td>0.050676</td>\n",
              "      <td>0.078033</td>\n",
              "    </tr>\n",
              "    <tr>\n",
              "      <th>bill_amt_1</th>\n",
              "      <td>0.082489</td>\n",
              "      <td>0.000000</td>\n",
              "      <td>0.000000</td>\n",
              "      <td>0.278731</td>\n",
              "      <td>0.283243</td>\n",
              "      <td>0.073974</td>\n",
              "      <td>0.579266</td>\n",
              "      <td>0.192251</td>\n",
              "      <td>0.464220</td>\n",
              "      <td>0.469127</td>\n",
              "      <td>...</td>\n",
              "      <td>0.894147</td>\n",
              "      <td>0.866597</td>\n",
              "      <td>0.847679</td>\n",
              "      <td>0.000000</td>\n",
              "      <td>0.264195</td>\n",
              "      <td>0.169398</td>\n",
              "      <td>0.276177</td>\n",
              "      <td>0.054138</td>\n",
              "      <td>0.174205</td>\n",
              "      <td>0.168036</td>\n",
              "    </tr>\n",
              "    <tr>\n",
              "      <th>bill_amt_2</th>\n",
              "      <td>0.063975</td>\n",
              "      <td>0.000000</td>\n",
              "      <td>0.025617</td>\n",
              "      <td>0.304974</td>\n",
              "      <td>0.312860</td>\n",
              "      <td>0.064086</td>\n",
              "      <td>0.573878</td>\n",
              "      <td>0.143913</td>\n",
              "      <td>0.475979</td>\n",
              "      <td>0.489021</td>\n",
              "      <td>...</td>\n",
              "      <td>0.927709</td>\n",
              "      <td>0.893914</td>\n",
              "      <td>0.866915</td>\n",
              "      <td>0.457355</td>\n",
              "      <td>0.464271</td>\n",
              "      <td>0.282842</td>\n",
              "      <td>0.236652</td>\n",
              "      <td>0.000000</td>\n",
              "      <td>0.073173</td>\n",
              "      <td>0.124018</td>\n",
              "    </tr>\n",
              "    <tr>\n",
              "      <th>bill_amt_3</th>\n",
              "      <td>0.076072</td>\n",
              "      <td>0.000000</td>\n",
              "      <td>0.000000</td>\n",
              "      <td>0.352469</td>\n",
              "      <td>0.356415</td>\n",
              "      <td>0.073073</td>\n",
              "      <td>0.535769</td>\n",
              "      <td>0.145196</td>\n",
              "      <td>0.498229</td>\n",
              "      <td>0.511464</td>\n",
              "      <td>...</td>\n",
              "      <td>0.961947</td>\n",
              "      <td>0.931837</td>\n",
              "      <td>0.915738</td>\n",
              "      <td>0.551916</td>\n",
              "      <td>0.723369</td>\n",
              "      <td>0.398815</td>\n",
              "      <td>0.194553</td>\n",
              "      <td>0.000000</td>\n",
              "      <td>0.098198</td>\n",
              "      <td>0.132793</td>\n",
              "    </tr>\n",
              "    <tr>\n",
              "      <th>bill_amt_4</th>\n",
              "      <td>0.086533</td>\n",
              "      <td>0.088519</td>\n",
              "      <td>0.000000</td>\n",
              "      <td>0.525176</td>\n",
              "      <td>0.487028</td>\n",
              "      <td>0.087360</td>\n",
              "      <td>0.570110</td>\n",
              "      <td>0.195098</td>\n",
              "      <td>0.588473</td>\n",
              "      <td>0.642030</td>\n",
              "      <td>...</td>\n",
              "      <td>1.000000</td>\n",
              "      <td>0.957067</td>\n",
              "      <td>0.936970</td>\n",
              "      <td>0.378222</td>\n",
              "      <td>0.301754</td>\n",
              "      <td>0.353039</td>\n",
              "      <td>0.096196</td>\n",
              "      <td>0.048217</td>\n",
              "      <td>0.065490</td>\n",
              "      <td>0.168634</td>\n",
              "    </tr>\n",
              "    <tr>\n",
              "      <th>bill_amt_5</th>\n",
              "      <td>0.000000</td>\n",
              "      <td>0.086455</td>\n",
              "      <td>0.000000</td>\n",
              "      <td>0.499403</td>\n",
              "      <td>0.525606</td>\n",
              "      <td>0.019495</td>\n",
              "      <td>0.539768</td>\n",
              "      <td>0.200810</td>\n",
              "      <td>0.562617</td>\n",
              "      <td>0.618432</td>\n",
              "      <td>...</td>\n",
              "      <td>0.957067</td>\n",
              "      <td>1.000000</td>\n",
              "      <td>0.955447</td>\n",
              "      <td>0.397924</td>\n",
              "      <td>0.283630</td>\n",
              "      <td>0.267011</td>\n",
              "      <td>0.330786</td>\n",
              "      <td>0.000000</td>\n",
              "      <td>0.084073</td>\n",
              "      <td>0.152246</td>\n",
              "    </tr>\n",
              "    <tr>\n",
              "      <th>bill_amt_6</th>\n",
              "      <td>0.000000</td>\n",
              "      <td>0.000000</td>\n",
              "      <td>0.000000</td>\n",
              "      <td>0.352605</td>\n",
              "      <td>0.374512</td>\n",
              "      <td>0.000000</td>\n",
              "      <td>0.511438</td>\n",
              "      <td>0.164806</td>\n",
              "      <td>0.491670</td>\n",
              "      <td>0.520657</td>\n",
              "      <td>...</td>\n",
              "      <td>0.936970</td>\n",
              "      <td>0.955447</td>\n",
              "      <td>1.000000</td>\n",
              "      <td>0.396000</td>\n",
              "      <td>0.271392</td>\n",
              "      <td>0.237417</td>\n",
              "      <td>0.250232</td>\n",
              "      <td>0.461937</td>\n",
              "      <td>0.103233</td>\n",
              "      <td>0.132866</td>\n",
              "    </tr>\n",
              "    <tr>\n",
              "      <th>pay_amt_1</th>\n",
              "      <td>0.000000</td>\n",
              "      <td>0.000000</td>\n",
              "      <td>0.000000</td>\n",
              "      <td>0.000000</td>\n",
              "      <td>0.000000</td>\n",
              "      <td>0.046866</td>\n",
              "      <td>0.107777</td>\n",
              "      <td>0.000000</td>\n",
              "      <td>0.000000</td>\n",
              "      <td>0.064681</td>\n",
              "      <td>...</td>\n",
              "      <td>0.378222</td>\n",
              "      <td>0.397924</td>\n",
              "      <td>0.396000</td>\n",
              "      <td>1.000000</td>\n",
              "      <td>0.677388</td>\n",
              "      <td>0.446295</td>\n",
              "      <td>0.115202</td>\n",
              "      <td>0.375512</td>\n",
              "      <td>0.181823</td>\n",
              "      <td>0.000000</td>\n",
              "    </tr>\n",
              "    <tr>\n",
              "      <th>pay_amt_2</th>\n",
              "      <td>0.000000</td>\n",
              "      <td>0.017047</td>\n",
              "      <td>0.000000</td>\n",
              "      <td>0.000000</td>\n",
              "      <td>0.000000</td>\n",
              "      <td>0.004992</td>\n",
              "      <td>0.214728</td>\n",
              "      <td>0.000000</td>\n",
              "      <td>0.000000</td>\n",
              "      <td>0.156303</td>\n",
              "      <td>...</td>\n",
              "      <td>0.301754</td>\n",
              "      <td>0.283630</td>\n",
              "      <td>0.271392</td>\n",
              "      <td>0.677388</td>\n",
              "      <td>1.000000</td>\n",
              "      <td>0.676751</td>\n",
              "      <td>0.344718</td>\n",
              "      <td>0.000000</td>\n",
              "      <td>0.233755</td>\n",
              "      <td>0.000000</td>\n",
              "    </tr>\n",
              "    <tr>\n",
              "      <th>pay_amt_3</th>\n",
              "      <td>0.011429</td>\n",
              "      <td>0.217294</td>\n",
              "      <td>0.000000</td>\n",
              "      <td>0.000000</td>\n",
              "      <td>0.000000</td>\n",
              "      <td>0.083774</td>\n",
              "      <td>0.243217</td>\n",
              "      <td>0.048942</td>\n",
              "      <td>0.000000</td>\n",
              "      <td>0.000000</td>\n",
              "      <td>...</td>\n",
              "      <td>0.353039</td>\n",
              "      <td>0.267011</td>\n",
              "      <td>0.237417</td>\n",
              "      <td>0.446295</td>\n",
              "      <td>0.676751</td>\n",
              "      <td>1.000000</td>\n",
              "      <td>0.357075</td>\n",
              "      <td>0.189033</td>\n",
              "      <td>0.257053</td>\n",
              "      <td>0.026801</td>\n",
              "    </tr>\n",
              "    <tr>\n",
              "      <th>pay_amt_4</th>\n",
              "      <td>0.018747</td>\n",
              "      <td>0.000000</td>\n",
              "      <td>0.000000</td>\n",
              "      <td>0.105499</td>\n",
              "      <td>0.000000</td>\n",
              "      <td>0.062588</td>\n",
              "      <td>0.235536</td>\n",
              "      <td>0.000000</td>\n",
              "      <td>0.000000</td>\n",
              "      <td>0.000000</td>\n",
              "      <td>...</td>\n",
              "      <td>0.096196</td>\n",
              "      <td>0.330786</td>\n",
              "      <td>0.250232</td>\n",
              "      <td>0.115202</td>\n",
              "      <td>0.344718</td>\n",
              "      <td>0.357075</td>\n",
              "      <td>1.000000</td>\n",
              "      <td>0.149114</td>\n",
              "      <td>0.245827</td>\n",
              "      <td>0.000000</td>\n",
              "    </tr>\n",
              "    <tr>\n",
              "      <th>pay_amt_5</th>\n",
              "      <td>0.034574</td>\n",
              "      <td>0.000000</td>\n",
              "      <td>0.191582</td>\n",
              "      <td>0.000000</td>\n",
              "      <td>0.132357</td>\n",
              "      <td>0.022282</td>\n",
              "      <td>0.132039</td>\n",
              "      <td>0.000000</td>\n",
              "      <td>0.057493</td>\n",
              "      <td>0.000000</td>\n",
              "      <td>...</td>\n",
              "      <td>0.048217</td>\n",
              "      <td>0.000000</td>\n",
              "      <td>0.461937</td>\n",
              "      <td>0.375512</td>\n",
              "      <td>0.000000</td>\n",
              "      <td>0.189033</td>\n",
              "      <td>0.149114</td>\n",
              "      <td>1.000000</td>\n",
              "      <td>0.070662</td>\n",
              "      <td>0.000000</td>\n",
              "    </tr>\n",
              "    <tr>\n",
              "      <th>pay_amt_6</th>\n",
              "      <td>0.000000</td>\n",
              "      <td>0.023591</td>\n",
              "      <td>0.000000</td>\n",
              "      <td>0.000000</td>\n",
              "      <td>0.023289</td>\n",
              "      <td>0.000000</td>\n",
              "      <td>0.173959</td>\n",
              "      <td>0.008340</td>\n",
              "      <td>0.279799</td>\n",
              "      <td>0.173843</td>\n",
              "      <td>...</td>\n",
              "      <td>0.065490</td>\n",
              "      <td>0.084073</td>\n",
              "      <td>0.103233</td>\n",
              "      <td>0.181823</td>\n",
              "      <td>0.233755</td>\n",
              "      <td>0.257053</td>\n",
              "      <td>0.245827</td>\n",
              "      <td>0.070662</td>\n",
              "      <td>1.000000</td>\n",
              "      <td>0.000000</td>\n",
              "    </tr>\n",
              "    <tr>\n",
              "      <th>age_group</th>\n",
              "      <td>0.109672</td>\n",
              "      <td>0.228845</td>\n",
              "      <td>0.314770</td>\n",
              "      <td>0.068441</td>\n",
              "      <td>0.109839</td>\n",
              "      <td>0.000000</td>\n",
              "      <td>0.251641</td>\n",
              "      <td>0.998731</td>\n",
              "      <td>0.155961</td>\n",
              "      <td>0.197996</td>\n",
              "      <td>...</td>\n",
              "      <td>0.168634</td>\n",
              "      <td>0.152246</td>\n",
              "      <td>0.132866</td>\n",
              "      <td>0.000000</td>\n",
              "      <td>0.000000</td>\n",
              "      <td>0.026801</td>\n",
              "      <td>0.000000</td>\n",
              "      <td>0.000000</td>\n",
              "      <td>0.000000</td>\n",
              "      <td>1.000000</td>\n",
              "    </tr>\n",
              "  </tbody>\n",
              "</table>\n",
              "<p>25 rows × 25 columns</p>\n",
              "</div>\n",
              "      <button class=\"colab-df-convert\" onclick=\"convertToInteractive('df-f2fe5364-57f4-42cb-9865-268932c9a8c9')\"\n",
              "              title=\"Convert this dataframe to an interactive table.\"\n",
              "              style=\"display:none;\">\n",
              "        \n",
              "  <svg xmlns=\"http://www.w3.org/2000/svg\" height=\"24px\"viewBox=\"0 0 24 24\"\n",
              "       width=\"24px\">\n",
              "    <path d=\"M0 0h24v24H0V0z\" fill=\"none\"/>\n",
              "    <path d=\"M18.56 5.44l.94 2.06.94-2.06 2.06-.94-2.06-.94-.94-2.06-.94 2.06-2.06.94zm-11 1L8.5 8.5l.94-2.06 2.06-.94-2.06-.94L8.5 2.5l-.94 2.06-2.06.94zm10 10l.94 2.06.94-2.06 2.06-.94-2.06-.94-.94-2.06-.94 2.06-2.06.94z\"/><path d=\"M17.41 7.96l-1.37-1.37c-.4-.4-.92-.59-1.43-.59-.52 0-1.04.2-1.43.59L10.3 9.45l-7.72 7.72c-.78.78-.78 2.05 0 2.83L4 21.41c.39.39.9.59 1.41.59.51 0 1.02-.2 1.41-.59l7.78-7.78 2.81-2.81c.8-.78.8-2.07 0-2.86zM5.41 20L4 18.59l7.72-7.72 1.47 1.35L5.41 20z\"/>\n",
              "  </svg>\n",
              "      </button>\n",
              "      \n",
              "  <style>\n",
              "    .colab-df-container {\n",
              "      display:flex;\n",
              "      flex-wrap:wrap;\n",
              "      gap: 12px;\n",
              "    }\n",
              "\n",
              "    .colab-df-convert {\n",
              "      background-color: #E8F0FE;\n",
              "      border: none;\n",
              "      border-radius: 50%;\n",
              "      cursor: pointer;\n",
              "      display: none;\n",
              "      fill: #1967D2;\n",
              "      height: 32px;\n",
              "      padding: 0 0 0 0;\n",
              "      width: 32px;\n",
              "    }\n",
              "\n",
              "    .colab-df-convert:hover {\n",
              "      background-color: #E2EBFA;\n",
              "      box-shadow: 0px 1px 2px rgba(60, 64, 67, 0.3), 0px 1px 3px 1px rgba(60, 64, 67, 0.15);\n",
              "      fill: #174EA6;\n",
              "    }\n",
              "\n",
              "    [theme=dark] .colab-df-convert {\n",
              "      background-color: #3B4455;\n",
              "      fill: #D2E3FC;\n",
              "    }\n",
              "\n",
              "    [theme=dark] .colab-df-convert:hover {\n",
              "      background-color: #434B5C;\n",
              "      box-shadow: 0px 1px 3px 1px rgba(0, 0, 0, 0.15);\n",
              "      filter: drop-shadow(0px 1px 2px rgba(0, 0, 0, 0.3));\n",
              "      fill: #FFFFFF;\n",
              "    }\n",
              "  </style>\n",
              "\n",
              "      <script>\n",
              "        const buttonEl =\n",
              "          document.querySelector('#df-f2fe5364-57f4-42cb-9865-268932c9a8c9 button.colab-df-convert');\n",
              "        buttonEl.style.display =\n",
              "          google.colab.kernel.accessAllowed ? 'block' : 'none';\n",
              "\n",
              "        async function convertToInteractive(key) {\n",
              "          const element = document.querySelector('#df-f2fe5364-57f4-42cb-9865-268932c9a8c9');\n",
              "          const dataTable =\n",
              "            await google.colab.kernel.invokeFunction('convertToInteractive',\n",
              "                                                     [key], {});\n",
              "          if (!dataTable) return;\n",
              "\n",
              "          const docLinkHtml = 'Like what you see? Visit the ' +\n",
              "            '<a target=\"_blank\" href=https://colab.research.google.com/notebooks/data_table.ipynb>data table notebook</a>'\n",
              "            + ' to learn more about interactive tables.';\n",
              "          element.innerHTML = '';\n",
              "          dataTable['output_type'] = 'display_data';\n",
              "          await google.colab.output.renderOutput(dataTable, element);\n",
              "          const docLink = document.createElement('div');\n",
              "          docLink.innerHTML = docLinkHtml;\n",
              "          element.appendChild(docLink);\n",
              "        }\n",
              "      </script>\n",
              "    </div>\n",
              "  </div>\n",
              "  "
            ]
          },
          "metadata": {},
          "execution_count": 49
        }
      ],
      "source": [
        "#phik_overview sebagai DataFrame\n",
        "phik_overview"
      ]
    },
    {
      "cell_type": "code",
      "execution_count": null,
      "metadata": {
        "colab": {
          "base_uri": "https://localhost:8080/"
        },
        "id": "qfT2RcGfGXLn",
        "outputId": "c482fb83-c547-40f1-a659-575b5accdf52"
      },
      "outputs": [
        {
          "output_type": "stream",
          "name": "stdout",
          "text": [
            "default_payment_next_month    1.000000\n",
            "pay_0                         0.596572\n",
            "pay_2                         0.468335\n",
            "pay_6                         0.386559\n",
            "pay_3                         0.334726\n",
            "pay_4                         0.318688\n",
            "pay_5                         0.315415\n",
            "limit_balance                 0.191907\n",
            "bill_amt_4                    0.087360\n",
            "education_level               0.085359\n",
            "pay_amt_3                     0.083774\n",
            "bill_amt_1                    0.073974\n",
            "bill_amt_3                    0.073073\n",
            "age                           0.067038\n",
            "bill_amt_2                    0.064086\n",
            "pay_amt_4                     0.062588\n",
            "pay_amt_1                     0.046866\n",
            "pay_amt_5                     0.022282\n",
            "marital_status                0.020055\n",
            "bill_amt_5                    0.019495\n",
            "sex                           0.015281\n",
            "pay_amt_2                     0.004992\n",
            "bill_amt_6                    0.000000\n",
            "pay_amt_6                     0.000000\n",
            "age_group                     0.000000\n",
            "Name: default_payment_next_month, dtype: float64\n"
          ]
        }
      ],
      "source": [
        "# Buat Variable Corr_matrix\n",
        "corr_matrix = phik_overview\n",
        "\n",
        "# Seleksi korelasi target kolom 'income_bracket' dengan semua kolom\n",
        "income_corr = corr_matrix['default_payment_next_month']\n",
        "\n",
        "# sort values\n",
        "sorted_income_corr = income_corr.sort_values(ascending=False)\n",
        "\n",
        "# print correlation matrix\n",
        "print(sorted_income_corr)"
      ]
    },
    {
      "cell_type": "markdown",
      "metadata": {
        "id": "effKX5OvI5OD"
      },
      "source": [
        "Saya berencana mengambil korelasi dengan nilai 0.02 keatas \n",
        "\n",
        "Feature Selection :\n",
        "\n",
        "1. pay_0,\n",
        "2. pay_2,\n",
        "3. pay_6,\n",
        "4. pay_3,\n",
        "5. pay_4,\n",
        "6. pay_5,\n",
        "7. limit_balance,\n",
        "8. bill_amt_4,\n",
        "9. education_level,\n",
        "10. age,\n",
        "11. bill_amt_2\n",
        "12. pay_amt_4\n",
        "13. pay_amt_1\n",
        "14. pay_amt_5\n",
        "15. marital_status\n",
        "\n",
        "numerik : pay_0,pay_2,pay_6,pay_3,pay_4,pay_5,limit_balance,bill_amt_4,age,bill_amt_2,pay_amt_4,pay_amt_1,pay_amt_5\n",
        "\n",
        "kategorikal:education_level,marital_status\n",
        "\n",
        "Target: income_bracket"
      ]
    },
    {
      "cell_type": "code",
      "execution_count": null,
      "metadata": {
        "id": "0TuexZZaPFRV"
      },
      "outputs": [],
      "source": [
        "# Mendefinisikan Feature dan Target\n",
        "feature =['pay_0','pay_2','pay_6','pay_3','pay_4','pay_5','limit_balance','bill_amt_4','education_level','age','bill_amt_2','pay_amt_4','pay_amt_1','pay_amt_5','marital_status']\n",
        "target = ['default_payment_next_month']"
      ]
    },
    {
      "cell_type": "code",
      "execution_count": null,
      "metadata": {
        "id": "muoRfZpbPodB"
      },
      "outputs": [],
      "source": [
        "# Mendifinisikan variable x dan y dengan feature dan target\n",
        "X = df[feature]\n",
        "y = df[target]"
      ]
    },
    {
      "cell_type": "code",
      "execution_count": null,
      "metadata": {
        "id": "zZpwKdN-RGKu"
      },
      "outputs": [],
      "source": [
        "# Mendefinisikan variable kolom Numerical dan Kolom Kategori \n",
        "num_col =['pay_0','pay_2','pay_6','pay_3','pay_4','pay_5','limit_balance','bill_amt_4','age','bill_amt_2','pay_amt_4','pay_amt_1','pay_amt_5','bill_amt_5']\n",
        "cat_col = ['education_level','marital_status','default_payment_next_month']"
      ]
    },
    {
      "cell_type": "code",
      "execution_count": null,
      "metadata": {
        "colab": {
          "base_uri": "https://localhost:8080/",
          "height": 488
        },
        "id": "i3k900gLRm_t",
        "outputId": "b6c0ee0d-688b-4590-e92e-82264aefe50c"
      },
      "outputs": [
        {
          "output_type": "execute_result",
          "data": {
            "text/plain": [
              "      pay_0  pay_2  pay_6  pay_3  pay_4  pay_5  limit_balance  bill_amt_4  \\\n",
              "0       0.0    0.0    0.0    0.0    0.0    0.0        80000.0     29296.0   \n",
              "1       0.0    0.0    0.0    0.0    0.0    0.0       200000.0     50146.0   \n",
              "2       0.0    0.0    0.0    0.0    0.0    0.0        20000.0      1434.0   \n",
              "3       0.0    0.0    0.0    0.0    0.0    0.0       260000.0     27821.0   \n",
              "4       0.0    0.0    0.0    0.0   -1.0    0.0       150000.0    150464.0   \n",
              "...     ...    ...    ...    ...    ...    ...            ...         ...   \n",
              "2960   -1.0   -1.0   -2.0   -1.0   -2.0   -2.0        80000.0         0.0   \n",
              "2961   -1.0   -1.0   -2.0   -1.0   -1.0   -2.0        50000.0         0.0   \n",
              "2962   -2.0   -2.0   -2.0   -2.0   -2.0   -2.0       450000.0       390.0   \n",
              "2963   -2.0   -2.0   -2.0   -2.0   -2.0   -2.0        50000.0       390.0   \n",
              "2964    1.0   -2.0   -2.0   -2.0   -2.0   -2.0       290000.0      3184.0   \n",
              "\n",
              "       age  bill_amt_2  pay_amt_4  pay_amt_1  pay_amt_5  bill_amt_5  \\\n",
              "0     54.0     61808.0     2232.0     2545.0      542.0     26210.0   \n",
              "1     49.0     49599.0     3480.0     1689.0     2500.0     50235.0   \n",
              "2     22.0     19420.0        0.0     4641.0     1500.0       500.0   \n",
              "3     33.0     22815.0     5000.0     5000.0     1085.0     30767.0   \n",
              "4     32.0     68686.0     4600.0     4019.0     4709.0    143375.0   \n",
              "...    ...         ...        ...        ...        ...         ...   \n",
              "2960  28.0      2800.0        0.0     2800.0        0.0         0.0   \n",
              "2961  51.0       300.0        0.0      300.0        0.0         0.0   \n",
              "2962  38.0       390.0      390.0      390.0      390.0       390.0   \n",
              "2963  44.0       390.0      390.0      390.0        0.0       390.0   \n",
              "2964  39.0      9540.0      390.0    10000.0      390.0       390.0   \n",
              "\n",
              "      education_level  marital_status  default_payment_next_month  \n",
              "0                   6               1                           1  \n",
              "1                   4               1                           0  \n",
              "2                   6               2                           1  \n",
              "3                   4               2                           0  \n",
              "4                   4               2                           0  \n",
              "...               ...             ...                         ...  \n",
              "2960                3               2                           0  \n",
              "2961                3               1                           1  \n",
              "2962                2               1                           1  \n",
              "2963                2               1                           0  \n",
              "2964                2               1                           0  \n",
              "\n",
              "[2964 rows x 17 columns]"
            ],
            "text/html": [
              "\n",
              "  <div id=\"df-b47c72b5-4c2e-4b6d-9309-0cdaf6868d79\">\n",
              "    <div class=\"colab-df-container\">\n",
              "      <div>\n",
              "<style scoped>\n",
              "    .dataframe tbody tr th:only-of-type {\n",
              "        vertical-align: middle;\n",
              "    }\n",
              "\n",
              "    .dataframe tbody tr th {\n",
              "        vertical-align: top;\n",
              "    }\n",
              "\n",
              "    .dataframe thead th {\n",
              "        text-align: right;\n",
              "    }\n",
              "</style>\n",
              "<table border=\"1\" class=\"dataframe\">\n",
              "  <thead>\n",
              "    <tr style=\"text-align: right;\">\n",
              "      <th></th>\n",
              "      <th>pay_0</th>\n",
              "      <th>pay_2</th>\n",
              "      <th>pay_6</th>\n",
              "      <th>pay_3</th>\n",
              "      <th>pay_4</th>\n",
              "      <th>pay_5</th>\n",
              "      <th>limit_balance</th>\n",
              "      <th>bill_amt_4</th>\n",
              "      <th>age</th>\n",
              "      <th>bill_amt_2</th>\n",
              "      <th>pay_amt_4</th>\n",
              "      <th>pay_amt_1</th>\n",
              "      <th>pay_amt_5</th>\n",
              "      <th>bill_amt_5</th>\n",
              "      <th>education_level</th>\n",
              "      <th>marital_status</th>\n",
              "      <th>default_payment_next_month</th>\n",
              "    </tr>\n",
              "  </thead>\n",
              "  <tbody>\n",
              "    <tr>\n",
              "      <th>0</th>\n",
              "      <td>0.0</td>\n",
              "      <td>0.0</td>\n",
              "      <td>0.0</td>\n",
              "      <td>0.0</td>\n",
              "      <td>0.0</td>\n",
              "      <td>0.0</td>\n",
              "      <td>80000.0</td>\n",
              "      <td>29296.0</td>\n",
              "      <td>54.0</td>\n",
              "      <td>61808.0</td>\n",
              "      <td>2232.0</td>\n",
              "      <td>2545.0</td>\n",
              "      <td>542.0</td>\n",
              "      <td>26210.0</td>\n",
              "      <td>6</td>\n",
              "      <td>1</td>\n",
              "      <td>1</td>\n",
              "    </tr>\n",
              "    <tr>\n",
              "      <th>1</th>\n",
              "      <td>0.0</td>\n",
              "      <td>0.0</td>\n",
              "      <td>0.0</td>\n",
              "      <td>0.0</td>\n",
              "      <td>0.0</td>\n",
              "      <td>0.0</td>\n",
              "      <td>200000.0</td>\n",
              "      <td>50146.0</td>\n",
              "      <td>49.0</td>\n",
              "      <td>49599.0</td>\n",
              "      <td>3480.0</td>\n",
              "      <td>1689.0</td>\n",
              "      <td>2500.0</td>\n",
              "      <td>50235.0</td>\n",
              "      <td>4</td>\n",
              "      <td>1</td>\n",
              "      <td>0</td>\n",
              "    </tr>\n",
              "    <tr>\n",
              "      <th>2</th>\n",
              "      <td>0.0</td>\n",
              "      <td>0.0</td>\n",
              "      <td>0.0</td>\n",
              "      <td>0.0</td>\n",
              "      <td>0.0</td>\n",
              "      <td>0.0</td>\n",
              "      <td>20000.0</td>\n",
              "      <td>1434.0</td>\n",
              "      <td>22.0</td>\n",
              "      <td>19420.0</td>\n",
              "      <td>0.0</td>\n",
              "      <td>4641.0</td>\n",
              "      <td>1500.0</td>\n",
              "      <td>500.0</td>\n",
              "      <td>6</td>\n",
              "      <td>2</td>\n",
              "      <td>1</td>\n",
              "    </tr>\n",
              "    <tr>\n",
              "      <th>3</th>\n",
              "      <td>0.0</td>\n",
              "      <td>0.0</td>\n",
              "      <td>0.0</td>\n",
              "      <td>0.0</td>\n",
              "      <td>0.0</td>\n",
              "      <td>0.0</td>\n",
              "      <td>260000.0</td>\n",
              "      <td>27821.0</td>\n",
              "      <td>33.0</td>\n",
              "      <td>22815.0</td>\n",
              "      <td>5000.0</td>\n",
              "      <td>5000.0</td>\n",
              "      <td>1085.0</td>\n",
              "      <td>30767.0</td>\n",
              "      <td>4</td>\n",
              "      <td>2</td>\n",
              "      <td>0</td>\n",
              "    </tr>\n",
              "    <tr>\n",
              "      <th>4</th>\n",
              "      <td>0.0</td>\n",
              "      <td>0.0</td>\n",
              "      <td>0.0</td>\n",
              "      <td>0.0</td>\n",
              "      <td>-1.0</td>\n",
              "      <td>0.0</td>\n",
              "      <td>150000.0</td>\n",
              "      <td>150464.0</td>\n",
              "      <td>32.0</td>\n",
              "      <td>68686.0</td>\n",
              "      <td>4600.0</td>\n",
              "      <td>4019.0</td>\n",
              "      <td>4709.0</td>\n",
              "      <td>143375.0</td>\n",
              "      <td>4</td>\n",
              "      <td>2</td>\n",
              "      <td>0</td>\n",
              "    </tr>\n",
              "    <tr>\n",
              "      <th>...</th>\n",
              "      <td>...</td>\n",
              "      <td>...</td>\n",
              "      <td>...</td>\n",
              "      <td>...</td>\n",
              "      <td>...</td>\n",
              "      <td>...</td>\n",
              "      <td>...</td>\n",
              "      <td>...</td>\n",
              "      <td>...</td>\n",
              "      <td>...</td>\n",
              "      <td>...</td>\n",
              "      <td>...</td>\n",
              "      <td>...</td>\n",
              "      <td>...</td>\n",
              "      <td>...</td>\n",
              "      <td>...</td>\n",
              "      <td>...</td>\n",
              "    </tr>\n",
              "    <tr>\n",
              "      <th>2960</th>\n",
              "      <td>-1.0</td>\n",
              "      <td>-1.0</td>\n",
              "      <td>-2.0</td>\n",
              "      <td>-1.0</td>\n",
              "      <td>-2.0</td>\n",
              "      <td>-2.0</td>\n",
              "      <td>80000.0</td>\n",
              "      <td>0.0</td>\n",
              "      <td>28.0</td>\n",
              "      <td>2800.0</td>\n",
              "      <td>0.0</td>\n",
              "      <td>2800.0</td>\n",
              "      <td>0.0</td>\n",
              "      <td>0.0</td>\n",
              "      <td>3</td>\n",
              "      <td>2</td>\n",
              "      <td>0</td>\n",
              "    </tr>\n",
              "    <tr>\n",
              "      <th>2961</th>\n",
              "      <td>-1.0</td>\n",
              "      <td>-1.0</td>\n",
              "      <td>-2.0</td>\n",
              "      <td>-1.0</td>\n",
              "      <td>-1.0</td>\n",
              "      <td>-2.0</td>\n",
              "      <td>50000.0</td>\n",
              "      <td>0.0</td>\n",
              "      <td>51.0</td>\n",
              "      <td>300.0</td>\n",
              "      <td>0.0</td>\n",
              "      <td>300.0</td>\n",
              "      <td>0.0</td>\n",
              "      <td>0.0</td>\n",
              "      <td>3</td>\n",
              "      <td>1</td>\n",
              "      <td>1</td>\n",
              "    </tr>\n",
              "    <tr>\n",
              "      <th>2962</th>\n",
              "      <td>-2.0</td>\n",
              "      <td>-2.0</td>\n",
              "      <td>-2.0</td>\n",
              "      <td>-2.0</td>\n",
              "      <td>-2.0</td>\n",
              "      <td>-2.0</td>\n",
              "      <td>450000.0</td>\n",
              "      <td>390.0</td>\n",
              "      <td>38.0</td>\n",
              "      <td>390.0</td>\n",
              "      <td>390.0</td>\n",
              "      <td>390.0</td>\n",
              "      <td>390.0</td>\n",
              "      <td>390.0</td>\n",
              "      <td>2</td>\n",
              "      <td>1</td>\n",
              "      <td>1</td>\n",
              "    </tr>\n",
              "    <tr>\n",
              "      <th>2963</th>\n",
              "      <td>-2.0</td>\n",
              "      <td>-2.0</td>\n",
              "      <td>-2.0</td>\n",
              "      <td>-2.0</td>\n",
              "      <td>-2.0</td>\n",
              "      <td>-2.0</td>\n",
              "      <td>50000.0</td>\n",
              "      <td>390.0</td>\n",
              "      <td>44.0</td>\n",
              "      <td>390.0</td>\n",
              "      <td>390.0</td>\n",
              "      <td>390.0</td>\n",
              "      <td>0.0</td>\n",
              "      <td>390.0</td>\n",
              "      <td>2</td>\n",
              "      <td>1</td>\n",
              "      <td>0</td>\n",
              "    </tr>\n",
              "    <tr>\n",
              "      <th>2964</th>\n",
              "      <td>1.0</td>\n",
              "      <td>-2.0</td>\n",
              "      <td>-2.0</td>\n",
              "      <td>-2.0</td>\n",
              "      <td>-2.0</td>\n",
              "      <td>-2.0</td>\n",
              "      <td>290000.0</td>\n",
              "      <td>3184.0</td>\n",
              "      <td>39.0</td>\n",
              "      <td>9540.0</td>\n",
              "      <td>390.0</td>\n",
              "      <td>10000.0</td>\n",
              "      <td>390.0</td>\n",
              "      <td>390.0</td>\n",
              "      <td>2</td>\n",
              "      <td>1</td>\n",
              "      <td>0</td>\n",
              "    </tr>\n",
              "  </tbody>\n",
              "</table>\n",
              "<p>2964 rows × 17 columns</p>\n",
              "</div>\n",
              "      <button class=\"colab-df-convert\" onclick=\"convertToInteractive('df-b47c72b5-4c2e-4b6d-9309-0cdaf6868d79')\"\n",
              "              title=\"Convert this dataframe to an interactive table.\"\n",
              "              style=\"display:none;\">\n",
              "        \n",
              "  <svg xmlns=\"http://www.w3.org/2000/svg\" height=\"24px\"viewBox=\"0 0 24 24\"\n",
              "       width=\"24px\">\n",
              "    <path d=\"M0 0h24v24H0V0z\" fill=\"none\"/>\n",
              "    <path d=\"M18.56 5.44l.94 2.06.94-2.06 2.06-.94-2.06-.94-.94-2.06-.94 2.06-2.06.94zm-11 1L8.5 8.5l.94-2.06 2.06-.94-2.06-.94L8.5 2.5l-.94 2.06-2.06.94zm10 10l.94 2.06.94-2.06 2.06-.94-2.06-.94-.94-2.06-.94 2.06-2.06.94z\"/><path d=\"M17.41 7.96l-1.37-1.37c-.4-.4-.92-.59-1.43-.59-.52 0-1.04.2-1.43.59L10.3 9.45l-7.72 7.72c-.78.78-.78 2.05 0 2.83L4 21.41c.39.39.9.59 1.41.59.51 0 1.02-.2 1.41-.59l7.78-7.78 2.81-2.81c.8-.78.8-2.07 0-2.86zM5.41 20L4 18.59l7.72-7.72 1.47 1.35L5.41 20z\"/>\n",
              "  </svg>\n",
              "      </button>\n",
              "      \n",
              "  <style>\n",
              "    .colab-df-container {\n",
              "      display:flex;\n",
              "      flex-wrap:wrap;\n",
              "      gap: 12px;\n",
              "    }\n",
              "\n",
              "    .colab-df-convert {\n",
              "      background-color: #E8F0FE;\n",
              "      border: none;\n",
              "      border-radius: 50%;\n",
              "      cursor: pointer;\n",
              "      display: none;\n",
              "      fill: #1967D2;\n",
              "      height: 32px;\n",
              "      padding: 0 0 0 0;\n",
              "      width: 32px;\n",
              "    }\n",
              "\n",
              "    .colab-df-convert:hover {\n",
              "      background-color: #E2EBFA;\n",
              "      box-shadow: 0px 1px 2px rgba(60, 64, 67, 0.3), 0px 1px 3px 1px rgba(60, 64, 67, 0.15);\n",
              "      fill: #174EA6;\n",
              "    }\n",
              "\n",
              "    [theme=dark] .colab-df-convert {\n",
              "      background-color: #3B4455;\n",
              "      fill: #D2E3FC;\n",
              "    }\n",
              "\n",
              "    [theme=dark] .colab-df-convert:hover {\n",
              "      background-color: #434B5C;\n",
              "      box-shadow: 0px 1px 3px 1px rgba(0, 0, 0, 0.15);\n",
              "      filter: drop-shadow(0px 1px 2px rgba(0, 0, 0, 0.3));\n",
              "      fill: #FFFFFF;\n",
              "    }\n",
              "  </style>\n",
              "\n",
              "      <script>\n",
              "        const buttonEl =\n",
              "          document.querySelector('#df-b47c72b5-4c2e-4b6d-9309-0cdaf6868d79 button.colab-df-convert');\n",
              "        buttonEl.style.display =\n",
              "          google.colab.kernel.accessAllowed ? 'block' : 'none';\n",
              "\n",
              "        async function convertToInteractive(key) {\n",
              "          const element = document.querySelector('#df-b47c72b5-4c2e-4b6d-9309-0cdaf6868d79');\n",
              "          const dataTable =\n",
              "            await google.colab.kernel.invokeFunction('convertToInteractive',\n",
              "                                                     [key], {});\n",
              "          if (!dataTable) return;\n",
              "\n",
              "          const docLinkHtml = 'Like what you see? Visit the ' +\n",
              "            '<a target=\"_blank\" href=https://colab.research.google.com/notebooks/data_table.ipynb>data table notebook</a>'\n",
              "            + ' to learn more about interactive tables.';\n",
              "          element.innerHTML = '';\n",
              "          dataTable['output_type'] = 'display_data';\n",
              "          await google.colab.output.renderOutput(dataTable, element);\n",
              "          const docLink = document.createElement('div');\n",
              "          docLink.innerHTML = docLinkHtml;\n",
              "          element.appendChild(docLink);\n",
              "        }\n",
              "      </script>\n",
              "    </div>\n",
              "  </div>\n",
              "  "
            ]
          },
          "metadata": {},
          "execution_count": 54
        }
      ],
      "source": [
        "#melakukan kombinasi kolom antara number column dan categorical column\n",
        "df_features = df[num_col+cat_col] \n",
        "df_features"
      ]
    },
    {
      "cell_type": "markdown",
      "metadata": {
        "id": "bqMLCvxjTK-g"
      },
      "source": [
        "#6.PREPROCESSING"
      ]
    },
    {
      "cell_type": "markdown",
      "metadata": {
        "id": "fjzGzVc5anKq"
      },
      "source": [
        "- Datanya kita split menjadi Traning dan Test. Training set di gunakan untuk melatih model sedangkan test set digunakan untuk mengevaluasi performance  model yang sudah di trained.\n",
        "\n",
        "- default_payment_next_month kita drop karena kita akan memprediksi hasil kolom tersebut"
      ]
    },
    {
      "cell_type": "code",
      "execution_count": null,
      "metadata": {
        "id": "J9tp6Ip8Sdj6"
      },
      "outputs": [],
      "source": [
        "# Melakukan Split Data menjadi Test dan Train\n",
        "X = df_features.drop('default_payment_next_month', axis=1)\n",
        "y = df_features['default_payment_next_month']\n",
        "\n",
        "X_train, X_test, y_train, y_test = train_test_split(X, y, test_size=0.3, random_state=0,stratify=y)"
      ]
    },
    {
      "cell_type": "markdown",
      "metadata": {
        "id": "IfgoZCYUcPQz"
      },
      "source": [
        "- Membuat df_eda hasil dari concat X_train dan y train untuk dilakukan proses training lalu mengecek jumlah kolom dan rows untuk memastikan jumlah data"
      ]
    },
    {
      "cell_type": "code",
      "execution_count": null,
      "metadata": {
        "colab": {
          "base_uri": "https://localhost:8080/"
        },
        "id": "jbFwLFWEUaVE",
        "outputId": "77031e39-b03a-4e30-b1cb-e3abfc6d19d6"
      },
      "outputs": [
        {
          "output_type": "execute_result",
          "data": {
            "text/plain": [
              "(2074, 17)"
            ]
          },
          "metadata": {},
          "execution_count": 56
        }
      ],
      "source": [
        "# for EDA model creation we will use dataframe stored in df_eda\n",
        "df_eda = pd.concat([X_train, y_train], axis=1)\n",
        "\n",
        "df_eda.shape"
      ]
    },
    {
      "cell_type": "markdown",
      "metadata": {
        "id": "XRi0Fw3vcpQk"
      },
      "source": [
        "Mengecek isi data pada kolom fitur"
      ]
    },
    {
      "cell_type": "code",
      "execution_count": null,
      "metadata": {
        "colab": {
          "base_uri": "https://localhost:8080/",
          "height": 270
        },
        "id": "WSemIGBsVn62",
        "outputId": "3388bec9-9240-4782-b8ed-418270c3a29f"
      },
      "outputs": [
        {
          "output_type": "execute_result",
          "data": {
            "text/plain": [
              "      pay_0  pay_2  pay_6  pay_3  pay_4  pay_5  limit_balance  bill_amt_4  \\\n",
              "2658   -1.0   -1.0   -2.0   -2.0   -2.0   -2.0       320000.0      2621.0   \n",
              "877     0.0    0.0    0.0    0.0    0.0    0.0       140000.0     57609.0   \n",
              "1061    1.0    2.0    0.0    0.0    0.0    0.0       150000.0    129115.0   \n",
              "1015    2.0    2.0    0.0    0.0    0.0    0.0        20000.0     19459.0   \n",
              "2113    3.0    2.0   -1.0    2.0    0.0   -1.0        30000.0      1630.0   \n",
              "\n",
              "       age  bill_amt_2  pay_amt_4  pay_amt_1  pay_amt_5  bill_amt_5  \\\n",
              "2658  44.0     28785.0     9075.0    28791.0     6564.0      9075.0   \n",
              "877   32.0     99470.0     3000.0     5000.0     2500.0     59526.0   \n",
              "1061  32.0    124835.0     3557.0        0.0     5929.0    131820.0   \n",
              "1015  45.0     20043.0     3000.0       11.0     1203.0     36290.0   \n",
              "2113  42.0      3048.0    12037.0     1000.0     1100.0     12037.0   \n",
              "\n",
              "      education_level  marital_status  default_payment_next_month  \n",
              "2658                2               2                           0  \n",
              "877                 2               2                           0  \n",
              "1061                2               2                           1  \n",
              "1015                2               1                           1  \n",
              "2113                2               2                           1  "
            ],
            "text/html": [
              "\n",
              "  <div id=\"df-60078db4-64d7-4712-9d5c-759de0cb9ac0\">\n",
              "    <div class=\"colab-df-container\">\n",
              "      <div>\n",
              "<style scoped>\n",
              "    .dataframe tbody tr th:only-of-type {\n",
              "        vertical-align: middle;\n",
              "    }\n",
              "\n",
              "    .dataframe tbody tr th {\n",
              "        vertical-align: top;\n",
              "    }\n",
              "\n",
              "    .dataframe thead th {\n",
              "        text-align: right;\n",
              "    }\n",
              "</style>\n",
              "<table border=\"1\" class=\"dataframe\">\n",
              "  <thead>\n",
              "    <tr style=\"text-align: right;\">\n",
              "      <th></th>\n",
              "      <th>pay_0</th>\n",
              "      <th>pay_2</th>\n",
              "      <th>pay_6</th>\n",
              "      <th>pay_3</th>\n",
              "      <th>pay_4</th>\n",
              "      <th>pay_5</th>\n",
              "      <th>limit_balance</th>\n",
              "      <th>bill_amt_4</th>\n",
              "      <th>age</th>\n",
              "      <th>bill_amt_2</th>\n",
              "      <th>pay_amt_4</th>\n",
              "      <th>pay_amt_1</th>\n",
              "      <th>pay_amt_5</th>\n",
              "      <th>bill_amt_5</th>\n",
              "      <th>education_level</th>\n",
              "      <th>marital_status</th>\n",
              "      <th>default_payment_next_month</th>\n",
              "    </tr>\n",
              "  </thead>\n",
              "  <tbody>\n",
              "    <tr>\n",
              "      <th>2658</th>\n",
              "      <td>-1.0</td>\n",
              "      <td>-1.0</td>\n",
              "      <td>-2.0</td>\n",
              "      <td>-2.0</td>\n",
              "      <td>-2.0</td>\n",
              "      <td>-2.0</td>\n",
              "      <td>320000.0</td>\n",
              "      <td>2621.0</td>\n",
              "      <td>44.0</td>\n",
              "      <td>28785.0</td>\n",
              "      <td>9075.0</td>\n",
              "      <td>28791.0</td>\n",
              "      <td>6564.0</td>\n",
              "      <td>9075.0</td>\n",
              "      <td>2</td>\n",
              "      <td>2</td>\n",
              "      <td>0</td>\n",
              "    </tr>\n",
              "    <tr>\n",
              "      <th>877</th>\n",
              "      <td>0.0</td>\n",
              "      <td>0.0</td>\n",
              "      <td>0.0</td>\n",
              "      <td>0.0</td>\n",
              "      <td>0.0</td>\n",
              "      <td>0.0</td>\n",
              "      <td>140000.0</td>\n",
              "      <td>57609.0</td>\n",
              "      <td>32.0</td>\n",
              "      <td>99470.0</td>\n",
              "      <td>3000.0</td>\n",
              "      <td>5000.0</td>\n",
              "      <td>2500.0</td>\n",
              "      <td>59526.0</td>\n",
              "      <td>2</td>\n",
              "      <td>2</td>\n",
              "      <td>0</td>\n",
              "    </tr>\n",
              "    <tr>\n",
              "      <th>1061</th>\n",
              "      <td>1.0</td>\n",
              "      <td>2.0</td>\n",
              "      <td>0.0</td>\n",
              "      <td>0.0</td>\n",
              "      <td>0.0</td>\n",
              "      <td>0.0</td>\n",
              "      <td>150000.0</td>\n",
              "      <td>129115.0</td>\n",
              "      <td>32.0</td>\n",
              "      <td>124835.0</td>\n",
              "      <td>3557.0</td>\n",
              "      <td>0.0</td>\n",
              "      <td>5929.0</td>\n",
              "      <td>131820.0</td>\n",
              "      <td>2</td>\n",
              "      <td>2</td>\n",
              "      <td>1</td>\n",
              "    </tr>\n",
              "    <tr>\n",
              "      <th>1015</th>\n",
              "      <td>2.0</td>\n",
              "      <td>2.0</td>\n",
              "      <td>0.0</td>\n",
              "      <td>0.0</td>\n",
              "      <td>0.0</td>\n",
              "      <td>0.0</td>\n",
              "      <td>20000.0</td>\n",
              "      <td>19459.0</td>\n",
              "      <td>45.0</td>\n",
              "      <td>20043.0</td>\n",
              "      <td>3000.0</td>\n",
              "      <td>11.0</td>\n",
              "      <td>1203.0</td>\n",
              "      <td>36290.0</td>\n",
              "      <td>2</td>\n",
              "      <td>1</td>\n",
              "      <td>1</td>\n",
              "    </tr>\n",
              "    <tr>\n",
              "      <th>2113</th>\n",
              "      <td>3.0</td>\n",
              "      <td>2.0</td>\n",
              "      <td>-1.0</td>\n",
              "      <td>2.0</td>\n",
              "      <td>0.0</td>\n",
              "      <td>-1.0</td>\n",
              "      <td>30000.0</td>\n",
              "      <td>1630.0</td>\n",
              "      <td>42.0</td>\n",
              "      <td>3048.0</td>\n",
              "      <td>12037.0</td>\n",
              "      <td>1000.0</td>\n",
              "      <td>1100.0</td>\n",
              "      <td>12037.0</td>\n",
              "      <td>2</td>\n",
              "      <td>2</td>\n",
              "      <td>1</td>\n",
              "    </tr>\n",
              "  </tbody>\n",
              "</table>\n",
              "</div>\n",
              "      <button class=\"colab-df-convert\" onclick=\"convertToInteractive('df-60078db4-64d7-4712-9d5c-759de0cb9ac0')\"\n",
              "              title=\"Convert this dataframe to an interactive table.\"\n",
              "              style=\"display:none;\">\n",
              "        \n",
              "  <svg xmlns=\"http://www.w3.org/2000/svg\" height=\"24px\"viewBox=\"0 0 24 24\"\n",
              "       width=\"24px\">\n",
              "    <path d=\"M0 0h24v24H0V0z\" fill=\"none\"/>\n",
              "    <path d=\"M18.56 5.44l.94 2.06.94-2.06 2.06-.94-2.06-.94-.94-2.06-.94 2.06-2.06.94zm-11 1L8.5 8.5l.94-2.06 2.06-.94-2.06-.94L8.5 2.5l-.94 2.06-2.06.94zm10 10l.94 2.06.94-2.06 2.06-.94-2.06-.94-.94-2.06-.94 2.06-2.06.94z\"/><path d=\"M17.41 7.96l-1.37-1.37c-.4-.4-.92-.59-1.43-.59-.52 0-1.04.2-1.43.59L10.3 9.45l-7.72 7.72c-.78.78-.78 2.05 0 2.83L4 21.41c.39.39.9.59 1.41.59.51 0 1.02-.2 1.41-.59l7.78-7.78 2.81-2.81c.8-.78.8-2.07 0-2.86zM5.41 20L4 18.59l7.72-7.72 1.47 1.35L5.41 20z\"/>\n",
              "  </svg>\n",
              "      </button>\n",
              "      \n",
              "  <style>\n",
              "    .colab-df-container {\n",
              "      display:flex;\n",
              "      flex-wrap:wrap;\n",
              "      gap: 12px;\n",
              "    }\n",
              "\n",
              "    .colab-df-convert {\n",
              "      background-color: #E8F0FE;\n",
              "      border: none;\n",
              "      border-radius: 50%;\n",
              "      cursor: pointer;\n",
              "      display: none;\n",
              "      fill: #1967D2;\n",
              "      height: 32px;\n",
              "      padding: 0 0 0 0;\n",
              "      width: 32px;\n",
              "    }\n",
              "\n",
              "    .colab-df-convert:hover {\n",
              "      background-color: #E2EBFA;\n",
              "      box-shadow: 0px 1px 2px rgba(60, 64, 67, 0.3), 0px 1px 3px 1px rgba(60, 64, 67, 0.15);\n",
              "      fill: #174EA6;\n",
              "    }\n",
              "\n",
              "    [theme=dark] .colab-df-convert {\n",
              "      background-color: #3B4455;\n",
              "      fill: #D2E3FC;\n",
              "    }\n",
              "\n",
              "    [theme=dark] .colab-df-convert:hover {\n",
              "      background-color: #434B5C;\n",
              "      box-shadow: 0px 1px 3px 1px rgba(0, 0, 0, 0.15);\n",
              "      filter: drop-shadow(0px 1px 2px rgba(0, 0, 0, 0.3));\n",
              "      fill: #FFFFFF;\n",
              "    }\n",
              "  </style>\n",
              "\n",
              "      <script>\n",
              "        const buttonEl =\n",
              "          document.querySelector('#df-60078db4-64d7-4712-9d5c-759de0cb9ac0 button.colab-df-convert');\n",
              "        buttonEl.style.display =\n",
              "          google.colab.kernel.accessAllowed ? 'block' : 'none';\n",
              "\n",
              "        async function convertToInteractive(key) {\n",
              "          const element = document.querySelector('#df-60078db4-64d7-4712-9d5c-759de0cb9ac0');\n",
              "          const dataTable =\n",
              "            await google.colab.kernel.invokeFunction('convertToInteractive',\n",
              "                                                     [key], {});\n",
              "          if (!dataTable) return;\n",
              "\n",
              "          const docLinkHtml = 'Like what you see? Visit the ' +\n",
              "            '<a target=\"_blank\" href=https://colab.research.google.com/notebooks/data_table.ipynb>data table notebook</a>'\n",
              "            + ' to learn more about interactive tables.';\n",
              "          element.innerHTML = '';\n",
              "          dataTable['output_type'] = 'display_data';\n",
              "          await google.colab.output.renderOutput(dataTable, element);\n",
              "          const docLink = document.createElement('div');\n",
              "          docLink.innerHTML = docLinkHtml;\n",
              "          element.appendChild(docLink);\n",
              "        }\n",
              "      </script>\n",
              "    </div>\n",
              "  </div>\n",
              "  "
            ]
          },
          "metadata": {},
          "execution_count": 57
        }
      ],
      "source": [
        "#cek dataframe\n",
        "df_eda.head(5)"
      ]
    },
    {
      "cell_type": "code",
      "execution_count": null,
      "metadata": {
        "colab": {
          "base_uri": "https://localhost:8080/"
        },
        "id": "tM8yiZUNV6o2",
        "outputId": "86f6e16e-092d-4d82-9d6b-65be94463abd"
      },
      "outputs": [
        {
          "output_type": "stream",
          "name": "stdout",
          "text": [
            "(2074, 16)\n",
            "(890, 16)\n",
            "(2074,)\n",
            "(890,)\n"
          ]
        }
      ],
      "source": [
        "#mengecek nilai rows dan kolom\n",
        "for i in [X_train, X_test, y_train, y_test]:\n",
        "    print(i.shape)"
      ]
    },
    {
      "cell_type": "code",
      "execution_count": null,
      "metadata": {
        "id": "q7WmNXDiWC_N"
      },
      "outputs": [],
      "source": [
        "#mengecek nilai skewness dan kurtosis untuk mendeteksi outlier\n",
        "def plot_dist(df, col):\n",
        "    fig, axes = plt.subplots(ncols = 2, figsize = (15, 5))\n",
        "    \n",
        "    # histogram\n",
        "    sns.histplot(df[col],ax = axes[0], bins=30)\n",
        "    axes[0].set_title(f\"Histogram '{col}'\")\n",
        "    axes[0].axvline(df[col].mean(), color = 'red', linestyle = 'dashed', label = 'mean')\n",
        "    axes[0].axvline(df[col].median(), color = 'green', linestyle = 'dashed', label = 'median')\n",
        "    axes[0].legend()\n",
        "    \n",
        "    # boxplot\n",
        "    sns.boxplot(y=df[col], ax =  axes[1])\n",
        "    axes[1].set_title(f\"Boxplot '{col}'\")\n",
        "    \n",
        "    plt.show()\n",
        "    \n",
        "    # skewness\n",
        "    print(df[col].name + ' Kurtosis: ' + str(df[col].kurt()))\n",
        "    print(df[col].name + ' Skewness: ' + str(df[col].skew()))\n",
        "    if -0.5 <= df[col].skew() <= 0.5:\n",
        "        print(\"Columns '{}' normal distribution\".format(col))\n",
        "    elif df[col].skew() > 0.5 and df[col].skew() <= 1 :\n",
        "        print(\"Columns '{}' right moderately skewed\".format(col))\n",
        "    elif df[col].skew() > 1:\n",
        "        print(\"Columns '{}' right highly skewed\".format(col))\n",
        "    elif df[col].skew() < -0.5 and df[col].skew() >= -1 :\n",
        "        print(\"Columns '{}' left moderately skewed\".format(col))\n",
        "    elif df[col].skew() < -1:\n",
        "        print(\"Columns '{}' left highly skewed\".format(col))"
      ]
    },
    {
      "cell_type": "code",
      "execution_count": null,
      "metadata": {
        "colab": {
          "base_uri": "https://localhost:8080/",
          "height": 789
        },
        "id": "MSR1h86BWJS_",
        "outputId": "c545eeaf-ec4c-43bb-d6c3-534108e29542"
      },
      "outputs": [
        {
          "output_type": "display_data",
          "data": {
            "text/plain": [
              "<Figure size 1080x360 with 2 Axes>"
            ],
            "image/png": "[encoded data removed]"
          },
          "metadata": {
            "needs_background": "light"
          }
        },
        {
          "output_type": "stream",
          "name": "stdout",
          "text": [
            "pay_0 Kurtosis: 4.252201332363641\n",
            "pay_0 Skewness: 0.9226888262130895\n",
            "Columns 'pay_0' right moderately skewed\n"
          ]
        },
        {
          "output_type": "display_data",
          "data": {
            "text/plain": [
              "<Figure size 1080x360 with 2 Axes>"
            ],
            "image/png": "[encoded data removed]"
          },
          "metadata": {
            "needs_background": "light"
          }
        },
        {
          "output_type": "stream",
          "name": "stdout",
          "text": [
            "pay_2 Kurtosis: 2.1355054574235854\n",
            "pay_2 Skewness: 0.8468737984662285\n",
            "Columns 'pay_2' right moderately skewed\n"
          ]
        }
      ],
      "source": [
        "#grafik outlier\n",
        "for i in [0,1]:\n",
        "  plot_dist(X_train,feature[i])"
      ]
    },
    {
      "cell_type": "markdown",
      "metadata": {
        "id": "OJpVfDsoduyF"
      },
      "source": [
        "Melakukan deteksi Outlier menggunakan IQR karena distribusi data atau nilai skewness tidak normal batasan normal nilai skewness adalah -0.5 sampai 0.5"
      ]
    },
    {
      "cell_type": "code",
      "execution_count": null,
      "metadata": {
        "colab": {
          "base_uri": "https://localhost:8080/"
        },
        "id": "SIBxIvY9WbyH",
        "outputId": "a3ba34ce-439a-4369-e535-e66a92c241e3"
      },
      "outputs": [
        {
          "output_type": "stream",
          "name": "stdout",
          "text": [
            "count of outlier:  205\n",
            "percentage of outlier:  9.884281581485054 %\n"
          ]
        }
      ],
      "source": [
        "# deteksi outlier dengan IQR\n",
        "Q3 = X_train['pay_0'].quantile(.75)\n",
        "Q1 = X_train['pay_0'].quantile(.25)\n",
        "\n",
        "IQR = Q3 - Q1\n",
        "\n",
        "upper = Q3 + (1.5 * IQR)\n",
        "lower = Q1 - (1.5 * IQR)\n",
        "\n",
        "outlier = X_train[(X_train['pay_0'] > upper) | (X_train['pay_0'] < lower)]\n",
        "\n",
        "print('count of outlier: ', outlier.shape[0])\n",
        "\n",
        "print('percentage of outlier: ', outlier.shape[0]/X_train.shape[0] * 100, '%')"
      ]
    },
    {
      "cell_type": "code",
      "execution_count": null,
      "metadata": {
        "colab": {
          "base_uri": "https://localhost:8080/"
        },
        "id": "qwBeB3ACXj7L",
        "outputId": "36d6ca02-a01d-4997-e28b-1bb1e9476208"
      },
      "outputs": [
        {
          "output_type": "stream",
          "name": "stdout",
          "text": [
            "count of outlier:  291\n",
            "percentage of outlier:  14.030858244937319 %\n"
          ]
        }
      ],
      "source": [
        "# deteksi outlier dengan IQR\n",
        "Q3 = X_train['pay_2'].quantile(.75)\n",
        "Q1 = X_train['pay_2'].quantile(.25)\n",
        "\n",
        "IQR = Q3 - Q1\n",
        "\n",
        "upper = Q3 + (1.5 * IQR)\n",
        "lower = Q1 - (1.5 * IQR)\n",
        "\n",
        "outlier = X_train[(X_train['pay_2'] > upper) | (X_train['pay_2'] < lower)]\n",
        "\n",
        "print('count of outlier: ', outlier.shape[0])\n",
        "print('percentage of outlier: ', outlier.shape[0]/X_train.shape[0] * 100, '%')"
      ]
    },
    {
      "cell_type": "markdown",
      "metadata": {
        "id": "CSAJUNIJe8RM"
      },
      "source": [
        "- Hasil jumlah nilai outlier cukup banyak saya rasa tidak baik kalau kita trim karena datanya sudah terlalu sedikit maka dari itu saya memutuskan untuk melakukan winsorizer."
      ]
    },
    {
      "cell_type": "code",
      "execution_count": null,
      "metadata": {
        "colab": {
          "base_uri": "https://localhost:8080/"
        },
        "id": "6VXeAnk5Yb-S",
        "outputId": "84f5b082-6df7-4c09-e665-3a941364bec0"
      },
      "outputs": [
        {
          "output_type": "stream",
          "name": "stdout",
          "text": [
            "Looking in indexes: https://pypi.org/simple, https://us-python.pkg.dev/colab-wheels/public/simple/\n",
            "Collecting feature_engine\n",
            "  Downloading feature_engine-1.5.2-py2.py3-none-any.whl (290 kB)\n",
            "\u001b[2K     \u001b[90m━━━━━━━━━━━━━━━━━━━━━━━━━━━━━━━━━━━━━━━\u001b[0m \u001b[32m290.0/290.0 KB\u001b[0m \u001b[31m9.6 MB/s\u001b[0m eta \u001b[36m0:00:00\u001b[0m\n",
            "\u001b[?25hRequirement already satisfied: numpy>=1.18.2 in /usr/local/lib/python3.9/dist-packages (from feature_engine) (1.22.4)\n",
            "Requirement already satisfied: pandas>=1.0.3 in /usr/local/lib/python3.9/dist-packages (from feature_engine) (1.3.5)\n",
            "Requirement already satisfied: scikit-learn>=1.0.0 in /usr/local/lib/python3.9/dist-packages (from feature_engine) (1.2.1)\n",
            "Requirement already satisfied: scipy>=1.4.1 in /usr/local/lib/python3.9/dist-packages (from feature_engine) (1.10.1)\n",
            "Requirement already satisfied: statsmodels>=0.11.1 in /usr/local/lib/python3.9/dist-packages (from feature_engine) (0.13.5)\n",
            "Requirement already satisfied: pytz>=2017.3 in /usr/local/lib/python3.9/dist-packages (from pandas>=1.0.3->feature_engine) (2022.7.1)\n",
            "Requirement already satisfied: python-dateutil>=2.7.3 in /usr/local/lib/python3.9/dist-packages (from pandas>=1.0.3->feature_engine) (2.8.2)\n",
            "Requirement already satisfied: threadpoolctl>=2.0.0 in /usr/local/lib/python3.9/dist-packages (from scikit-learn>=1.0.0->feature_engine) (3.1.0)\n",
            "Requirement already satisfied: joblib>=1.1.1 in /usr/local/lib/python3.9/dist-packages (from scikit-learn>=1.0.0->feature_engine) (1.2.0)\n",
            "Requirement already satisfied: packaging>=21.3 in /usr/local/lib/python3.9/dist-packages (from statsmodels>=0.11.1->feature_engine) (23.0)\n",
            "Requirement already satisfied: patsy>=0.5.2 in /usr/local/lib/python3.9/dist-packages (from statsmodels>=0.11.1->feature_engine) (0.5.3)\n",
            "Requirement already satisfied: six in /usr/local/lib/python3.9/dist-packages (from patsy>=0.5.2->statsmodels>=0.11.1->feature_engine) (1.15.0)\n",
            "Installing collected packages: feature_engine\n",
            "Successfully installed feature_engine-1.5.2\n"
          ]
        }
      ],
      "source": [
        "#install pip untuk wisorizor\n",
        "!pip install feature_engine\n",
        "from feature_engine.outliers import Winsorizer"
      ]
    },
    {
      "cell_type": "code",
      "execution_count": null,
      "metadata": {
        "id": "7m3hVc7Wg6IA"
      },
      "outputs": [],
      "source": [
        "#Melakukan Winsorizer pada kolom pay_2\n",
        "wins = Winsorizer(capping_method='iqr', tail='both', fold=1.5, variables=['pay_2'])\n",
        "\n",
        "X_train = wins.fit_transform(df_eda)"
      ]
    },
    {
      "cell_type": "code",
      "execution_count": null,
      "metadata": {
        "colab": {
          "base_uri": "https://localhost:8080/",
          "height": 217
        },
        "id": "OOjgM_gRpPcA",
        "outputId": "596fab67-1c63-42bf-bfb9-96f8aa260af3"
      },
      "outputs": [
        {
          "output_type": "error",
          "ename": "NameError",
          "evalue": "ignored",
          "traceback": [
            "\u001b[0;31m---------------------------------------------------------------------------\u001b[0m",
            "\u001b[0;31mNameError\u001b[0m                                 Traceback (most recent call last)",
            "\u001b[0;32m<ipython-input-66-05957d245f98>\u001b[0m in \u001b[0;36m<module>\u001b[0;34m\u001b[0m\n\u001b[1;32m      1\u001b[0m \u001b[0mwins\u001b[0m \u001b[0;34m=\u001b[0m \u001b[0mWinsorizer\u001b[0m\u001b[0;34m(\u001b[0m\u001b[0mcapping_method\u001b[0m\u001b[0;34m=\u001b[0m\u001b[0;34m'iqr'\u001b[0m\u001b[0;34m,\u001b[0m \u001b[0mtail\u001b[0m\u001b[0;34m=\u001b[0m\u001b[0;34m'both'\u001b[0m\u001b[0;34m,\u001b[0m \u001b[0mfold\u001b[0m\u001b[0;34m=\u001b[0m\u001b[0;36m3\u001b[0m\u001b[0;34m,\u001b[0m \u001b[0mvariables\u001b[0m\u001b[0;34m=\u001b[0m\u001b[0;34m[\u001b[0m\u001b[0;34m'Temprature'\u001b[0m\u001b[0;34m]\u001b[0m\u001b[0;34m)\u001b[0m\u001b[0;34m\u001b[0m\u001b[0;34m\u001b[0m\u001b[0m\n\u001b[1;32m      2\u001b[0m \u001b[0;34m\u001b[0m\u001b[0m\n\u001b[0;32m----> 3\u001b[0;31m \u001b[0mX_train_eda\u001b[0m \u001b[0;34m=\u001b[0m \u001b[0mwins\u001b[0m\u001b[0;34m.\u001b[0m\u001b[0mfit_transform\u001b[0m\u001b[0;34m(\u001b[0m\u001b[0mX_train_eda\u001b[0m\u001b[0;34m)\u001b[0m\u001b[0;34m\u001b[0m\u001b[0;34m\u001b[0m\u001b[0m\n\u001b[0m\u001b[1;32m      4\u001b[0m \u001b[0mX_train_eda\u001b[0m\u001b[0;34m.\u001b[0m\u001b[0mdescribe\u001b[0m\u001b[0;34m(\u001b[0m\u001b[0;34m)\u001b[0m\u001b[0;34m\u001b[0m\u001b[0;34m\u001b[0m\u001b[0m\n",
            "\u001b[0;31mNameError\u001b[0m: name 'X_train_eda' is not defined"
          ]
        }
      ],
      "source": [
        "wins = Winsorizer(capping_method='iqr', tail='both', fold=3, variables=['Temprature'])\n",
        "\n",
        "X_train = wins.fit_transform(X_train_eda)\n",
        "X_train_eda.describe()"
      ]
    },
    {
      "cell_type": "code",
      "execution_count": null,
      "metadata": {
        "id": "iW9SGaa2hFQP"
      },
      "outputs": [],
      "source": [
        "#Melakukan Winsorizer pada kolom pay_0\n",
        "wins = Winsorizer(capping_method='iqr', tail='both', fold=1.5, variables=['pay_0'])\n",
        "\n",
        "X_train = wins.fit_transform(df_eda)"
      ]
    },
    {
      "cell_type": "markdown",
      "metadata": {
        "id": "Q17oJZ-0eCmW"
      },
      "source": [
        "##**6.1.NUMERICAL FEATURE**"
      ]
    },
    {
      "cell_type": "code",
      "execution_count": null,
      "metadata": {
        "id": "a7b0Q59-eBu1"
      },
      "outputs": [],
      "source": [
        "#Mengetahui kolom numerik fitur\n",
        "df_eda[num_col].head()"
      ]
    },
    {
      "cell_type": "code",
      "execution_count": null,
      "metadata": {
        "id": "hiZCXmjMeZpM"
      },
      "outputs": [],
      "source": [
        "#mengecek kolom numerical\n",
        "num_col"
      ]
    },
    {
      "cell_type": "code",
      "execution_count": null,
      "metadata": {
        "id": "bTwnxOIbegF_"
      },
      "outputs": [],
      "source": [
        "#melakukan MinMaxscaler()\n",
        "mm_scaler= MinMaxScaler()\n",
        "X_train_scaler= mm_scaler.fit_transform(X_train[num_col])\n",
        "X_train_scaler"
      ]
    },
    {
      "cell_type": "code",
      "execution_count": null,
      "metadata": {
        "id": "fFuyUG4sejoO"
      },
      "outputs": [],
      "source": [
        "#mengecek jumlah kolom dan row\n",
        "X_train.shape"
      ]
    },
    {
      "cell_type": "code",
      "execution_count": null,
      "metadata": {
        "id": "ZJs4AvLFe3en"
      },
      "outputs": [],
      "source": [
        "# melakukan proses scaling pada kolom numerik x test fit \n",
        "X_test_scaler= mm_scaler.transform(X_test[num_col])\n",
        "X_test_scaler"
      ]
    },
    {
      "cell_type": "markdown",
      "metadata": {
        "id": "BVzpoHInhXy-"
      },
      "source": [
        "##**6.2.CATEGORICAL FEATURE**"
      ]
    },
    {
      "cell_type": "markdown",
      "metadata": {
        "id": "tHD86zknhdVj"
      },
      "source": [
        "- Melakukan perubahan data kaegorik menjadi nilai angka dari string menjadi number supaya dapat dibaca dilakukan skala."
      ]
    },
    {
      "cell_type": "code",
      "execution_count": null,
      "metadata": {
        "id": "Wc1Z2dIIhXGf"
      },
      "outputs": [],
      "source": [
        "X_train"
      ]
    },
    {
      "cell_type": "code",
      "execution_count": null,
      "metadata": {
        "id": "EFr-7dFjhk7i"
      },
      "outputs": [],
      "source": [
        "#mengecek kolom kategorikal\n",
        "cat_col"
      ]
    },
    {
      "cell_type": "markdown",
      "metadata": {
        "id": "EMQCQPE-LBdC"
      },
      "source": [
        "- Terdapat 2 jenis tipe kategorikal pada data ordinal dan nominal\n",
        "\n",
        "- Tipe Ordinal ada di fitur educational level isi datanya sudah ordinal maka  dari itu tidak perlu saya encode\n",
        "\n",
        "- Tipe Nominal ada di fitur marital_status isi datanya akan saya encode menggunaka One Hot Encoder\n",
        "\n"
      ]
    },
    {
      "cell_type": "markdown",
      "metadata": {
        "id": "7zs6sIgUCsnq"
      },
      "source": [
        "Fitur Education_level adalah Kolom Kategorical Ordinal"
      ]
    },
    {
      "cell_type": "code",
      "execution_count": null,
      "metadata": {
        "id": "gBKExDJ4CPxn"
      },
      "outputs": [],
      "source": [
        "cat_col_ord = ['education_level']\n"
      ]
    },
    {
      "cell_type": "markdown",
      "metadata": {
        "id": "UkQFz9qxC264"
      },
      "source": [
        "Fitur Marital_Status adalah Kolom Kategorical Nominal"
      ]
    },
    {
      "cell_type": "code",
      "execution_count": null,
      "metadata": {
        "id": "MfEwcnciCYqc"
      },
      "outputs": [],
      "source": [
        "cat_col_ohe = ['marital_status']"
      ]
    },
    {
      "cell_type": "code",
      "execution_count": null,
      "metadata": {
        "id": "h6mqFVx3hlHk"
      },
      "outputs": [],
      "source": [
        "#remove kolom income bracket karena tidak dibutuhkan\n",
        "cat_col.remove('default_payment_next_month')"
      ]
    },
    {
      "cell_type": "code",
      "execution_count": null,
      "metadata": {
        "id": "jAY128hxD0CG"
      },
      "outputs": [],
      "source": [
        "#Merubah data ordinal menjadi 1 dimensi array\n",
        "X_train_ord = np.array([X_train['education_level']]).T\n",
        "X_test_ord = np.array([X_test['education_level']]).T"
      ]
    },
    {
      "cell_type": "code",
      "execution_count": null,
      "metadata": {
        "id": "hDQkx0eEE04Q"
      },
      "outputs": [],
      "source": [
        "X_test_ord"
      ]
    },
    {
      "cell_type": "code",
      "execution_count": null,
      "metadata": {
        "id": "HgwZeRy6GDcP"
      },
      "outputs": [],
      "source": [
        "#cek kolom dan rows data X_train_ord\n",
        "X_train_ord.shape"
      ]
    },
    {
      "cell_type": "code",
      "execution_count": null,
      "metadata": {
        "id": "OZ8OGVSGhy_N"
      },
      "outputs": [],
      "source": [
        "#melakukan perubahan data kategorical tipe nominal pada kolom kategorikal menggunakan One Hot Encoding pada data X_train\n",
        "enc= OneHotEncoder(sparse=False, handle_unknown='ignore')\n",
        "X_train_encode= enc.fit_transform(X_train[cat_col_ohe])\n",
        "X_train_encode"
      ]
    },
    {
      "cell_type": "code",
      "execution_count": null,
      "metadata": {
        "id": "1tgzZHEWh4i-"
      },
      "outputs": [],
      "source": [
        "#melakukan perubahan data kategorical tipe nominal pada kolom kategorikal menggunakan One Hot Encoding pada data X_test\n",
        "X_test_encode= enc.transform(X_test[cat_col_ohe])\n",
        "X_test_encode"
      ]
    },
    {
      "cell_type": "markdown",
      "metadata": {
        "id": "dargPJKYiJOx"
      },
      "source": [
        "#7.MODEL DEFINITION"
      ]
    },
    {
      "cell_type": "code",
      "execution_count": null,
      "metadata": {
        "id": "VW64id1oiP8e"
      },
      "outputs": [],
      "source": [
        "#Melakukan kombinasi di xtrain menggunakan concat antara data numerik yang sudah di scal dan categorical yang sudah di encode\n",
        "X_train_fix= np.concatenate([X_train_scaler, X_train_encode, X_train_ord], axis=1)\n",
        "X_train_fix"
      ]
    },
    {
      "cell_type": "code",
      "execution_count": null,
      "metadata": {
        "id": "coTEhxIuiVHW"
      },
      "outputs": [],
      "source": [
        "#Melakukan kombinasi di xtest menggunakan concat antara data numerik yang sudah di scal dan categorical yang sudah di encode\n",
        "X_test_fix= np.concatenate([X_test_scaler, X_test_encode,X_test_ord], axis=1)\n",
        "X_test_fix"
      ]
    },
    {
      "cell_type": "code",
      "execution_count": null,
      "metadata": {
        "id": "JKfe-TnMCPlG"
      },
      "outputs": [],
      "source": [
        "X_train.columns"
      ]
    },
    {
      "cell_type": "code",
      "execution_count": null,
      "metadata": {
        "id": "dBSG12TBKEXv"
      },
      "outputs": [],
      "source": [
        "X_test.columns"
      ]
    },
    {
      "cell_type": "markdown",
      "metadata": {
        "id": "z2w7mYsYmVhs"
      },
      "source": [
        "##7.MODEL TRAINING"
      ]
    },
    {
      "cell_type": "code",
      "execution_count": null,
      "metadata": {
        "id": "FTRAJOp_9NNQ"
      },
      "outputs": [],
      "source": [
        "#melakukan model training dan pembuatan variable pada pada model evaluasi\n",
        "logreg = LogisticRegression(random_state=0)\n",
        "dtc = DecisionTreeClassifier(random_state=0)\n",
        "rfc = RandomForestClassifier(random_state=0)\n",
        "svc = SVC(random_state=0)\n",
        "knn = KNeighborsClassifier(n_neighbors=3)\n",
        "nb = GaussianNB()\n",
        "xgb = XGBClassifier(n_estimators=10, learning_rate=0.1, max_depth=1, random_state=0)"
      ]
    },
    {
      "cell_type": "markdown",
      "metadata": {
        "id": "6D7tZzQ6iXa2"
      },
      "source": [
        "#8.MODEL EVALUASI"
      ]
    },
    {
      "cell_type": "markdown",
      "metadata": {
        "id": "VgGt23NVorQC"
      },
      "source": [
        "Target Model Yang ingin kita cari adalah yang memberikan nilai recall tertinggi\n",
        "Berikut alasan penjelasannya :\n",
        "\n",
        "Default_payment= 1:true 0:false 1= tidak bayar 0=bayar\n",
        "p 0 a 1  diprediksi mampu bayar padhal tidak mampu bayar\n",
        "false negatif\n",
        "\n",
        "p 1 a 1\n",
        "true positive\n",
        "\n",
        "p 1 a 0 diprediksi ti\n",
        "false positif\n",
        "\n",
        "p 0 a 0\n",
        "true negatif\n",
        "\n",
        "Semakin tinggi recall semakin sedikit false negatif yang dihasilkan oleh model\n",
        "semakin tinggi precision semakin sedikit false positif yang dihsilkan oleh model\n",
        "\n",
        "Maka dari itu kita berupaya menaikan recall supaya prediksi \n",
        "mampu bayar padahal tidak mampu bayar tidak terjadi\n",
        "."
      ]
    },
    {
      "cell_type": "markdown",
      "metadata": {
        "id": "e0Y9YvWopvFg"
      },
      "source": [
        "##8.1.LOGISTIC REGRESSION EVALUATION"
      ]
    },
    {
      "cell_type": "markdown",
      "metadata": {
        "id": "n4qEWYI4QtKT"
      },
      "source": [
        "Logistic regression adalah algoritma untuk memprediksi berdasarkan independet variables."
      ]
    },
    {
      "cell_type": "code",
      "execution_count": null,
      "metadata": {
        "id": "T24NX2CLuc8E"
      },
      "outputs": [],
      "source": [
        "logreg.fit(X_train_fix, y_train)\n",
        "\n",
        "lr_train = logreg.predict(X_train_fix)\n",
        "lr_test = logreg.predict(X_test_fix)\n",
        "\n",
        "print(classification_report(y_train, lr_train))\n",
        "print(classification_report(y_test, lr_test))"
      ]
    },
    {
      "cell_type": "markdown",
      "metadata": {
        "id": "s6WQyFlMp1Ux"
      },
      "source": [
        "##8.2.SVC MODEL EVALUATION"
      ]
    },
    {
      "cell_type": "markdown",
      "metadata": {
        "id": "uiXsjWICRBnh"
      },
      "source": [
        "Support Vector Machines (SVM) adalah metode Supervised learning yang banyak digunakan dan dapat digunakan untuk masalah regresi, klasifikasi, deteksi anomali. Classier berbasis SVM disebut SVC (Support Vector Classifier) dan kita dapat menggunakannya dalam masalah klasifikasi. Ini menggunakan parameter regularisasi C untuk mengoptimalkan margin di hyperplane dan juga disebut C-SVC."
      ]
    },
    {
      "cell_type": "code",
      "execution_count": null,
      "metadata": {
        "id": "5pQSz3aptou9"
      },
      "outputs": [],
      "source": [
        "svc.fit(X_train_fix, y_train)\n",
        "\n",
        "svc_train = svc.predict(X_train_fix)\n",
        "svc_test = svc.predict(X_test_fix)\n",
        "\n",
        "print(classification_report(y_train, svc_train))\n",
        "print(classification_report(y_test, svc_test))"
      ]
    },
    {
      "cell_type": "markdown",
      "metadata": {
        "id": "B59uvegJp-dH"
      },
      "source": [
        "##8.3. DECISION TREE MODEL CLASSIFICATION"
      ]
    },
    {
      "cell_type": "markdown",
      "metadata": {
        "id": "4NCyNYqDR2cK"
      },
      "source": [
        "Decision Tree adalah struktur seperti pohon diagram alur, di mana setiap simpul internal menunjukkan pengujian pada atribut, setiap cabang mewakili hasil pengujian, dan setiap simpul daun (node terminal) memegang label kelas"
      ]
    },
    {
      "cell_type": "code",
      "execution_count": null,
      "metadata": {
        "id": "ReODl6Vfji-L"
      },
      "outputs": [],
      "source": [
        "dtc.fit(X_train_fix, y_train)\n",
        "\n",
        "dtc_train = dtc.predict(X_train_fix)\n",
        "dtc_test = dtc.predict(X_test_fix)\n",
        "\n",
        "print(classification_report(y_train, dtc_train))\n",
        "print(classification_report(y_test, dtc_test))"
      ]
    },
    {
      "cell_type": "markdown",
      "metadata": {
        "id": "u6qxaoJgixyI"
      },
      "source": [
        "##8.4.RANDOM FOREST CLASSIFICATION MODEL"
      ]
    },
    {
      "cell_type": "markdown",
      "metadata": {
        "id": "83BnW2-nS8XO"
      },
      "source": [
        "Random Forest adalah algoritma klasifikasi yang terdiri dari decision tree.  menggunakan bagging dan future randomness ketika membangun setiap pohon individu untuk mencoba membuat hutan pohon yang tidak berkorelasi."
      ]
    },
    {
      "cell_type": "code",
      "execution_count": null,
      "metadata": {
        "id": "nPjf0JLgk1Tm"
      },
      "outputs": [],
      "source": [
        "rfc.fit(X_train_fix, y_train)\n",
        "\n",
        "rfc_train = rfc.predict(X_train_fix)\n",
        "rfc_test = rfc.predict(X_test_fix)\n",
        "\n",
        "print(classification_report(y_train, rfc_train))\n",
        "print(classification_report(y_test, rfc_test))"
      ]
    },
    {
      "cell_type": "markdown",
      "metadata": {
        "id": "Tv5OrFttik_H"
      },
      "source": [
        "##8.5 KNN or k-nearest neighbors MODEL EVALUATION"
      ]
    },
    {
      "cell_type": "markdown",
      "metadata": {
        "id": "qk8_z8EiTtH9"
      },
      "source": [
        "Algoritme k-nearest neighbor, juga dikenal sebagai KNN atau k-NN, adalah classifier pembelajaran non-parametrik yang diawasi, yang menggunakan kedekatan untuk membuat klasifikasi atau prediksi tentang pengelompokan titik data individu."
      ]
    },
    {
      "cell_type": "code",
      "execution_count": null,
      "metadata": {
        "id": "iAaqNsr3y6Ys"
      },
      "outputs": [],
      "source": [
        "knn.fit(X_train_fix, y_train)\n",
        "\n",
        "knn_train = knn.predict(X_train_fix)\n",
        "knn_test = knn.predict(X_test_fix)\n",
        "\n",
        "print(classification_report(y_train, knn_train))\n",
        "print(classification_report(y_test, knn_test))"
      ]
    },
    {
      "cell_type": "markdown",
      "metadata": {
        "id": "Xin5nM1SigSE"
      },
      "source": [
        "##8.6.MODEL EVALUATION NAIVE BAYES"
      ]
    },
    {
      "cell_type": "markdown",
      "metadata": {
        "id": "GtNv3lVlUK5H"
      },
      "source": [
        "Pengklasifikasi Naive Bayes adalah kumpulan algoritma klasifikasi berdasarkan Teorema Bayes. Ini bukan algoritme tunggal tetapi keluarga algoritme di mana semuanya memiliki prinsip yang sama, yaitu setiap pasangan fitur yang diklasifikasikan tidak bergantung satu sama lain."
      ]
    },
    {
      "cell_type": "code",
      "execution_count": null,
      "metadata": {
        "id": "HrcxND9HSG2b"
      },
      "outputs": [],
      "source": [
        "nb.fit(X_train_fix, y_train)\n",
        "\n",
        "nb_train = nb.predict(X_train_fix)\n",
        "nb_test = nb.predict(X_test_fix)\n",
        "\n",
        "print(classification_report(y_train, nb_train))\n",
        "print(classification_report(y_test, nb_test))"
      ]
    },
    {
      "cell_type": "markdown",
      "metadata": {
        "id": "rRbh_M8_ia2h"
      },
      "source": [
        "##8.7. MODEL EVALUATION XGBOOST"
      ]
    },
    {
      "cell_type": "markdown",
      "metadata": {
        "id": "oBXnGoWtU4rA"
      },
      "source": [
        "XGBoost berfungsi melakukan gradient boosting dengan mealukan iterasi berkali - kali"
      ]
    },
    {
      "cell_type": "code",
      "execution_count": null,
      "metadata": {
        "id": "r40qwctIV_Qb"
      },
      "outputs": [],
      "source": [
        "# xgb = xgb.XGBClassifier(n_estimators=10, learning_rate=0.1, max_depth=1, random_state=0)\n",
        "xgb.fit(X_train_fix, y_train)\n",
        "\n",
        "xgb_train = xgb.predict(X_train_fix)\n",
        "xgb_test = xgb.predict(X_test_fix)\n",
        "\n",
        "print(classification_report(y_train, xgb_train))\n",
        "print(classification_report(y_test, xgb_test))"
      ]
    },
    {
      "cell_type": "markdown",
      "metadata": {
        "id": "VIwIQBCyiyGU"
      },
      "source": [
        "##8.8.CROSS VALUATION SCORE"
      ]
    },
    {
      "cell_type": "code",
      "execution_count": null,
      "metadata": {
        "id": "Btt0NCe3orK-"
      },
      "outputs": [],
      "source": [
        "#mengecek all score Classifier\n",
        "classifiers = [logreg, dtc, rfc, svc, knn, nb, xgb]\n",
        "cv = 5\n",
        "\n",
        "for classifier in classifiers:\n",
        "    scores = cross_val_score(classifier, X_train_fix, y_train, scoring=\"recall\", cv=cv)\n",
        "    print(f\"{classifier.__class__.__name__} mean score: {scores.mean()}\")"
      ]
    },
    {
      "cell_type": "markdown",
      "metadata": {
        "id": "RONQzUuAqyq4"
      },
      "source": [
        "Berdasarkan nilai rata - rata dari cross_value_score nilai tertinggi terdapat pada model GaussianNB maka saya memilih model tersebut untuk dilakukan hypertuning,"
      ]
    },
    {
      "cell_type": "markdown",
      "metadata": {
        "id": "hpwobfbalYY9"
      },
      "source": [
        "#HYPERTUNING"
      ]
    },
    {
      "cell_type": "code",
      "execution_count": null,
      "metadata": {
        "id": "o-SbVPiFrG5S"
      },
      "outputs": [],
      "source": [
        "# Define the GaussianNB model\n",
        "gnb = GaussianNB()\n",
        "\n",
        "# Definisikan parameter distribution untuk RandomizedSearchCV\n",
        "param_dist = {'var_smoothing': uniform(0, 1e-9)}\n",
        "\n",
        "# Definisikan  RandomizedSearchCV\n",
        "gnb_randomcv = RandomizedSearchCV(gnb, param_distributions=param_dist,\n",
        "                                  n_iter=100, cv=5, random_state=42,\n",
        "                                  n_jobs=-1, scoring='recall')\n",
        "\n",
        "# Fit RandomizedSearchCV untuk training data\n",
        "gnb_randomcv.fit(X_train_fix, y_train)\n",
        "\n",
        "# Print best parameters\n",
        "print(\"Best parameters: \", gnb_randomcv.best_params_)"
      ]
    },
    {
      "cell_type": "code",
      "execution_count": null,
      "metadata": {
        "id": "lK1Q9FrPVW3i"
      },
      "outputs": [],
      "source": [
        "# dapatkan hyperparameter values terbaik\n",
        "best_params = gnb_randomcv.best_params_"
      ]
    },
    {
      "cell_type": "code",
      "execution_count": null,
      "metadata": {
        "id": "GRlQzYr5VN_s"
      },
      "outputs": [],
      "source": [
        "# Definisikan the final GaussianNB model dengan the best hyperparameters\n",
        "gnb_final = GaussianNB(var_smoothing=best_params['var_smoothing'])\n",
        "\n",
        "# Fit the final model to the entire training dataset\n",
        "gnb_final.fit(X_train_fix, y_train)"
      ]
    },
    {
      "cell_type": "code",
      "execution_count": null,
      "metadata": {
        "id": "77_4aCR4qPvO"
      },
      "outputs": [],
      "source": [
        "#melakukan pengecekan nilai hasil tuning\n",
        "y_pred_test = gnb_final.predict(X_test_fix)\n",
        "\n",
        "print('F1 Score - Test Set   : ', f1_score(y_test, y_pred_test), '\\n')\n",
        "print('Classification Report : \\n', classification_report(y_test, y_pred_test), '\\n')\n",
        "print('Confusion Matrix      : \\n', ConfusionMatrixDisplay.from_estimator(gnb_final, X_test_fix, y_test, cmap='Reds'))"
      ]
    },
    {
      "cell_type": "code",
      "execution_count": null,
      "metadata": {
        "id": "T4ZSBWGcYD-t"
      },
      "outputs": [],
      "source": [
        "#melakukan pengecekan nilai hasil tuning sebelum di tuning\n",
        "y_pred_test = nb.predict(X_test_fix)\n",
        "\n",
        "print('F1 Score - Test Set   : ', f1_score(y_test, y_pred_test), '\\n')\n",
        "print('Classification Report : \\n', classification_report(y_test, y_pred_test), '\\n')\n",
        "print('Confusion Matrix      : \\n', ConfusionMatrixDisplay.from_estimator(nb, X_test_fix, y_test, cmap='Reds'))"
      ]
    },
    {
      "cell_type": "markdown",
      "metadata": {
        "id": "HfuJdO94qOdy"
      },
      "source": [
        "Terdapat kenaikan dari data sebelum tuning 95% menjadi 96% setelah tuning"
      ]
    },
    {
      "cell_type": "markdown",
      "metadata": {
        "id": "E9sgo4yPYk_S"
      },
      "source": [
        "#OVERVIEW EVALUATION"
      ]
    },
    {
      "cell_type": "markdown",
      "metadata": {
        "id": "uydicVG4YZup"
      },
      "source": [
        "- Kita menggunakan berbagai model evaluation dengan tujuan untuk mendapatkan nilai recall terbaik karena kita ingin memperkecil kemungkinan prediksi False Negatif terjadi yaitu diprediksi mampu bayar padhal tidak mampu bayar\n",
        "- Hasil Cross Valuation menunjukan nilai recall tertinggi ada di model Naive Bayes.\n",
        "- Tuning menggunakan randomizedcv mengalami kenaikan sebelumnya nilai sebelum tuning adalah 0.95 menjadi 0.96\n"
      ]
    },
    {
      "cell_type": "markdown",
      "metadata": {
        "id": "QhtLKkVJCOw3"
      },
      "source": [
        "#9.SAVE MODEL"
      ]
    },
    {
      "cell_type": "code",
      "execution_count": null,
      "metadata": {
        "id": "AVXdowTl2Lfi"
      },
      "outputs": [],
      "source": [
        "#Save Model\n",
        "import joblib\n",
        "\n",
        "with open('nb.pkl', 'wb') as file_1:\n",
        "  joblib.dump(gnb, file_1)\n",
        "\n",
        "with open('model_scaler.pkl', 'wb') as file_2:\n",
        "  joblib.dump(mm_scaler, file_2)\n",
        "\n",
        "with open('model_encoder.pkl', 'wb') as file_3:\n",
        "  joblib.dump(enc, file_3)\n",
        "\n",
        "with open('list_num_cols.txt', 'wb') as file_4:\n",
        "  joblib.dump(num_col, file_4)\n",
        "\n",
        "with open('list_cat_cols.txt', 'wb') as file_5:\n",
        "  joblib.dump(cat_col, file_5)"
      ]
    },
    {
      "cell_type": "markdown",
      "metadata": {
        "id": "mX-fBamJa-bC"
      },
      "source": [
        "#10.MODEL INFERENCE\n",
        "\n",
        "1.   List item\n",
        "2.   List item\n",
        "\n"
      ]
    },
    {
      "cell_type": "code",
      "execution_count": null,
      "metadata": {
        "id": "H102P9QOXCcp"
      },
      "outputs": [],
      "source": [
        "#Mengcek Kolom Numerikal\n",
        "num_col"
      ]
    },
    {
      "cell_type": "code",
      "execution_count": null,
      "metadata": {
        "id": "HcUAiTVHgaZw"
      },
      "outputs": [],
      "source": [
        "df.nunique()"
      ]
    },
    {
      "cell_type": "code",
      "execution_count": null,
      "metadata": {
        "id": "2a4EYU9pXHoe"
      },
      "outputs": [],
      "source": [
        "#Mengecek Kolom Categorical\n",
        "cat_col"
      ]
    },
    {
      "cell_type": "code",
      "execution_count": null,
      "metadata": {
        "id": "8DZUni-szrwY"
      },
      "outputs": [],
      "source": [
        "#mengecek info type data pada kolom\n",
        "df.info()"
      ]
    },
    {
      "cell_type": "code",
      "execution_count": null,
      "metadata": {
        "id": "4OkgYLcobn-t"
      },
      "outputs": [],
      "source": []
    },
    {
      "cell_type": "markdown",
      "metadata": {
        "id": "OPr1XucEbl-P"
      },
      "source": []
    },
    {
      "cell_type": "code",
      "execution_count": null,
      "metadata": {
        "id": "p021avAAboYE"
      },
      "outputs": [],
      "source": [
        "#Membuat data Random Untuk menjadi bahan uji Model\n",
        "\n",
        "\n",
        "rng = np.random.default_rng(seed=2895)\n",
        "pay_0 = rng.integers(-10,20, size=30)\n",
        "pay_2 = rng.integers(-10,20, size=30)\n",
        "pay_6 = rng.integers(-10,20, size=30)\n",
        "pay_3 = rng.integers(-10,20, size=30)\n",
        "pay_4 = rng.integers(-10,20, size=30)\n",
        "pay_5 = rng.integers(-10,20, size=30)\n",
        "limit_balance = rng.integers(0,999999, size=30)\n",
        "bill_amt_4 = rng.integers(-50000,20, size=30)\n",
        "age = rng.integers(0,100, size=30)\n",
        "bill_amt_2 = rng.integers(-70\n",
        "0000,700000, size=30)\n",
        "pay_amt_4 = rng.integers(0,1000000, size=30)\n",
        "pay_amt_1 = rng.integers(0,1000000, size=30)\n",
        "pay_amt_5 = rng.integers(0,1000000, size=30)\n",
        "bill_amt_5 = rng.integers(0,1000000, size=30)\n",
        "education_level = rng.choice(['1','2','3','4','5','6'], size=30)\n",
        "marital_status = rng.choice(['0','1','2','3'], size=30)\n",
        "\n",
        "data_inf = pd.DataFrame({'pay_0' : pay_0,'pay_2' : pay_2,'pay_6' : pay_6,'pay_3':pay_3,'pay_4' : pay_4,'pay_5' : pay_5,'limit_balance': limit_balance, 'bill_amt_4': bill_amt_4,'age': age,'bill_amt_2': bill_amt_2,'pay_amt_4': pay_amt_4,'pay_amt_1': pay_amt_1,'pay_amt_5': pay_amt_5,'education_level': education_level,'marital_status': marital_status,'bill_amt_5': bill_amt_5})\n",
        "data_inf"
      ]
    },
    {
      "cell_type": "markdown",
      "metadata": {
        "id": "HBcUc8Lg0zit"
      },
      "source": [
        "##LOAD MODEL"
      ]
    },
    {
      "cell_type": "code",
      "execution_count": null,
      "metadata": {
        "id": "Tm9qZ0K4yj8r"
      },
      "outputs": [],
      "source": [
        "with open('nb.pkl', 'rb') as file_1:\n",
        "  gnb= joblib.load(file_1)\n",
        "\n",
        "with open('model_scaler.pkl', 'rb') as file_2:\n",
        "  model_scaler=joblib.load(file_2)\n",
        "\n",
        "with open('model_encoder.pkl', 'rb') as file_3:\n",
        "  model_encoder= joblib.load(file_3)\n",
        "\n",
        "with open('list_num_cols.txt', 'rb') as file_4:\n",
        "  num_col= joblib.load(file_4)\n",
        "\n",
        "with open('list_cat_cols.txt', 'rb') as file_5:\n",
        "  cat_col= joblib.load(file_5)"
      ]
    },
    {
      "cell_type": "code",
      "execution_count": null,
      "metadata": {
        "id": "4EkZgSKS0_fJ"
      },
      "outputs": [],
      "source": [
        "num_col"
      ]
    },
    {
      "cell_type": "markdown",
      "metadata": {
        "id": "Ovazb9mJ3EB_"
      },
      "source": [
        "SCALING DAN ENCODING"
      ]
    },
    {
      "cell_type": "markdown",
      "metadata": {
        "id": "aUamx2eo3Kpq"
      },
      "source": [
        "scaling the numberical data & encoding data categorical."
      ]
    },
    {
      "cell_type": "code",
      "execution_count": null,
      "metadata": {
        "id": "GkQEHVdw3Cph"
      },
      "outputs": [],
      "source": [
        "#melakukan copy data agar data pada data_inf tidak terganggu\n",
        "data_inf_2=data_inf.copy()"
      ]
    },
    {
      "cell_type": "code",
      "execution_count": null,
      "metadata": {
        "id": "YAddRu9M3R9N"
      },
      "outputs": [],
      "source": [
        "#cek isi colomn numerical\n",
        "data_inf_2[num_col]"
      ]
    },
    {
      "cell_type": "code",
      "execution_count": null,
      "metadata": {
        "id": "aO7skown32ah"
      },
      "outputs": [],
      "source": [
        "#mengecel isi colom categorical pada data_inf_2\n",
        "data_inf_2[cat_col]"
      ]
    },
    {
      "cell_type": "code",
      "execution_count": null,
      "metadata": {
        "id": "41ziQ3bR3-iU"
      },
      "outputs": [],
      "source": [
        "#Mendefinisikan numerik dan categorikal fitur menjadi variabel baru\n",
        "data_inf_num = data_inf[num_col]\n",
        "data_inf_cat_ord = data_inf[cat_col_ord]\n",
        "data_inf_cat_ohe = data_inf[cat_col_ohe]"
      ]
    },
    {
      "cell_type": "code",
      "execution_count": null,
      "metadata": {
        "id": "3vNMdxfi4DmQ"
      },
      "outputs": [],
      "source": [
        "#Melakukan Copy data supaya tidak merubah data_inf\n",
        "data_inf_final= data_inf.copy()"
      ]
    },
    {
      "cell_type": "code",
      "execution_count": null,
      "metadata": {
        "id": "crC8xNes4HjM"
      },
      "outputs": [],
      "source": [
        "#melakukan transfomasi scaling pada numerik dan transformasi one hot pada categorical \n",
        "data_inf_final[num_col]= model_scaler.transform(data_inf_num)\n",
        "df_ohe_inf= model_encoder.transform(data_inf_cat_ohe)\n",
        "df_ord_inf= data_inf_cat_ord"
      ]
    },
    {
      "cell_type": "code",
      "execution_count": null,
      "metadata": {
        "id": "x4OrZO8eJ33k"
      },
      "outputs": [],
      "source": [
        "df_ord_inf"
      ]
    },
    {
      "cell_type": "code",
      "execution_count": null,
      "metadata": {
        "id": "jT-VdH_k4LsC"
      },
      "outputs": [],
      "source": [
        "#melakukan print hasil transform untuk mengecek isi data\n",
        "data_inf_final[num_col]"
      ]
    },
    {
      "cell_type": "code",
      "execution_count": null,
      "metadata": {
        "id": "SvUAsIeK4RxP"
      },
      "outputs": [],
      "source": [
        "df_ohe_inf"
      ]
    },
    {
      "cell_type": "code",
      "execution_count": null,
      "metadata": {
        "id": "mzTZwFCf4YF0"
      },
      "outputs": [],
      "source": [
        "#Melakukan kombinasi data menggunakan fungsi concatenate \n",
        "data_inf = np.concatenate([data_inf_final[num_col],df_ohe_inf,df_ord_inf],axis=1)"
      ]
    },
    {
      "cell_type": "code",
      "execution_count": null,
      "metadata": {
        "id": "HcDvdGRl4dSl"
      },
      "outputs": [],
      "source": [
        "data_inf"
      ]
    },
    {
      "cell_type": "code",
      "execution_count": null,
      "metadata": {
        "id": "wXnqwJN64jPe"
      },
      "outputs": [],
      "source": [
        "# Melakukan prediksi pada data_inf\n",
        "y_pred_inf= nb.predict(data_inf)\n",
        "y_pred_inf"
      ]
    },
    {
      "cell_type": "code",
      "execution_count": null,
      "metadata": {
        "id": "Qx4-kRgj4t3D"
      },
      "outputs": [],
      "source": [
        "#prediction price from data inference\n",
        "data_inf_2['default_predicted'] = nb.predict(data_inf)\n",
        "data_inf_2"
      ]
    },
    {
      "cell_type": "markdown",
      "metadata": {
        "id": "tnDUhJelVy8P"
      },
      "source": [
        "#CONCLUSION"
      ]
    },
    {
      "cell_type": "markdown",
      "metadata": {
        "id": "Y5I1d9mZcLr_"
      },
      "source": [
        "1. Hasil Explorasi data analysis :\n",
        "\n",
        "- Target Data default_payment_next_month imbalance.\n",
        "- Terdapat jumlah sum terbanyak bill_amt_1 dan berurutan ke bill_amt_6.Dan Terdapat High Multicolinearity pada data. Vif yang tinggi tidak perlu kita drop karena model yang kita gunakan tidak linear tidak terganggu oleh multicolinearity.\n",
        "- Pembayaran dilakukan pada pay_amt_1 dan pay_amt_2 bulan terbanyak Agustus dan September. Ditemukan bahwa data memiliki nilai vif yang rendah.\n",
        "- kelas yang banyak tidak melakukan pembayaran ternyata education tingkat 2 memiliki kecendrungan untuk tidak melakukan pembayaran terlihat semakin tinggi education_level semakin mampu nasabah membayar.\n",
        "- Mayoritas Sex ada di nomer 2 yang artinya nasabah terbanyak adalah perempuan\n",
        "- data menunjukan kecendrungan bahwa Single memiliki kemungkinan lebih tinggi untuk tidak membayar dibandingkan dengan yang sudah menikah.\n",
        "- Data menunjukan bahwa mayoritas sum umur 20 dan 30 paling banyak menunggak hal tersebut sejalan dengan jumlah datanya secara count umur 20 dan 30 berada diposisi 1 dan 2 begitu juga dengan jumlah tunggakannya.\n",
        "-  Data menunujukan bahwa presentase tidak mampu bayar terdapat pada umur 40 tahun sebesar 23% dan umur paling mampu bayar ada di umur 30 tahun sebanyak 79%. \n",
        "\n",
        "2. Tujuan kita membuat model adalah meninggikan nilai recall supaya kemungkinan prediksi diprediksi mampu bayar namun aktualnya tidak mampu bayar.Hasil Cross Valuation menunjukan nilai recall tertinggi ada di model Naive Bayes.\n",
        "\n",
        "3. Hasil tuning menggunakan randomcv berhasil menaikan nilai performa recall dari 95% ke 96%\n",
        "\n",
        "4. Model inference dapat berjalan dan runnning dengan normal namun memiliki hasil yang dimana angka 0 pada prediksi defaul_payment lebih sering muncul padahal hal tersebut ingin kita minimalisir hal tersebut disebabkan oleh data yang imbalance, sebaran nilai precision dan recall yg tidak seimbang, dan juga random sample data yang patternya kurang baik sehingga tidak menghasilkan hasil yg tidak diinginkan. "
      ]
    },
    {
      "cell_type": "markdown",
      "metadata": {
        "id": "mcuZUKKB23zY"
      },
      "source": [
        "#MODEL ANALYSIS"
      ]
    },
    {
      "cell_type": "markdown",
      "metadata": {
        "id": "s73tDbzTqxUP"
      },
      "source": [
        "Model yang saya gunakan adalah Naive bayes model karena setelah dilakukan cross valuation score mendapat nilai recall tertinggi karena hal tersebut adalah target model building yang saya inginkan.\n",
        "\n",
        "Fitur yang saya gunakan pada kolom numerik :\n",
        " 'pay_2',\n",
        " 'pay_6',\n",
        " 'pay_3',\n",
        " 'pay_4',\n",
        " 'pay_5',\n",
        " 'limit_balance',\n",
        " 'bill_amt_4',\n",
        " 'age',\n",
        " 'bill_amt_2',\n",
        " 'pay_amt_4',\n",
        " 'pay_amt_1',\n",
        " 'pay_amt_5',\n",
        " 'bill_amt_5']\n",
        "\n",
        "Fitur yang saya gunakan pada kolom categorical :\n",
        "'education_level', 'marital_status', 'default_payment_next_month'\n",
        "\n",
        "Nilai recall saya bisa tinggi dikarenakan mengggunakan fitur yang cukup banyak dan memiliki nilai phik yang tinggi.\n",
        "\n",
        "Kolom numerik saya berlakukan mm_scaller dikarenakan terdapat distribusi data yang tidak normal masih memiliki outlier meskipun sudah saya winsorizer outliernya saya merasa mm_scaler pilihan terbaik.\n",
        "\n",
        "Pada kolom categorik terdapat 2 jenis tipe kategorical data yaitu ordinal= education_level dan nominal=marital_status untuk tipe data nominal tidak saya scaling sedangkan untuk tipe data nominal saya gunakan one hot encoding karena isi data memiliki nilai yang berbeda.\n",
        "\n",
        "selanjutnya saya menggunakan model Naive bayes karena berdasarkan nilai cross valuation memiliki nilai recall tertinggi memiliki nilai 95%.\n",
        "\n",
        "lalu menggunakan menu best params untuk mendapatkan parameter terbaik untuk hypertuning Dengan parameter var_smoothing.\n",
        "\n",
        "Agar nilainya semakin baik saya pergunakan hyperparameter randomsearch.\n",
        "\n",
        "lalu mendapatkan peningkatan nilai sebanyak 1% menjadi 96%.\n",
        "\n",
        "Saran Improvement untuk kedepannya :\n",
        "1. Perhatikan Juga nilai F1 Score supaya ada keseimbangan nilai Recall dan precision.\n",
        "2. Perbaikan Data yang imbalance dengan over sampling,under sampling dan smote.\n",
        "3. Sebelumnya saya juga mencoba melakukan 1 hot encoder ke all dta kategorik dan menghasilkan hasil 98% mungkin kedepannya bisa melakukan hal terebut. Tidak saya jadi pergunakan karena ada tujuan pembelajaran untuk melakukan encoding ordinal pada data anehnya nilai recall malah menurun.\n"
      ]
    },
    {
      "cell_type": "markdown",
      "metadata": {
        "id": "6gHKzjtcV8ZB"
      },
      "source": [
        "\n",
        "CONEPTUAL"
      ]
    },
    {
      "cell_type": "markdown",
      "metadata": {
        "id": "Z456LUabxCre"
      },
      "source": [
        "SOAL"
      ]
    },
    {
      "cell_type": "markdown",
      "metadata": {
        "id": "gVa0GRmbw0K3"
      },
      "source": [
        "1. Apa yang dimaksud dengan criterion pada Decision Tree ? Jelaskan criterion yang kalian pakai dalam kasus ini !\n",
        "\n",
        "2. Jelaskan apa yang dimaksud dengan pruning pada Tree-based model (alasan, definisi, jenis, dll) !\n",
        "\n",
        "3. Bagaimana cara memilih K yang optimal pada KNN ?\n",
        "\n",
        "4. Jelaskan apa yang dimaksud dengan Cross Validation !\n",
        "\n",
        "5. Apa yang dimaksud dengan metrics-metrics berikut : Accuracy, Precision, Recall, F1 Score, dan kapan waktu yang tepat untuk menggunakannya ?"
      ]
    },
    {
      "cell_type": "markdown",
      "metadata": {
        "id": "YzieYMjHw-eA"
      },
      "source": [
        "JAWABAN"
      ]
    },
    {
      "cell_type": "markdown",
      "metadata": {
        "id": "1YqPZUWuxGUX"
      },
      "source": [
        "1. Decision Tree adalah alat pendukung keputusan yang menggunakan model keputusan seperti pohon dan kemungkinan konsekuensinya, termasuk hasil peristiwa kebetulan, biaya sumber daya, dan utilitas. Ini adalah salah satu cara untuk menampilkan algoritme yang hanya berisi pernyataan kontrol bersyarat.\n",
        "Decision Tree umumnya digunakan dalam riset operasi, khususnya dalam analisis keputusan, untuk membantu mengidentifikasi strategi yang paling mungkin mencapai tujuan, tetapi juga merupakan alat yang populer dalam pembelajaran mesin. criterion adalah parameter yang menentukan kualitas split pada decision tree criterion mengevaluasi features dan menentukan fitur yang harus displit.\n",
        "\n",
        "terdapat 2 parameter pada criterion adalah :\n",
        "\n",
        "- Gini Impurity berfungsi untuk mengkalkulasi probabilitas missklasifying. gini imputiy range antara 0 dan 1. 0 artinya semua sample di dalam node ada di kelas yang sama dan 1 mengindikasikan  ada kemungkinan sample untuk kelas yang lainnya.\n",
        "\n",
        "- Entrophy berfungsi untuk memaksimalkan informasi gain. Information gain range between 0 and log2(n_classes) dengan 0 artinya tidak ada pengurangan dalam kualitas saat split dan log2 indikasikan pure split.\n",
        "\n",
        "2. Pruning adalah teknik yang digunakan di dalam tree-based untuk mengurangi kompleksitas pada model dengan mengurangin ranting pada decision tree. tujuan dari pruning adalah untuk improvisasi model dengan mengurangi overfitting\n",
        "\n",
        "3. Dapat Menggunakan 3 metode berikut :  \n",
        "- Metode Cross-Validation: Melakukan pengujian dengan menggunakan beberapa nilai K dan memilih nilai K yang memberikan hasil yang paling baik dari segi akurasi.\n",
        "\n",
        "- Metode Elbow: Melakukan pengujian dengan menggunakan beberapa nilai K dan menentukan nilai K yang memberikan perubahan yang signifikan dalam akurasi.\n",
        "\n",
        "- Metode Silhouette Score: Melakukan pengujian dengan menggunakan beberapa nilai K dan menentukan nilai K yang memberikan skor silhouette yang paling tinggi.\n",
        "\n",
        "4. Ada beberapa metode cross validation diantaranya:\n",
        "\n",
        "- K-fold cross validation: data dibagi menjadi k bagian (k-fold), dan setiap bagian digunakan sebagai data uji sementara sisa k-1 bagian digunakan sebagai data latih. Proses diulang sebanyak k kali dengan menggunakan setiap bagian sebagai data uji.\n",
        "\n",
        "- Leave One Out Cross Validation (LOOCV): data dibagi menjadi n bagian (n adalah jumlah data) dan setiap kali hanya satu data digunakan sebagai data uji sementara sisa n-1 data digunakan sebagai data latih. Proses diulang sebanyak n kali dengan menggunakan setiap data sebagai data uji.\n",
        "\n",
        "- Holdout Method: data dibagi menjadi dua bagian yaitu data latih dan data uji. Data latih digunakan untuk melatih model dan data uji digunakan untuk mengevaluasi kinerja model\n",
        "\n",
        "5.Apa yang dimaksud dengan metrics-metrics berikut : Accuracy, Precision, Recall, F1 Score, dan kapan waktu yang tepat untuk menggunakannya ?\n",
        "\n",
        "- Accuracy adalah rasio dari jumlah prediksi yang benar terhadap jumlah prediksi yang dilakukan. Ini dihitung dengan menjumlahkan jumlah prediksi yang benar dan membagi dengan jumlah total prediksi.\n",
        "Accuracy digunakan jika data tidak seimbang (jumlah data dari kelas yang berbeda tidak sama) atau jika kita ingin mengetahui seberapa baik model dapat mengklasifikasikan data yang diberikan.\n",
        "\n",
        "- Precision adalah rasio dari jumlah prediksi yang benar dari kelas positif terhadap jumlah prediksi yang dilakukan dari kelas positif. Ini dihitung dengan menjumlahkan jumlah prediksi yang benar dari kelas positif dan membagi dengan jumlah total prediksi dari kelas positif.\n",
        "Precision digunakan jika kita ingin mengetahui seberapa baik model dapat mengidentifikasi data yang benar dari kelas positif.\n",
        "\n",
        "- Recall adalah rasio dari jumlah prediksi yang benar dari kelas positif terhadap jumlah total dari kelas positif. Ini dihitung dengan menjumlahkan jumlah prediksi yang benar dari kelas positif dan membagi dengan jumlah total dari kelas positif.\n",
        "Recall digunakan jika kita ingin mengetahui seberapa baik model dapat menemukan semua data dari kelas positif.\n",
        "\n",
        "- F1 Score adalah rata-rata harmonis dari precision dan recall. Ini dihitung dengan mengalikan precision dan recall, kemudian membagi hasilnya dengan jumlah dari kedua nilai tersebut.\n",
        "F1 Score digunakan jika kita ingin mengetahui keseimbangan antara precision dan recall, contohnya jika kita ingin mengetahui seberapa baik model dapat menemukan data dari kelas positif yang benar."
      ]
    }
  ],
  "metadata": {
    "colab": {
      "collapsed_sections": [
        "LjtCHdgnYWpN",
        "u6qxaoJgixyI",
        "Tv5OrFttik_H",
        "Xin5nM1SigSE",
        "rRbh_M8_ia2h"
      ],
      "provenance": []
    },
    "kernelspec": {
      "display_name": "Python 3",
      "name": "python3"
    },
    "language_info": {
      "name": "python"
    }
  },
  "nbformat": 4,
  "nbformat_minor": 0
}